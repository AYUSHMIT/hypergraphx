{
 "cells": [
  {
   "cell_type": "markdown",
   "metadata": {},
   "source": [
    "# ATTENTION: a couple things need to be changed once the library is ready.\n",
    "\n",
    "Here is a list:\n",
    "- the first import, it should simply import the functionalities needed as if hnx is installed, not using `sys.path.append`\n",
    "- the data loading below needs to be changed, ideally, we would only used the utilities provided within the library"
   ]
  },
  {
   "cell_type": "code",
   "execution_count": 1,
   "metadata": {},
   "outputs": [],
   "source": [
    "import sys\n",
    "from collections import Counter\n",
    "\n",
    "import numpy as np\n",
    "import matplotlib.pyplot as plt\n",
    "\n",
    "sys.path.append(\"..\")\n",
    "from hnx.communities.hy_mmsbm.model import HyMMSBM\n",
    "from hnx.core.hypergraph import Hypergraph\n",
    "from hnx.generation.hy_mmsbm_sampling import HyMMSBMSampler\n",
    "from hnx.linalg.linalg import binary_incidence_matrix\n",
    "\n",
    "np.random.seed(123)"
   ]
  },
  {
   "cell_type": "markdown",
   "metadata": {},
   "source": [
    "# Sampling from the *Hy-MMSBM* generative model"
   ]
  },
  {
   "cell_type": "markdown",
   "metadata": {},
   "source": [
    "In this tutorial we will show how to sample synthetic hypergraphs from *Hy-MMSBM* generative model, presented in \n",
    "\n",
    "*A Principled, Flexible and Efficient Framework for Hypergraph Benchmarking* <br />\n",
    "Ruggeri et al. (2022)"
   ]
  },
  {
   "cell_type": "markdown",
   "metadata": {},
   "source": [
    "## Vanilla sampling from the generative model"
   ]
  },
  {
   "cell_type": "markdown",
   "metadata": {},
   "source": [
    "The most vanilla type of sampling can be performed by only providing the affinity matrix $w$ and community assignments $u$, and sampling from the distribution $p(A; w, u)$, where $A$ is the array of hyperedge weights (possibly zero) for all possible exisiting hyperedges.\n",
    "\n",
    "For example, assume we want to sample a hypergraph with $N=60$ nodes and $K=3$ equally-sized assortative communities. In addition, we need to decide the maximum size of the hyperedges that we want to generate. Then, we can obtain a synthetic hypegraph as following."
   ]
  },
  {
   "cell_type": "code",
   "execution_count": 2,
   "metadata": {
    "pycharm": {
     "name": "#%%\n"
    }
   },
   "outputs": [
    {
     "data": {
      "image/png": "[encoded data removed]",
      "text/plain": [
       "<Figure size 360x360 with 2 Axes>"
      ]
     },
     "metadata": {
      "needs_background": "light"
     },
     "output_type": "display_data"
    }
   ],
   "source": [
    "# Diagonal affinity matrix, which results in an assortative structure\n",
    "w = np.eye(3)\n",
    "\n",
    "plt.matshow(w, aspect='auto', cmap='Blues')\n",
    "plt.gcf().set_size_inches(5, 5)\n",
    "plt.title(r'Affinity matrix $w$', fontsize=17)\n",
    "plt.xlabel(r'$K$', fontsize=15)\n",
    "plt.ylabel(r'$K$', fontsize=15)\n",
    "plt.xticks(ticks=[0,1,2], labels=[1,2,3], size=12)\n",
    "plt.tick_params(axis='x', bottom=True, top=False, labelbottom=True, labeltop=False)\n",
    "plt.colorbar()\n",
    "plt.show()"
   ]
  },
  {
   "cell_type": "code",
   "execution_count": 3,
   "metadata": {
    "pycharm": {
     "name": "#%%\n"
    }
   },
   "outputs": [
    {
     "data": {
      "image/png": "[encoded data removed]",
      "text/plain": [
       "<Figure size 360x504 with 2 Axes>"
      ]
     },
     "metadata": {
      "needs_background": "light"
     },
     "output_type": "display_data"
    }
   ],
   "source": [
    "# Community assignments\n",
    "u = np.zeros((60, 3))\n",
    "u[:20, 0] = 1\n",
    "u[20:40, 1] = 1\n",
    "u[40:, 2] = 1\n",
    "\n",
    "plt.matshow(u, aspect='auto', cmap='Blues')\n",
    "plt.gcf().set_size_inches(5, 7)\n",
    "plt.title(r'Community assignments $u$', fontsize=17)\n",
    "plt.xlabel(r'$K$', fontsize=15)\n",
    "plt.ylabel(r'$N$', fontsize=15)\n",
    "plt.xticks(ticks=[0,1,2], labels=[1,2,3], size=12)\n",
    "plt.tick_params(axis='x', bottom=True, top=False, labelbottom=True, labeltop=False)\n",
    "plt.colorbar()\n",
    "plt.show()"
   ]
  },
  {
   "cell_type": "markdown",
   "metadata": {},
   "source": [
    "Notice that the generative parameters are very general: \n",
    "- the affinity $w$ can be any symmetric $K \\times K$ non-nagative matrix \n",
    "- the assignments $u$ can be any $N \\times K$ non-negative matrix, allowing for mixed-membership as well\n",
    "\n",
    "Now initialize the model."
   ]
  },
  {
   "cell_type": "code",
   "execution_count": 4,
   "metadata": {},
   "outputs": [],
   "source": [
    "sampler = HyMMSBMSampler(\n",
    "    w=w, \n",
    "    u=u,\n",
    "    max_hye_size=10,\n",
    ")\n",
    "sample_generator = sampler.sample()"
   ]
  },
  {
   "cell_type": "markdown",
   "metadata": {},
   "source": [
    "Now start the sampling. Recall that the most general form of sampling work as following:\n",
    "- sample the degree and dimension sequences \n",
    "- arrange them in a first hypergraph proposal\n",
    "- mix the hyperedges of the initial proposal via a Markov Chain, and continuously return the results at different steps of the chain\n",
    "\n",
    "Since the Markov Chain can be continuously mixed, the number of samples is unlimited and is represented by a generator, as opposed to a finite-length list. "
   ]
  },
  {
   "cell_type": "code",
   "execution_count": 5,
   "metadata": {
    "pycharm": {
     "name": "#%%\n"
    }
   },
   "outputs": [
    {
     "name": "stdout",
     "output_type": "stream",
     "text": [
      "Getting sample number: 0\n"
     ]
    },
    {
     "ename": "KeyError",
     "evalue": "'Object (0, 16, 52) already exists.'",
     "output_type": "error",
     "traceback": [
      "\u001b[0;31m---------------------------------------------------------------------------\u001b[0m",
      "\u001b[0;31mKeyError\u001b[0m                                  Traceback (most recent call last)",
      "\u001b[0;32m<timed exec>\u001b[0m in \u001b[0;36m<module>\u001b[0;34m\u001b[0m\n",
      "\u001b[0;32m~/PycharmProjects/hoinetx/tutorials/../hnx/generation/hy_mmsbm_sampling.py\u001b[0m in \u001b[0;36msample\u001b[0;34m(self, deg_seq, dim_seq, avg_deg, initial_hyg, allow_rescaling)\u001b[0m\n\u001b[1;32m    144\u001b[0m             \u001b[0mhye_list\u001b[0m \u001b[0;34m=\u001b[0m \u001b[0;34m[\u001b[0m\u001b[0mhye_list\u001b[0m\u001b[0;34m[\u001b[0m\u001b[0midx\u001b[0m\u001b[0;34m]\u001b[0m \u001b[0;32mfor\u001b[0m \u001b[0midx\u001b[0m \u001b[0;32min\u001b[0m \u001b[0mnonzero\u001b[0m\u001b[0;34m]\u001b[0m\u001b[0;34m\u001b[0m\u001b[0;34m\u001b[0m\u001b[0m\n\u001b[1;32m    145\u001b[0m \u001b[0;34m\u001b[0m\u001b[0m\n\u001b[0;32m--> 146\u001b[0;31m             yield Hypergraph(\n\u001b[0m\u001b[1;32m    147\u001b[0m                 \u001b[0;34m[\u001b[0m\u001b[0mhye\u001b[0m \u001b[0;32mfor\u001b[0m \u001b[0mhye\u001b[0m\u001b[0;34m,\u001b[0m \u001b[0mweight\u001b[0m \u001b[0;32min\u001b[0m \u001b[0mzip\u001b[0m\u001b[0;34m(\u001b[0m\u001b[0mhye_list\u001b[0m\u001b[0;34m,\u001b[0m \u001b[0mweights\u001b[0m\u001b[0;34m)\u001b[0m \u001b[0;32mfor\u001b[0m \u001b[0m_\u001b[0m \u001b[0;32min\u001b[0m \u001b[0mrange\u001b[0m\u001b[0;34m(\u001b[0m\u001b[0mweight\u001b[0m\u001b[0;34m)\u001b[0m\u001b[0;34m]\u001b[0m\u001b[0;34m\u001b[0m\u001b[0;34m\u001b[0m\u001b[0m\n\u001b[1;32m    148\u001b[0m             )\n",
      "\u001b[0;32m~/PycharmProjects/hoinetx/tutorials/../hnx/core/hypergraph.py\u001b[0m in \u001b[0;36m__init__\u001b[0;34m(self, edge_list, weighted, weights, metadata)\u001b[0m\n\u001b[1;32m     14\u001b[0m         \u001b[0mself\u001b[0m\u001b[0;34m.\u001b[0m\u001b[0m_max_order\u001b[0m \u001b[0;34m=\u001b[0m \u001b[0;36m0\u001b[0m\u001b[0;34m\u001b[0m\u001b[0;34m\u001b[0m\u001b[0m\n\u001b[1;32m     15\u001b[0m         \u001b[0mself\u001b[0m\u001b[0;34m.\u001b[0m\u001b[0m_edge_list\u001b[0m \u001b[0;34m=\u001b[0m \u001b[0;34m{\u001b[0m\u001b[0;34m}\u001b[0m\u001b[0;34m\u001b[0m\u001b[0;34m\u001b[0m\u001b[0m\n\u001b[0;32m---> 16\u001b[0;31m         \u001b[0mself\u001b[0m\u001b[0;34m.\u001b[0m\u001b[0madd_edges\u001b[0m\u001b[0;34m(\u001b[0m\u001b[0medge_list\u001b[0m\u001b[0;34m,\u001b[0m \u001b[0mweights\u001b[0m\u001b[0;34m=\u001b[0m\u001b[0mweights\u001b[0m\u001b[0;34m,\u001b[0m \u001b[0mmetadata\u001b[0m\u001b[0;34m=\u001b[0m\u001b[0mmetadata\u001b[0m\u001b[0;34m)\u001b[0m\u001b[0;34m\u001b[0m\u001b[0;34m\u001b[0m\u001b[0m\n\u001b[0m\u001b[1;32m     17\u001b[0m \u001b[0;34m\u001b[0m\u001b[0m\n\u001b[1;32m     18\u001b[0m     \u001b[0;32mdef\u001b[0m \u001b[0mis_uniform\u001b[0m\u001b[0;34m(\u001b[0m\u001b[0mself\u001b[0m\u001b[0;34m)\u001b[0m\u001b[0;34m:\u001b[0m\u001b[0;34m\u001b[0m\u001b[0;34m\u001b[0m\u001b[0m\n",
      "\u001b[0;32m~/PycharmProjects/hoinetx/tutorials/../hnx/core/hypergraph.py\u001b[0m in \u001b[0;36madd_edges\u001b[0;34m(self, edge_list, weights, metadata)\u001b[0m\n\u001b[1;32m    123\u001b[0m         \u001b[0;32mif\u001b[0m \u001b[0medge_list\u001b[0m \u001b[0;32mis\u001b[0m \u001b[0;32mnot\u001b[0m \u001b[0;32mNone\u001b[0m\u001b[0;34m:\u001b[0m\u001b[0;34m\u001b[0m\u001b[0;34m\u001b[0m\u001b[0m\n\u001b[1;32m    124\u001b[0m             \u001b[0;32mfor\u001b[0m \u001b[0medge\u001b[0m \u001b[0;32min\u001b[0m \u001b[0medge_list\u001b[0m\u001b[0;34m:\u001b[0m\u001b[0;34m\u001b[0m\u001b[0;34m\u001b[0m\u001b[0m\n\u001b[0;32m--> 125\u001b[0;31m                 self.add_edge(\n\u001b[0m\u001b[1;32m    126\u001b[0m                     \u001b[0medge\u001b[0m\u001b[0;34m,\u001b[0m\u001b[0;34m\u001b[0m\u001b[0;34m\u001b[0m\u001b[0m\n\u001b[1;32m    127\u001b[0m                     \u001b[0mweight\u001b[0m\u001b[0;34m=\u001b[0m\u001b[0mweights\u001b[0m\u001b[0;34m[\u001b[0m\u001b[0mi\u001b[0m\u001b[0;34m]\u001b[0m\u001b[0;34m\u001b[0m\u001b[0;34m\u001b[0m\u001b[0m\n",
      "\u001b[0;32m~/PycharmProjects/hoinetx/tutorials/../hnx/core/hypergraph.py\u001b[0m in \u001b[0;36madd_edge\u001b[0;34m(self, edge, weight, metadata)\u001b[0m\n\u001b[1;32m     74\u001b[0m \u001b[0;34m\u001b[0m\u001b[0m\n\u001b[1;32m     75\u001b[0m         \u001b[0medge\u001b[0m \u001b[0;34m=\u001b[0m \u001b[0mtuple\u001b[0m\u001b[0;34m(\u001b[0m\u001b[0msorted\u001b[0m\u001b[0;34m(\u001b[0m\u001b[0medge\u001b[0m\u001b[0;34m)\u001b[0m\u001b[0;34m)\u001b[0m\u001b[0;34m\u001b[0m\u001b[0;34m\u001b[0m\u001b[0m\n\u001b[0;32m---> 76\u001b[0;31m         \u001b[0midx\u001b[0m \u001b[0;34m=\u001b[0m \u001b[0mself\u001b[0m\u001b[0;34m.\u001b[0m\u001b[0m_attr\u001b[0m\u001b[0;34m.\u001b[0m\u001b[0madd_obj\u001b[0m\u001b[0;34m(\u001b[0m\u001b[0medge\u001b[0m\u001b[0;34m,\u001b[0m \u001b[0mobj_type\u001b[0m\u001b[0;34m=\u001b[0m\u001b[0;34m\"edge\"\u001b[0m\u001b[0;34m)\u001b[0m\u001b[0;34m\u001b[0m\u001b[0;34m\u001b[0m\u001b[0m\n\u001b[0m\u001b[1;32m     77\u001b[0m         \u001b[0morder\u001b[0m \u001b[0;34m=\u001b[0m \u001b[0mlen\u001b[0m\u001b[0;34m(\u001b[0m\u001b[0medge\u001b[0m\u001b[0;34m)\u001b[0m \u001b[0;34m-\u001b[0m \u001b[0;36m1\u001b[0m\u001b[0;34m\u001b[0m\u001b[0;34m\u001b[0m\u001b[0m\n\u001b[1;32m     78\u001b[0m \u001b[0;34m\u001b[0m\u001b[0m\n",
      "\u001b[0;32m~/PycharmProjects/hoinetx/tutorials/../hnx/core/meta_handler.py\u001b[0m in \u001b[0;36madd_obj\u001b[0;34m(self, obj, obj_type)\u001b[0m\n\u001b[1;32m      8\u001b[0m     \u001b[0;32mdef\u001b[0m \u001b[0madd_obj\u001b[0m\u001b[0;34m(\u001b[0m\u001b[0mself\u001b[0m\u001b[0;34m,\u001b[0m \u001b[0mobj\u001b[0m\u001b[0;34m,\u001b[0m \u001b[0mobj_type\u001b[0m\u001b[0;34m=\u001b[0m\u001b[0;32mNone\u001b[0m\u001b[0;34m)\u001b[0m\u001b[0;34m:\u001b[0m\u001b[0;34m\u001b[0m\u001b[0;34m\u001b[0m\u001b[0m\n\u001b[1;32m      9\u001b[0m         \u001b[0;32mif\u001b[0m \u001b[0mobj\u001b[0m \u001b[0;32min\u001b[0m \u001b[0mself\u001b[0m\u001b[0;34m.\u001b[0m\u001b[0mobj2id\u001b[0m\u001b[0;34m:\u001b[0m\u001b[0;34m\u001b[0m\u001b[0;34m\u001b[0m\u001b[0m\n\u001b[0;32m---> 10\u001b[0;31m             \u001b[0;32mraise\u001b[0m \u001b[0mKeyError\u001b[0m\u001b[0;34m(\u001b[0m\u001b[0;34m\"Object {} already exists.\"\u001b[0m\u001b[0;34m.\u001b[0m\u001b[0mformat\u001b[0m\u001b[0;34m(\u001b[0m\u001b[0mobj\u001b[0m\u001b[0;34m)\u001b[0m\u001b[0;34m)\u001b[0m\u001b[0;34m\u001b[0m\u001b[0;34m\u001b[0m\u001b[0m\n\u001b[0m\u001b[1;32m     11\u001b[0m         \u001b[0mself\u001b[0m\u001b[0;34m.\u001b[0m\u001b[0mid2obj\u001b[0m\u001b[0;34m[\u001b[0m\u001b[0mself\u001b[0m\u001b[0;34m.\u001b[0m\u001b[0mid\u001b[0m\u001b[0;34m]\u001b[0m \u001b[0;34m=\u001b[0m \u001b[0mobj\u001b[0m\u001b[0;34m\u001b[0m\u001b[0;34m\u001b[0m\u001b[0m\n\u001b[1;32m     12\u001b[0m         \u001b[0mself\u001b[0m\u001b[0;34m.\u001b[0m\u001b[0mobj2id\u001b[0m\u001b[0;34m[\u001b[0m\u001b[0mobj\u001b[0m\u001b[0;34m]\u001b[0m \u001b[0;34m=\u001b[0m \u001b[0mself\u001b[0m\u001b[0;34m.\u001b[0m\u001b[0mid\u001b[0m\u001b[0;34m\u001b[0m\u001b[0;34m\u001b[0m\u001b[0m\n",
      "\u001b[0;31mKeyError\u001b[0m: 'Object (0, 16, 52) already exists.'"
     ]
    }
   ],
   "source": [
    "%%time\n",
    "\n",
    "for i in range(10):\n",
    "    print(\"Getting sample number:\", i)\n",
    "    new_sample = next(sample_generator)\n",
    "\n",
    "# Get some more samples later in the code\n",
    "print(\"Getting another couple of samples...\")\n",
    "_ = next(sample_generator)\n",
    "_ = next(sample_generator)"
   ]
  },
  {
   "cell_type": "markdown",
   "metadata": {},
   "source": [
    "The obtained samples are a `hnx.core.hypergraph.Hypergraph` instance."
   ]
  },
  {
   "cell_type": "code",
   "execution_count": null,
   "metadata": {
    "pycharm": {
     "name": "#%%\n"
    }
   },
   "outputs": [
    {
     "name": "stdout",
     "output_type": "stream",
     "text": [
      "Extracted sample with N=60 nodes and |E|=820 hyperedges.\n"
     ]
    }
   ],
   "source": [
    "sample = next(sample_generator)\n",
    "print(f\"Extracted sample with N={sample.num_nodes()} nodes and |E|={sample.num_edges()} hyperedges.\")"
   ]
  },
  {
   "cell_type": "markdown",
   "metadata": {},
   "source": [
    "Notice, however, that all the samples generated from the same call of `HyMMSBMSampler.sample` will have the same degree and size sequence. To have a completely new sample, a new call to the method is needed."
   ]
  },
  {
   "cell_type": "markdown",
   "metadata": {},
   "source": [
    "## Conditioning the sampling with additional inputs"
   ]
  },
  {
   "cell_type": "markdown",
   "metadata": {},
   "source": [
    "There are two main ways to further condition the sampling procedure:\n",
    "- by providing a degree sequence or a size sequence (or both);\n",
    "- by providing an existing hypergraph to condition on."
   ]
  },
  {
   "cell_type": "markdown",
   "metadata": {},
   "source": [
    "#### 1. Providing input sequences"
   ]
  },
  {
   "cell_type": "markdown",
   "metadata": {},
   "source": [
    "The degree sequence is a numpy array of length $N$, specifying the degree of each node. \n",
    "The dimension sequence is a dictionary with key-value pairs `{size: count}` specifying the number of the hyperedges of every given size.\n",
    "\n",
    "If one of these sequences is provided, then all the samples will respect it *exactly*. If both are provided, then one is modified in case they are not compatible. However, in case both are provided and come from an already existing hypergraph, we suggest directly providing the hypergraph as input (see next section).\n",
    "\n",
    "For example, to provide the degree sequence:"
   ]
  },
  {
   "cell_type": "code",
   "execution_count": null,
   "metadata": {
    "pycharm": {
     "name": "#%%\n"
    }
   },
   "outputs": [
    {
     "name": "stdout",
     "output_type": "stream",
     "text": [
      "Does the sample have same degree sequence as the input one? True\n"
     ]
    },
    {
     "name": "stderr",
     "output_type": "stream",
     "text": [
      "../hnx/generation/hy_mmsbm_sampling.py:131: RuntimeWarning: divide by zero encountered in log\n",
      "  log_poisson = np.log(\n"
     ]
    }
   ],
   "source": [
    "w = np.eye(3)\n",
    "u = np.zeros((200, 3))\n",
    "u[:66, 0] = 1\n",
    "u[66:133, 1] = 1\n",
    "u[133:, 2] = 1\n",
    "\n",
    "deg_seq = np.random.randint(low=1, high=5, size=200)\n",
    "\n",
    "sampler = HyMMSBMSampler(\n",
    "    w=w, \n",
    "    u=u,\n",
    "    max_hye_size=4,\n",
    ")\n",
    "sample_generator = sampler.sample(deg_seq=deg_seq)\n",
    "sample = next(sample_generator)\n",
    "\n",
    "print(\n",
    "    \"Does the sample have same degree sequence as the input one?\", \n",
    "    np.all(binary_incidence_matrix(sample).sum(axis=1) == deg_seq)\n",
    ")"
   ]
  },
  {
   "cell_type": "markdown",
   "metadata": {},
   "source": [
    "Notice that, due to the approximations in the MCMC procedure, sometimes the degree sequence in the samples could very slightly deviate from the input one. \n",
    "\n",
    "Similarly, to provide the dimension sequence:"
   ]
  },
  {
   "cell_type": "code",
   "execution_count": null,
   "metadata": {
    "pycharm": {
     "name": "#%%\n"
    }
   },
   "outputs": [
    {
     "name": "stdout",
     "output_type": "stream",
     "text": [
      "Does the sample have same dimension sequence as the input one? True\n"
     ]
    }
   ],
   "source": [
    "# 10 hyperedges of size 3, 7 hyperedges of size 4, etc...\n",
    "dim_seq = {\n",
    "    3: 10,\n",
    "    4: 7,\n",
    "    7: 5,\n",
    "    9: 5,\n",
    "    12: 3,\n",
    "}\n",
    "\n",
    "sampler = HyMMSBMSampler(\n",
    "    w=w, \n",
    "    u=u,\n",
    "    max_hye_size=4,\n",
    ")\n",
    "sample_generator = sampler.sample(dim_seq=dim_seq)\n",
    "sample = next(sample_generator)\n",
    "\n",
    "print(\n",
    "    \"Does the sample have same dimension sequence as the input one?\", \n",
    "    dict(Counter(len(hye) for hye in sample)) == dim_seq\n",
    ")"
   ]
  },
  {
   "cell_type": "markdown",
   "metadata": {},
   "source": [
    "#### 2. Providing an input hypergraph"
   ]
  },
  {
   "cell_type": "markdown",
   "metadata": {},
   "source": [
    "Providing a hypergraph as input is statically equivalent to providing its degree and size sequence, however computationally much cheaper.\n",
    "\n",
    "For example, one can condition on the Justice dataset but use arbitrary $w, u$. In this case, we provide the initial configuration of the Markov Chain as the list of hyperedges observed in the data."
   ]
  },
  {
   "cell_type": "markdown",
   "metadata": {},
   "source": [
    "# TODO CHANGE DATASET LOADING HERE"
   ]
  },
  {
   "cell_type": "code",
   "execution_count": null,
   "metadata": {
    "pycharm": {
     "name": "#%%\n"
    }
   },
   "outputs": [],
   "source": [
    "def line_to_hyperedge(line):\n",
    "    hye = line\n",
    "    hye = line.strip(\"\\n\")\n",
    "    hye = [int(node) for node in line.split(\" \")]\n",
    "    return hye\n",
    "\n",
    "# Load Justice dataset.\n",
    "with open(\"./_example_data/justice_data/hyperedges.txt\", \"r\") as hye_file:\n",
    "    with open(\"./_example_data/justice_data/weights.txt\", \"r\") as weight_file:\n",
    "        justice = Hypergraph([\n",
    "            line_to_hyperedge(hye)\n",
    "            for hye, weight in zip(hye_file.readlines(), weight_file.readlines())\n",
    "        ])\n",
    "\n",
    "N = justice.num_nodes()\n",
    "K = 2  # arbitrarily chosen\n",
    "\n",
    "w = np.eye(K)\n",
    "# Random hard community assignments.\n",
    "u = np.zeros((N, K))\n",
    "u[np.arange(N), np.random.randint(0, K, size=N)] = 1  "
   ]
  },
  {
   "cell_type": "code",
   "execution_count": null,
   "metadata": {
    "pycharm": {
     "name": "#%%\n"
    }
   },
   "outputs": [],
   "source": [
    "model = HyMMSBMSampler(\n",
    "    u=u, \n",
    "    w=w,\n",
    ")\n",
    "sample_generator = model.sample(initial_hyg=justice)\n",
    "_ = next(sample_generator)"
   ]
  },
  {
   "cell_type": "markdown",
   "metadata": {},
   "source": [
    "## Pre-adjusting the expected statistics"
   ]
  },
  {
   "cell_type": "markdown",
   "metadata": {},
   "source": [
    "Many times, providing $w, u$ has no clear implications on the expected statistics of the model. \n",
    "\n",
    "For example, we might want to rescale the parameters so as to obtain a given expected degree. This can be done prior to sampling, since the expected degree can be computed in closed form, and is linear in $w$ (or quadratic in $u$). The rescaled parameters can then be used for sampling as normal.\n",
    "\n",
    "Take once again the simple case of three equally-sized and assortative communities."
   ]
  },
  {
   "cell_type": "code",
   "execution_count": null,
   "metadata": {
    "pycharm": {
     "name": "#%%\n"
    }
   },
   "outputs": [
    {
     "data": {
      "text/plain": [
       "53.75039682539682"
      ]
     },
     "execution_count": 11,
     "metadata": {},
     "output_type": "execute_result"
    }
   ],
   "source": [
    "# Diagonal affinity matrix\n",
    "w = np.eye(3)\n",
    "\n",
    "# Community assignments\n",
    "u = np.zeros((60, 3))\n",
    "u[:20, 0] = 1\n",
    "u[20:40, 1] = 1\n",
    "u[40:, 2] = 1\n",
    "\n",
    "max_hye_size=10\n",
    "\n",
    "model = HyMMSBM(\n",
    "    u=u, \n",
    "    w=w,\n",
    "    max_hye_size=max_hye_size\n",
    ")\n",
    "orig_deg = model.expected_degree()\n",
    "orig_deg"
   ]
  },
  {
   "cell_type": "markdown",
   "metadata": {},
   "source": [
    "To obtain, for example, an expected degree of 100, one can simply rescale $w$ or $u$."
   ]
  },
  {
   "cell_type": "code",
   "execution_count": null,
   "metadata": {
    "pycharm": {
     "name": "#%%\n"
    }
   },
   "outputs": [
    {
     "name": "stdout",
     "output_type": "stream",
     "text": [
      "Expected degree when rescaling w: 100.0\n",
      "Expected degree when rescaling u: 100.00000000000001\n"
     ]
    }
   ],
   "source": [
    "new_deg = 100\n",
    "\n",
    "rescaled_w = w / orig_deg * new_deg\n",
    "new_w_model = model = HyMMSBM(\n",
    "    u=u, \n",
    "    w=rescaled_w,\n",
    "    max_hye_size=max_hye_size\n",
    ")\n",
    "print(\"Expected degree when rescaling w:\", new_w_model.expected_degree())\n",
    "\n",
    "rescaled_u = u / np.sqrt(orig_deg) * np.sqrt(new_deg)\n",
    "new_u_model = HyMMSBM(\n",
    "    u=rescaled_u, \n",
    "    w=w,\n",
    "    max_hye_size=max_hye_size\n",
    ")\n",
    "print(\"Expected degree when rescaling u:\", new_u_model.expected_degree())"
   ]
  }
 ],
 "metadata": {
  "kernelspec": {
   "display_name": "Python 3",
   "language": "python",
   "name": "python3"
  },
  "language_info": {
   "codemirror_mode": {
    "name": "ipython",
    "version": 3
   },
   "file_extension": ".py",
   "mimetype": "text/x-python",
   "name": "python",
   "nbconvert_exporter": "python",
   "pygments_lexer": "ipython3",
   "version": "3.9.9"
  },
  "vscode": {
   "interpreter": {
    "hash": "aee8b7b246df8f9039afb4144a1f6fd8d2ca17a180786b69acc140d282b71a49"
   }
  }
 },
 "nbformat": 4,
 "nbformat_minor": 1
}
