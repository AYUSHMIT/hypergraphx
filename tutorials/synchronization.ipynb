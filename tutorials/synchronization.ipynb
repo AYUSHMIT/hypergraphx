{
 "cells": [
  {
   "attachments": {},
   "cell_type": "markdown",
   "metadata": {},
   "source": [
    "# TODO: \n",
    "1. import of hnx in first cell."
   ]
  },
  {
   "cell_type": "code",
   "execution_count": 1,
   "metadata": {},
   "outputs": [],
   "source": [
    "import sys\n",
    "\n",
    "import numpy as np\n",
    "import matplotlib.pyplot as plt\n",
    "\n",
    "sys.path.append(\"..\")\n",
    "from hnx.core.hypergraph import Hypergraph\n",
    "from hnx.linalg.linalg import compute_multiorder_laplacian, laplacian_matrices_all_orders\n",
    "from hnx.dynamics.synch import higher_order_MSF\n",
    "\n",
    "from scipy.linalg import eigh\n",
    "\n",
    "np.random.seed(123)"
   ]
  },
  {
   "cell_type": "code",
   "execution_count": 2,
   "metadata": {},
   "outputs": [],
   "source": [
    "# definition of the higher-order network\n",
    "edge_list = [[0,7],[1,2],[1,7],[2,7],[3,7],[4,7],[5,7],[6,7],[1,2,7],[4,5,6],[4,5,7],[4,6,7],[5,6,7],[4,5,6,7]]\n",
    "hypergraph = Hypergraph(edge_list)\n",
    "\n",
    "N = hypergraph.num_nodes()\n",
    "\n",
    "# definition of the coupling coefficients, i.e., the strength of each order of interaction \n",
    "sigmas = [1,1,1]"
   ]
  },
  {
   "attachments": {},
   "cell_type": "markdown",
   "metadata": {},
   "source": [
    "## Analysis of the multiorder Laplacian matrix\n",
    "Here we show how to analyze the multiorder Laplacian matrix defined for synchronization in higher-order networks.\n",
    "\n",
    "Source: \n",
    "\n",
    "Lucas M., Cencetti G., Battiston F., _Multiorder Laplacian for synchronization in higher-order networks_, Physical Review Research *2*, 033410 (2020)\n"
   ]
  },
  {
   "cell_type": "code",
   "execution_count": 3,
   "metadata": {},
   "outputs": [
    {
     "name": "stdout",
     "output_type": "stream",
     "text": [
      "[[ 0.  0.  0.  0.  0.  0.  0.  0.]\n",
      " [ 0.  2. -1.  0.  0.  0.  0. -1.]\n",
      " [ 0. -1.  2.  0.  0.  0.  0. -1.]\n",
      " [ 0.  0.  0.  0.  0.  0.  0.  0.]\n",
      " [ 0.  0.  0.  0.  6. -2. -2. -2.]\n",
      " [ 0.  0.  0.  0. -2.  6. -2. -2.]\n",
      " [ 0.  0.  0.  0. -2. -2.  6. -2.]\n",
      " [ 0. -1. -1.  0. -2. -2. -2.  8.]]\n"
     ]
    }
   ],
   "source": [
    "# We can compute the Laplacian matrix for the different orders of interaction with\n",
    "laplacians = laplacian_matrices_all_orders(hypergraph)\n",
    "\n",
    "# for instance, the Laplacian matrix of order 2, i.e., the Laplacian matrix for three-body interactions, is given by\n",
    "print(laplacians[2].todense())\n"
   ]
  },
  {
   "cell_type": "code",
   "execution_count": 4,
   "metadata": {},
   "outputs": [
    {
     "name": "stdout",
     "output_type": "stream",
     "text": [
      "[[ 0.5    0.     0.     0.     0.     0.     0.    -0.5  ]\n",
      " [ 0.     2.067 -1.033  0.     0.     0.     0.    -1.033]\n",
      " [ 0.    -1.033  2.067  0.     0.     0.     0.    -1.033]\n",
      " [ 0.     0.     0.     0.5    0.     0.     0.    -0.5  ]\n",
      " [ 0.     0.     0.     0.     9.7   -3.067 -3.067 -3.567]\n",
      " [ 0.     0.     0.     0.    -3.067  9.7   -3.067 -3.567]\n",
      " [ 0.     0.     0.     0.    -3.067 -3.067  9.7   -3.567]\n",
      " [-0.5   -1.033 -1.033 -0.5   -3.567 -3.567 -3.567 13.767]]\n"
     ]
    }
   ],
   "source": [
    "# We can compute the multiorder Laplacian with\n",
    "multiorder_laplacian = compute_multiorder_laplacian(hypergraph,sigmas)\n",
    "\n",
    "print(multiorder_laplacian.toarray().round(3))"
   ]
  },
  {
   "cell_type": "code",
   "execution_count": 5,
   "metadata": {},
   "outputs": [
    {
     "name": "stdout",
     "output_type": "stream",
     "text": [
      "[1.36175793e-16 5.00000000e-01 6.05839850e-01 1.44725527e+00\n",
      " 3.10000000e+00 1.27666667e+01 1.27666667e+01 1.68135715e+01]\n"
     ]
    }
   ],
   "source": [
    "# The stability of a system of Kuramoto oscillators depends on the spectrum of the multiorder Laplacian\n",
    "spectrum = eigh(multiorder_laplacian.toarray(), eigvals_only=True)\n",
    "\n",
    "print(spectrum)"
   ]
  },
  {
   "attachments": {},
   "cell_type": "markdown",
   "metadata": {},
   "source": [
    "## Master Stability Function\n",
    "Here we show how to evaluate the Master Stability Function for synchronization in higher-order networks.\n",
    "\n",
    "Source: \n",
    "\n",
    "Gambuzza L.V., Di Patti F., Gallo L., Lepri S., Romance M., Criado R., Frasca M., Latora V., Boccaletti S., _Stability of synchronization in simplicial complexes_, Nature Communications *12*(1), 1-13 (2021)\n"
   ]
  },
  {
   "attachments": {},
   "cell_type": "markdown",
   "metadata": {},
   "source": [
    "We want to study the synchronization of a system of coupled dynamical systems in presence of with higher-order interactions. We assume the dynamics of the system to be governed by the equation:\n",
    "\n",
    "${\\dot{{\\bf{x}}}}_{i}=\t \\, {\\bf{f}}({{\\bf{x}}}_{i})+{\\sigma }_{1}\\mathop{\\sum }\\limits_{{j}_{1}=1}^{N}{a}_{i{j}_{1}}^{(1)}{{\\bf{g}}}^{(1)}({{\\bf{x}}}_{i},{{\\bf{x}}}_{{j}_{1}}) \\, \t+{\\sigma }_{2}\\mathop{\\sum }\\limits_{{j}_{1}=1}^{N}\\mathop{\\sum }\\limits_{{j}_{2}=1}^{N}{a}_{i{j}_{1}{j}_{2}}^{(2)}{{\\bf{g}}}^{(2)}({{\\bf{x}}}_{i},{{\\bf{x}}}_{{j}_{1}},{{\\bf{x}}}_{{j}_{2}})+\\ldots \\, \t+{\\sigma }_{D}\\mathop{\\sum }\\limits_{{j}_{1}=1}^{N}...\\mathop{\\sum }\\limits_{{j}_{D}=1}^{N}{a}_{i{j}_{1}....{j}_{D}}^{(D)}{{\\bf{g}}}^{(D)}({{\\bf{x}}}_{i},{{\\bf{x}}}_{{j}_{1}},...,{{\\bf{x}}}_{{j}_{D}}).$\n",
    "\n",
    "In this tutorial, we assume the coupling functions to be diffusive-like, namely:\n",
    "\n",
    "${{\\bf{g}}}^{(d)}({{\\bf{x}}}_{i},{{\\bf{x}}}_{{j}_{1}},...,{{\\bf{x}}}_{{j}_{d}}) = {{\\bf{h}}}^{(d)}({{\\bf{x}}}_{{j}_{1}},...,{{\\bf{x}}}_{{j}_{d}}) - {{\\bf{h}}}^{(d)}({{\\bf{x}}}_{i},{{\\bf{x}}}_{{i}},...,{{\\bf{x}}}_{{i}}).$"
   ]
  },
  {
   "cell_type": "code",
   "execution_count": 8,
   "metadata": {},
   "outputs": [],
   "source": [
    "# To evaluate the MSF we need to define the coupling function F, its Jacobian matrix JF, \n",
    "# as well as the Jacobian matrix of the coupling function, JH.\n",
    "# In this tutorial, we will consider a system of Rossler oscillators, coupled through cubic functions\n",
    "def rossler_system(t, X, a, b, c):\n",
    "    x,y,z = X\n",
    "\n",
    "    dxdt = - y - z\n",
    "    dydt = x + a*y\n",
    "    dzdt = b + z*(x - c)\n",
    "\n",
    "    return [dxdt,dydt,dzdt]\n",
    "\n",
    "def jacobian_rossler(X, a, b, c):\n",
    "    x,y,z = X\n",
    "\n",
    "    dFxdX = [0, -1, -1]\n",
    "    dFydX = [1, a, 0]\n",
    "    dFzdX = [z, 0, x - c] \n",
    "\n",
    "    return [dFxdX, dFydX, dFzdX]\n",
    "\n",
    "def jacobian_coupling(X):\n",
    "    x,y,z = X\n",
    "\n",
    "    dHxdX = [3*(x**2), 0, 0]\n",
    "    dHydX = [0, 0, 0]\n",
    "    dHzdX = [0, 0, 0] \n",
    "\n",
    "    return [dHxdX, dHydX, dHzdX]"
   ]
  },
  {
   "cell_type": "code",
   "execution_count": null,
   "metadata": {},
   "outputs": [],
   "source": []
  }
 ],
 "metadata": {
  "kernelspec": {
   "display_name": "base",
   "language": "python",
   "name": "python3"
  },
  "language_info": {
   "codemirror_mode": {
    "name": "ipython",
    "version": 3
   },
   "file_extension": ".py",
   "mimetype": "text/x-python",
   "name": "python",
   "nbconvert_exporter": "python",
   "pygments_lexer": "ipython3",
   "version": "3.9.15"
  },
  "orig_nbformat": 4,
  "vscode": {
   "interpreter": {
    "hash": "32aaecebd078ebf0fad58c11ce872e322c9fff2b8f0b0f5a9c84d62363eabb98"
   }
  }
 },
 "nbformat": 4,
 "nbformat_minor": 2
}
