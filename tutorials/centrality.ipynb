{
 "cells": [
  {
   "cell_type": "code",
   "execution_count": 1,
   "metadata": {},
   "outputs": [],
   "source": [
    "import sys\n",
    "sys.path.append(\"..\")\n",
    "#from collections import Counter\n",
    "\n",
    "#import numpy as np\n",
    "import matplotlib.pyplot as plt\n",
    "from hypergraphx.generation.random import *\n",
    "from hypergraphx.measures.eigen_centralities import *\n",
    "np.random.seed(123)\n",
    "\n",
    "# SVG OUTPUT for plots\n",
    "%config InlineBackend.figure_format = 'svg'"
   ]
  },
  {
   "cell_type": "code",
   "execution_count": 2,
   "metadata": {},
   "outputs": [],
   "source": [
    "HG = random_hypergraph(5, {2:7 , 3: 5, 4: 3})"
   ]
  },
  {
   "cell_type": "code",
   "execution_count": 3,
   "metadata": {},
   "outputs": [
    {
     "data": {
      "text/plain": [
       "False"
      ]
     },
     "execution_count": 3,
     "metadata": {},
     "output_type": "execute_result"
    }
   ],
   "source": [
    "HG.is_uniform()"
   ]
  },
  {
   "cell_type": "code",
   "execution_count": 4,
   "metadata": {},
   "outputs": [
    {
     "data": {
      "text/plain": [
       "(True, True)"
      ]
     },
     "execution_count": 4,
     "metadata": {},
     "output_type": "execute_result"
    }
   ],
   "source": [
    "HG = HG.get_edges(order=3, subhypergraph=True)\n",
    "HG.is_uniform(), HG.is_connected()"
   ]
  },
  {
   "cell_type": "code",
   "execution_count": 5,
   "metadata": {},
   "outputs": [
    {
     "data": {
      "text/plain": [
       "[(1, 2, 3, 4), (0, 2, 3, 4), (0, 1, 3, 4)]"
      ]
     },
     "execution_count": 5,
     "metadata": {},
     "output_type": "execute_result"
    }
   ],
   "source": [
    "HG.get_edges()"
   ]
  },
  {
   "cell_type": "code",
   "execution_count": 6,
   "metadata": {},
   "outputs": [],
   "source": [
    "# it work just for uniform hypergraphs\n",
    "def CEC_centrality(HG):\n",
    "    '''\n",
    "    Compute the CEC centrality for uniform hypergraphs.\n",
    "\n",
    "    Parameters\n",
    "    ----------\n",
    "    \n",
    "    HG : Hypergraph\n",
    "        The uniform hypergraph on which the CEC centrality is computed.\n",
    "    \n",
    "    Returns\n",
    "    -------\n",
    "    cec : dict \n",
    "        The dictionary of keys nodes of HG and values the CEC centrality of the node.\n",
    "\n",
    "        \n",
    "    References\n",
    "    ----------\n",
    "    Three Hypergraph Eigenvector Centralities,\n",
    "    Austin R. Benson,\n",
    "    https://doi.org/10.1137/18M1203031  \n",
    "    \n",
    "    '''\n",
    "\n",
    "    # check if the hypergraph is uniform, use raise exception\n",
    "    if not HG.is_uniform():\n",
    "        raise Exception(\"The hypergraph is not uniform.\")\n",
    "    # check if HG is connected, use raise exception\n",
    "    if not HG.is_connected():\n",
    "        raise Exception(\"The hypergraph is not connected.\")\n",
    "    # define W, matrix N x N where i,j is the number of common edges between i and j\n",
    "    W = np.zeros((HG.num_nodes(), HG.num_nodes()))\n",
    "    order = len(HG.get_edges()[0])\n",
    "    for edge in HG.get_edges():\n",
    "        for i in range(order):\n",
    "            for j in range(i + 1, order):\n",
    "                W[edge[i], edge[j]] += 1\n",
    "                W[edge[j], edge[i]] += 1\n",
    "    # compute the dominant eigenvector of W\n",
    "    eigval, eigvec = np.linalg.eig(W)\n",
    "    # return a dictionary of keys nodes of HG and values the corresponding element of the dominant eigenvector\n",
    "    dominant_eig = eigvec[:, np.argmax(eigval)]\n",
    "    return {node: dominant_eig[node] for node in range(HG.num_nodes())}\n",
    "\n"
   ]
  },
  {
   "cell_type": "code",
   "execution_count": 7,
   "metadata": {},
   "outputs": [],
   "source": [
    "# for a HG of order m, create a tensor of order m+1 where i,j,k... is 1 if the hyperedge (i,j,k...) is in HG and 0 otherwise\n",
    "def adjacency_tensor(HG):\n",
    "    '''\n",
    "    Compute the tensor of a uniform hypergraph.\n",
    "\n",
    "    Parameters\n",
    "    ----------\n",
    "    \n",
    "    HG : Hypergraph\n",
    "        The uniform hypergraph on which the tensor is computed.\n",
    "    \n",
    "    Returns\n",
    "    -------\n",
    "    T : np.ndarray\n",
    "        The tensor of the hypergraph.\n",
    "    '''\n",
    "    # check if the hypergraph is uniform, use raise exception\n",
    "    if not HG.is_uniform():\n",
    "        raise Exception(\"The hypergraph is not uniform.\")\n",
    "    \n",
    "    order = len(HG.get_edges()[0]) -1\n",
    "    # create a tensor order dimensional tensor\n",
    "    T = np.zeros((HG.num_nodes(),)*(order+1))\n",
    "    # for each hyperedge in HG\n",
    "    for edge in HG.get_edges():\n",
    "        # set to 1 the corresponding element of T and all the permutations of the hyperedge\n",
    "        from itertools import permutations\n",
    "        for perm in permutations(edge):\n",
    "\n",
    "            T[tuple(perm)] = 1\n",
    "            \n",
    "    return T\n",
    "\n",
    "# compute the dominant eigenvector of the tensor with iterative method\n",
    "# def tensor_dominant_eigenvector(T):\n",
    "#     '''\n",
    "#     Compute the dominant eigenvector of a tensor.\n",
    "\n",
    "#     Parameters\n",
    "#     ----------\n",
    "    \n",
    "#     T : np.ndarray\n",
    "#         The tensor on which the dominant eigenvector is computed.\n",
    "    \n",
    "#     Returns\n",
    "#     -------\n",
    "#     dominant_eig : np.ndarray\n",
    "#         The dominant eigenvector of the tensor.\n",
    "#     '''\n",
    "\n",
    "#     check_list = []\n",
    "#     v = np.random.rand(np.shape(adjacency_tensor(HG))[0])\n",
    "#     v = v / sum(v)  \n",
    "    \n",
    "#     for iter in range(100):\n",
    "#         aux = T @ v\n",
    "#         for i in range(len(np.shape(adjacency_tensor(HG)))-2):\n",
    "#             aux = (aux @ v ).copy()\n",
    "#         #v = aux / sum(aux)\n",
    "#         check_list.append(aux)\n",
    "#     return check_list"
   ]
  },
  {
   "cell_type": "code",
   "execution_count": 8,
   "metadata": {},
   "outputs": [],
   "source": [
    "adj_T = adjacency_tensor(HG)\n"
   ]
  },
  {
   "cell_type": "code",
   "execution_count": 9,
   "metadata": {},
   "outputs": [
    {
     "data": {
      "text/plain": [
       "Text(0, 0.5, 'Centrality')"
      ]
     },
     "execution_count": 9,
     "metadata": {},
     "output_type": "execute_result"
    },
    {
     "data": {
      "image/svg+xml": "<?xml version=\"1.0\" encoding=\"utf-8\" standalone=\"no\"?>\n<!DOCTYPE svg PUBLIC \"-//W3C//DTD SVG 1.1//EN\"\n  \"http://www.w3.org/Graphics/SVG/1.1/DTD/svg11.dtd\">\n<svg xmlns:xlink=\"http://www.w3.org/1999/xlink\" width=\"416.480937pt\" height=\"310.86825pt\" viewBox=\"0 0 416.480937 310.86825\" xmlns=\"http://www.w3.org/2000/svg\" version=\"1.1\">\n <metadata>\n  <rdf:RDF xmlns:dc=\"http://purl.org/dc/elements/1.1/\" xmlns:cc=\"http://creativecommons.org/ns#\" xmlns:rdf=\"http://www.w3.org/1999/02/22-rdf-syntax-ns#\">\n   <cc:Work>\n    <dc:type rdf:resource=\"http://purl.org/dc/dcmitype/StillImage\"/>\n    <dc:date>2023-03-28T00:46:42.525921</dc:date>\n    <dc:format>image/svg+xml</dc:format>\n    <dc:creator>\n     <cc:Agent>\n      <dc:title>Matplotlib v3.7.1, https://matplotlib.org/</dc:title>\n     </cc:Agent>\n    </dc:creator>\n   </cc:Work>\n  </rdf:RDF>\n </metadata>\n <defs>\n  <style type=\"text/css\">*{stroke-linejoin: round; stroke-linecap: butt}</style>\n </defs>\n <g id=\"figure_1\">\n  <g id=\"patch_1\">\n   <path d=\"M 0 310.86825 \nL 416.480937 310.86825 \nL 416.480937 0 \nL 0 0 \nz\n\" style=\"fill: #ffffff\"/>\n  </g>\n  <g id=\"axes_1\">\n   <g id=\"patch_2\">\n    <path d=\"M 52.160938 273.312 \nL 409.280938 273.312 \nL 409.280938 7.2 \nL 52.160938 7.2 \nz\n\" style=\"fill: #ffffff\"/>\n   </g>\n   <g id=\"matplotlib.axis_1\">\n    <g id=\"xtick_1\">\n     <g id=\"line2d_1\">\n      <defs>\n       <path id=\"m359b8af92c\" d=\"M 0 0 \nL 0 3.5 \n\" style=\"stroke: #000000; stroke-width: 0.8\"/>\n      </defs>\n      <g>\n       <use xlink:href=\"#m359b8af92c\" x=\"68.393665\" y=\"273.312\" style=\"stroke: #000000; stroke-width: 0.8\"/>\n      </g>\n     </g>\n     <g id=\"text_1\">\n      <!-- 0 -->\n      <g transform=\"translate(65.212415 287.910437) scale(0.1 -0.1)\">\n       <defs>\n        <path id=\"DejaVuSans-30\" d=\"M 2034 4250 \nQ 1547 4250 1301 3770 \nQ 1056 3291 1056 2328 \nQ 1056 1369 1301 889 \nQ 1547 409 2034 409 \nQ 2525 409 2770 889 \nQ 3016 1369 3016 2328 \nQ 3016 3291 2770 3770 \nQ 2525 4250 2034 4250 \nz\nM 2034 4750 \nQ 2819 4750 3233 4129 \nQ 3647 3509 3647 2328 \nQ 3647 1150 3233 529 \nQ 2819 -91 2034 -91 \nQ 1250 -91 836 529 \nQ 422 1150 422 2328 \nQ 422 3509 836 4129 \nQ 1250 4750 2034 4750 \nz\n\" transform=\"scale(0.015625)\"/>\n       </defs>\n       <use xlink:href=\"#DejaVuSans-30\"/>\n      </g>\n     </g>\n    </g>\n    <g id=\"xtick_2\">\n     <g id=\"line2d_2\">\n      <g>\n       <use xlink:href=\"#m359b8af92c\" x=\"149.557301\" y=\"273.312\" style=\"stroke: #000000; stroke-width: 0.8\"/>\n      </g>\n     </g>\n     <g id=\"text_2\">\n      <!-- 1 -->\n      <g transform=\"translate(146.376051 287.910437) scale(0.1 -0.1)\">\n       <defs>\n        <path id=\"DejaVuSans-31\" d=\"M 794 531 \nL 1825 531 \nL 1825 4091 \nL 703 3866 \nL 703 4441 \nL 1819 4666 \nL 2450 4666 \nL 2450 531 \nL 3481 531 \nL 3481 0 \nL 794 0 \nL 794 531 \nz\n\" transform=\"scale(0.015625)\"/>\n       </defs>\n       <use xlink:href=\"#DejaVuSans-31\"/>\n      </g>\n     </g>\n    </g>\n    <g id=\"xtick_3\">\n     <g id=\"line2d_3\">\n      <g>\n       <use xlink:href=\"#m359b8af92c\" x=\"230.720938\" y=\"273.312\" style=\"stroke: #000000; stroke-width: 0.8\"/>\n      </g>\n     </g>\n     <g id=\"text_3\">\n      <!-- 2 -->\n      <g transform=\"translate(227.539688 287.910437) scale(0.1 -0.1)\">\n       <defs>\n        <path id=\"DejaVuSans-32\" d=\"M 1228 531 \nL 3431 531 \nL 3431 0 \nL 469 0 \nL 469 531 \nQ 828 903 1448 1529 \nQ 2069 2156 2228 2338 \nQ 2531 2678 2651 2914 \nQ 2772 3150 2772 3378 \nQ 2772 3750 2511 3984 \nQ 2250 4219 1831 4219 \nQ 1534 4219 1204 4116 \nQ 875 4013 500 3803 \nL 500 4441 \nQ 881 4594 1212 4672 \nQ 1544 4750 1819 4750 \nQ 2544 4750 2975 4387 \nQ 3406 4025 3406 3419 \nQ 3406 3131 3298 2873 \nQ 3191 2616 2906 2266 \nQ 2828 2175 2409 1742 \nQ 1991 1309 1228 531 \nz\n\" transform=\"scale(0.015625)\"/>\n       </defs>\n       <use xlink:href=\"#DejaVuSans-32\"/>\n      </g>\n     </g>\n    </g>\n    <g id=\"xtick_4\">\n     <g id=\"line2d_4\">\n      <g>\n       <use xlink:href=\"#m359b8af92c\" x=\"311.884574\" y=\"273.312\" style=\"stroke: #000000; stroke-width: 0.8\"/>\n      </g>\n     </g>\n     <g id=\"text_4\">\n      <!-- 3 -->\n      <g transform=\"translate(308.703324 287.910437) scale(0.1 -0.1)\">\n       <defs>\n        <path id=\"DejaVuSans-33\" d=\"M 2597 2516 \nQ 3050 2419 3304 2112 \nQ 3559 1806 3559 1356 \nQ 3559 666 3084 287 \nQ 2609 -91 1734 -91 \nQ 1441 -91 1130 -33 \nQ 819 25 488 141 \nL 488 750 \nQ 750 597 1062 519 \nQ 1375 441 1716 441 \nQ 2309 441 2620 675 \nQ 2931 909 2931 1356 \nQ 2931 1769 2642 2001 \nQ 2353 2234 1838 2234 \nL 1294 2234 \nL 1294 2753 \nL 1863 2753 \nQ 2328 2753 2575 2939 \nQ 2822 3125 2822 3475 \nQ 2822 3834 2567 4026 \nQ 2313 4219 1838 4219 \nQ 1578 4219 1281 4162 \nQ 984 4106 628 3988 \nL 628 4550 \nQ 988 4650 1302 4700 \nQ 1616 4750 1894 4750 \nQ 2613 4750 3031 4423 \nQ 3450 4097 3450 3541 \nQ 3450 3153 3228 2886 \nQ 3006 2619 2597 2516 \nz\n\" transform=\"scale(0.015625)\"/>\n       </defs>\n       <use xlink:href=\"#DejaVuSans-33\"/>\n      </g>\n     </g>\n    </g>\n    <g id=\"xtick_5\">\n     <g id=\"line2d_5\">\n      <g>\n       <use xlink:href=\"#m359b8af92c\" x=\"393.04821\" y=\"273.312\" style=\"stroke: #000000; stroke-width: 0.8\"/>\n      </g>\n     </g>\n     <g id=\"text_5\">\n      <!-- 4 -->\n      <g transform=\"translate(389.86696 287.910437) scale(0.1 -0.1)\">\n       <defs>\n        <path id=\"DejaVuSans-34\" d=\"M 2419 4116 \nL 825 1625 \nL 2419 1625 \nL 2419 4116 \nz\nM 2253 4666 \nL 3047 4666 \nL 3047 1625 \nL 3713 1625 \nL 3713 1100 \nL 3047 1100 \nL 3047 0 \nL 2419 0 \nL 2419 1100 \nL 313 1100 \nL 313 1709 \nL 2253 4666 \nz\n\" transform=\"scale(0.015625)\"/>\n       </defs>\n       <use xlink:href=\"#DejaVuSans-34\"/>\n      </g>\n     </g>\n    </g>\n    <g id=\"text_6\">\n     <!-- Nodes -->\n     <g transform=\"translate(215.065469 301.588562) scale(0.1 -0.1)\">\n      <defs>\n       <path id=\"DejaVuSans-4e\" d=\"M 628 4666 \nL 1478 4666 \nL 3547 763 \nL 3547 4666 \nL 4159 4666 \nL 4159 0 \nL 3309 0 \nL 1241 3903 \nL 1241 0 \nL 628 0 \nL 628 4666 \nz\n\" transform=\"scale(0.015625)\"/>\n       <path id=\"DejaVuSans-6f\" d=\"M 1959 3097 \nQ 1497 3097 1228 2736 \nQ 959 2375 959 1747 \nQ 959 1119 1226 758 \nQ 1494 397 1959 397 \nQ 2419 397 2687 759 \nQ 2956 1122 2956 1747 \nQ 2956 2369 2687 2733 \nQ 2419 3097 1959 3097 \nz\nM 1959 3584 \nQ 2709 3584 3137 3096 \nQ 3566 2609 3566 1747 \nQ 3566 888 3137 398 \nQ 2709 -91 1959 -91 \nQ 1206 -91 779 398 \nQ 353 888 353 1747 \nQ 353 2609 779 3096 \nQ 1206 3584 1959 3584 \nz\n\" transform=\"scale(0.015625)\"/>\n       <path id=\"DejaVuSans-64\" d=\"M 2906 2969 \nL 2906 4863 \nL 3481 4863 \nL 3481 0 \nL 2906 0 \nL 2906 525 \nQ 2725 213 2448 61 \nQ 2172 -91 1784 -91 \nQ 1150 -91 751 415 \nQ 353 922 353 1747 \nQ 353 2572 751 3078 \nQ 1150 3584 1784 3584 \nQ 2172 3584 2448 3432 \nQ 2725 3281 2906 2969 \nz\nM 947 1747 \nQ 947 1113 1208 752 \nQ 1469 391 1925 391 \nQ 2381 391 2643 752 \nQ 2906 1113 2906 1747 \nQ 2906 2381 2643 2742 \nQ 2381 3103 1925 3103 \nQ 1469 3103 1208 2742 \nQ 947 2381 947 1747 \nz\n\" transform=\"scale(0.015625)\"/>\n       <path id=\"DejaVuSans-65\" d=\"M 3597 1894 \nL 3597 1613 \nL 953 1613 \nQ 991 1019 1311 708 \nQ 1631 397 2203 397 \nQ 2534 397 2845 478 \nQ 3156 559 3463 722 \nL 3463 178 \nQ 3153 47 2828 -22 \nQ 2503 -91 2169 -91 \nQ 1331 -91 842 396 \nQ 353 884 353 1716 \nQ 353 2575 817 3079 \nQ 1281 3584 2069 3584 \nQ 2775 3584 3186 3129 \nQ 3597 2675 3597 1894 \nz\nM 3022 2063 \nQ 3016 2534 2758 2815 \nQ 2500 3097 2075 3097 \nQ 1594 3097 1305 2825 \nQ 1016 2553 972 2059 \nL 3022 2063 \nz\n\" transform=\"scale(0.015625)\"/>\n       <path id=\"DejaVuSans-73\" d=\"M 2834 3397 \nL 2834 2853 \nQ 2591 2978 2328 3040 \nQ 2066 3103 1784 3103 \nQ 1356 3103 1142 2972 \nQ 928 2841 928 2578 \nQ 928 2378 1081 2264 \nQ 1234 2150 1697 2047 \nL 1894 2003 \nQ 2506 1872 2764 1633 \nQ 3022 1394 3022 966 \nQ 3022 478 2636 193 \nQ 2250 -91 1575 -91 \nQ 1294 -91 989 -36 \nQ 684 19 347 128 \nL 347 722 \nQ 666 556 975 473 \nQ 1284 391 1588 391 \nQ 1994 391 2212 530 \nQ 2431 669 2431 922 \nQ 2431 1156 2273 1281 \nQ 2116 1406 1581 1522 \nL 1381 1569 \nQ 847 1681 609 1914 \nQ 372 2147 372 2553 \nQ 372 3047 722 3315 \nQ 1072 3584 1716 3584 \nQ 2034 3584 2315 3537 \nQ 2597 3491 2834 3397 \nz\n\" transform=\"scale(0.015625)\"/>\n      </defs>\n      <use xlink:href=\"#DejaVuSans-4e\"/>\n      <use xlink:href=\"#DejaVuSans-6f\" x=\"74.804688\"/>\n      <use xlink:href=\"#DejaVuSans-64\" x=\"135.986328\"/>\n      <use xlink:href=\"#DejaVuSans-65\" x=\"199.462891\"/>\n      <use xlink:href=\"#DejaVuSans-73\" x=\"260.986328\"/>\n     </g>\n    </g>\n   </g>\n   <g id=\"matplotlib.axis_2\">\n    <g id=\"ytick_1\">\n     <g id=\"line2d_6\">\n      <defs>\n       <path id=\"m6427d3cf15\" d=\"M 0 0 \nL -3.5 0 \n\" style=\"stroke: #000000; stroke-width: 0.8\"/>\n      </defs>\n      <g>\n       <use xlink:href=\"#m6427d3cf15\" x=\"52.160938\" y=\"228.457533\" style=\"stroke: #000000; stroke-width: 0.8\"/>\n      </g>\n     </g>\n     <g id=\"text_7\">\n      <!-- −0.4 -->\n      <g transform=\"translate(20.878125 232.256751) scale(0.1 -0.1)\">\n       <defs>\n        <path id=\"DejaVuSans-2212\" d=\"M 678 2272 \nL 4684 2272 \nL 4684 1741 \nL 678 1741 \nL 678 2272 \nz\n\" transform=\"scale(0.015625)\"/>\n        <path id=\"DejaVuSans-2e\" d=\"M 684 794 \nL 1344 794 \nL 1344 0 \nL 684 0 \nL 684 794 \nz\n\" transform=\"scale(0.015625)\"/>\n       </defs>\n       <use xlink:href=\"#DejaVuSans-2212\"/>\n       <use xlink:href=\"#DejaVuSans-30\" x=\"83.789062\"/>\n       <use xlink:href=\"#DejaVuSans-2e\" x=\"147.412109\"/>\n       <use xlink:href=\"#DejaVuSans-34\" x=\"179.199219\"/>\n      </g>\n     </g>\n    </g>\n    <g id=\"ytick_2\">\n     <g id=\"line2d_7\">\n      <g>\n       <use xlink:href=\"#m6427d3cf15\" x=\"52.160938\" y=\"175.947407\" style=\"stroke: #000000; stroke-width: 0.8\"/>\n      </g>\n     </g>\n     <g id=\"text_8\">\n      <!-- −0.2 -->\n      <g transform=\"translate(20.878125 179.746626) scale(0.1 -0.1)\">\n       <use xlink:href=\"#DejaVuSans-2212\"/>\n       <use xlink:href=\"#DejaVuSans-30\" x=\"83.789062\"/>\n       <use xlink:href=\"#DejaVuSans-2e\" x=\"147.412109\"/>\n       <use xlink:href=\"#DejaVuSans-32\" x=\"179.199219\"/>\n      </g>\n     </g>\n    </g>\n    <g id=\"ytick_3\">\n     <g id=\"line2d_8\">\n      <g>\n       <use xlink:href=\"#m6427d3cf15\" x=\"52.160938\" y=\"123.437281\" style=\"stroke: #000000; stroke-width: 0.8\"/>\n      </g>\n     </g>\n     <g id=\"text_9\">\n      <!-- 0.0 -->\n      <g transform=\"translate(29.257812 127.2365) scale(0.1 -0.1)\">\n       <use xlink:href=\"#DejaVuSans-30\"/>\n       <use xlink:href=\"#DejaVuSans-2e\" x=\"63.623047\"/>\n       <use xlink:href=\"#DejaVuSans-30\" x=\"95.410156\"/>\n      </g>\n     </g>\n    </g>\n    <g id=\"ytick_4\">\n     <g id=\"line2d_9\">\n      <g>\n       <use xlink:href=\"#m6427d3cf15\" x=\"52.160938\" y=\"70.927156\" style=\"stroke: #000000; stroke-width: 0.8\"/>\n      </g>\n     </g>\n     <g id=\"text_10\">\n      <!-- 0.2 -->\n      <g transform=\"translate(29.257812 74.726374) scale(0.1 -0.1)\">\n       <use xlink:href=\"#DejaVuSans-30\"/>\n       <use xlink:href=\"#DejaVuSans-2e\" x=\"63.623047\"/>\n       <use xlink:href=\"#DejaVuSans-32\" x=\"95.410156\"/>\n      </g>\n     </g>\n    </g>\n    <g id=\"ytick_5\">\n     <g id=\"line2d_10\">\n      <g>\n       <use xlink:href=\"#m6427d3cf15\" x=\"52.160938\" y=\"18.41703\" style=\"stroke: #000000; stroke-width: 0.8\"/>\n      </g>\n     </g>\n     <g id=\"text_11\">\n      <!-- 0.4 -->\n      <g transform=\"translate(29.257812 22.216249) scale(0.1 -0.1)\">\n       <use xlink:href=\"#DejaVuSans-30\"/>\n       <use xlink:href=\"#DejaVuSans-2e\" x=\"63.623047\"/>\n       <use xlink:href=\"#DejaVuSans-34\" x=\"95.410156\"/>\n      </g>\n     </g>\n    </g>\n    <g id=\"text_12\">\n     <!-- Centrality -->\n     <g transform=\"translate(14.798437 164.770062) rotate(-90) scale(0.1 -0.1)\">\n      <defs>\n       <path id=\"DejaVuSans-43\" d=\"M 4122 4306 \nL 4122 3641 \nQ 3803 3938 3442 4084 \nQ 3081 4231 2675 4231 \nQ 1875 4231 1450 3742 \nQ 1025 3253 1025 2328 \nQ 1025 1406 1450 917 \nQ 1875 428 2675 428 \nQ 3081 428 3442 575 \nQ 3803 722 4122 1019 \nL 4122 359 \nQ 3791 134 3420 21 \nQ 3050 -91 2638 -91 \nQ 1578 -91 968 557 \nQ 359 1206 359 2328 \nQ 359 3453 968 4101 \nQ 1578 4750 2638 4750 \nQ 3056 4750 3426 4639 \nQ 3797 4528 4122 4306 \nz\n\" transform=\"scale(0.015625)\"/>\n       <path id=\"DejaVuSans-6e\" d=\"M 3513 2113 \nL 3513 0 \nL 2938 0 \nL 2938 2094 \nQ 2938 2591 2744 2837 \nQ 2550 3084 2163 3084 \nQ 1697 3084 1428 2787 \nQ 1159 2491 1159 1978 \nL 1159 0 \nL 581 0 \nL 581 3500 \nL 1159 3500 \nL 1159 2956 \nQ 1366 3272 1645 3428 \nQ 1925 3584 2291 3584 \nQ 2894 3584 3203 3211 \nQ 3513 2838 3513 2113 \nz\n\" transform=\"scale(0.015625)\"/>\n       <path id=\"DejaVuSans-74\" d=\"M 1172 4494 \nL 1172 3500 \nL 2356 3500 \nL 2356 3053 \nL 1172 3053 \nL 1172 1153 \nQ 1172 725 1289 603 \nQ 1406 481 1766 481 \nL 2356 481 \nL 2356 0 \nL 1766 0 \nQ 1100 0 847 248 \nQ 594 497 594 1153 \nL 594 3053 \nL 172 3053 \nL 172 3500 \nL 594 3500 \nL 594 4494 \nL 1172 4494 \nz\n\" transform=\"scale(0.015625)\"/>\n       <path id=\"DejaVuSans-72\" d=\"M 2631 2963 \nQ 2534 3019 2420 3045 \nQ 2306 3072 2169 3072 \nQ 1681 3072 1420 2755 \nQ 1159 2438 1159 1844 \nL 1159 0 \nL 581 0 \nL 581 3500 \nL 1159 3500 \nL 1159 2956 \nQ 1341 3275 1631 3429 \nQ 1922 3584 2338 3584 \nQ 2397 3584 2469 3576 \nQ 2541 3569 2628 3553 \nL 2631 2963 \nz\n\" transform=\"scale(0.015625)\"/>\n       <path id=\"DejaVuSans-61\" d=\"M 2194 1759 \nQ 1497 1759 1228 1600 \nQ 959 1441 959 1056 \nQ 959 750 1161 570 \nQ 1363 391 1709 391 \nQ 2188 391 2477 730 \nQ 2766 1069 2766 1631 \nL 2766 1759 \nL 2194 1759 \nz\nM 3341 1997 \nL 3341 0 \nL 2766 0 \nL 2766 531 \nQ 2569 213 2275 61 \nQ 1981 -91 1556 -91 \nQ 1019 -91 701 211 \nQ 384 513 384 1019 \nQ 384 1609 779 1909 \nQ 1175 2209 1959 2209 \nL 2766 2209 \nL 2766 2266 \nQ 2766 2663 2505 2880 \nQ 2244 3097 1772 3097 \nQ 1472 3097 1187 3025 \nQ 903 2953 641 2809 \nL 641 3341 \nQ 956 3463 1253 3523 \nQ 1550 3584 1831 3584 \nQ 2591 3584 2966 3190 \nQ 3341 2797 3341 1997 \nz\n\" transform=\"scale(0.015625)\"/>\n       <path id=\"DejaVuSans-6c\" d=\"M 603 4863 \nL 1178 4863 \nL 1178 0 \nL 603 0 \nL 603 4863 \nz\n\" transform=\"scale(0.015625)\"/>\n       <path id=\"DejaVuSans-69\" d=\"M 603 3500 \nL 1178 3500 \nL 1178 0 \nL 603 0 \nL 603 3500 \nz\nM 603 4863 \nL 1178 4863 \nL 1178 4134 \nL 603 4134 \nL 603 4863 \nz\n\" transform=\"scale(0.015625)\"/>\n       <path id=\"DejaVuSans-79\" d=\"M 2059 -325 \nQ 1816 -950 1584 -1140 \nQ 1353 -1331 966 -1331 \nL 506 -1331 \nL 506 -850 \nL 844 -850 \nQ 1081 -850 1212 -737 \nQ 1344 -625 1503 -206 \nL 1606 56 \nL 191 3500 \nL 800 3500 \nL 1894 763 \nL 2988 3500 \nL 3597 3500 \nL 2059 -325 \nz\n\" transform=\"scale(0.015625)\"/>\n      </defs>\n      <use xlink:href=\"#DejaVuSans-43\"/>\n      <use xlink:href=\"#DejaVuSans-65\" x=\"69.824219\"/>\n      <use xlink:href=\"#DejaVuSans-6e\" x=\"131.347656\"/>\n      <use xlink:href=\"#DejaVuSans-74\" x=\"194.726562\"/>\n      <use xlink:href=\"#DejaVuSans-72\" x=\"233.935547\"/>\n      <use xlink:href=\"#DejaVuSans-61\" x=\"275.048828\"/>\n      <use xlink:href=\"#DejaVuSans-6c\" x=\"336.328125\"/>\n      <use xlink:href=\"#DejaVuSans-69\" x=\"364.111328\"/>\n      <use xlink:href=\"#DejaVuSans-74\" x=\"391.894531\"/>\n      <use xlink:href=\"#DejaVuSans-79\" x=\"431.103516\"/>\n     </g>\n    </g>\n   </g>\n   <g id=\"line2d_11\">\n    <path d=\"M 68.393665 225.035972 \nL 149.557301 225.035972 \nL 230.720938 225.035972 \nL 311.884574 261.216 \nL 393.04821 261.216 \n\" clip-path=\"url(#pf5807154f9)\" style=\"fill: none; stroke: #008000; stroke-width: 1.5; stroke-linecap: square\"/>\n   </g>\n   <g id=\"line2d_12\">\n    <path d=\"M 68.393665 83.305044 \nL 149.557301 83.305044 \nL 230.720938 83.305044 \nL 311.884574 61.765455 \nL 393.04821 42.95519 \n\" clip-path=\"url(#pf5807154f9)\" style=\"fill: none; stroke: #ff0000; stroke-width: 1.5; stroke-linecap: square\"/>\n   </g>\n   <g id=\"line2d_13\">\n    <path d=\"M 68.393665 73.076266 \nL 149.557301 73.076266 \nL 230.720938 73.076266 \nL 311.884574 67.703522 \nL 393.04821 67.703457 \n\" clip-path=\"url(#pf5807154f9)\" style=\"fill: none; stroke: #0000ff; stroke-width: 1.5; stroke-linecap: square\"/>\n   </g>\n   <g id=\"line2d_14\">\n    <path d=\"M 68.393665 225.035972 \nL 149.557301 225.035972 \nL 230.720938 225.035972 \nL 311.884574 261.216 \nL 393.04821 261.216 \n\" clip-path=\"url(#pf5807154f9)\" style=\"fill: none; stroke: #008000; stroke-width: 1.5; stroke-linecap: square\"/>\n   </g>\n   <g id=\"line2d_15\">\n    <path d=\"M 68.393665 56.96279 \nL 149.557301 56.96279 \nL 230.720938 56.96279 \nL 311.884574 115.206752 \nL 393.04821 68.540657 \n\" clip-path=\"url(#pf5807154f9)\" style=\"fill: none; stroke: #ff0000; stroke-width: 1.5; stroke-linecap: square\"/>\n   </g>\n   <g id=\"line2d_16\">\n    <path d=\"M 68.393665 73.076142 \nL 149.557301 73.076142 \nL 230.720938 73.076142 \nL 311.884574 67.703676 \nL 393.04821 67.703676 \n\" clip-path=\"url(#pf5807154f9)\" style=\"fill: none; stroke: #0000ff; stroke-width: 1.5; stroke-linecap: square\"/>\n   </g>\n   <g id=\"line2d_17\">\n    <path d=\"M 68.393665 225.035972 \nL 149.557301 225.035972 \nL 230.720938 225.035972 \nL 311.884574 261.216 \nL 393.04821 261.216 \n\" clip-path=\"url(#pf5807154f9)\" style=\"fill: none; stroke: #008000; stroke-width: 1.5; stroke-linecap: square\"/>\n   </g>\n   <g id=\"line2d_18\">\n    <path d=\"M 68.393665 68.988904 \nL 149.557301 68.988904 \nL 230.720938 68.988904 \nL 311.884574 77.979167 \nL 393.04821 69.6899 \n\" clip-path=\"url(#pf5807154f9)\" style=\"fill: none; stroke: #ff0000; stroke-width: 1.5; stroke-linecap: square\"/>\n   </g>\n   <g id=\"line2d_19\">\n    <path d=\"M 68.393665 73.076171 \nL 149.557301 73.076171 \nL 230.720938 73.076171 \nL 311.884574 67.703512 \nL 393.04821 67.703753 \n\" clip-path=\"url(#pf5807154f9)\" style=\"fill: none; stroke: #0000ff; stroke-width: 1.5; stroke-linecap: square\"/>\n   </g>\n   <g id=\"line2d_20\">\n    <path d=\"M 68.393665 225.035972 \nL 149.557301 225.035972 \nL 230.720938 225.035972 \nL 311.884574 261.216 \nL 393.04821 261.216 \n\" clip-path=\"url(#pf5807154f9)\" style=\"fill: none; stroke: #008000; stroke-width: 1.5; stroke-linecap: square\"/>\n   </g>\n   <g id=\"line2d_21\">\n    <path d=\"M 68.393665 81.205521 \nL 149.557301 81.205521 \nL 230.720938 81.205521 \nL 311.884574 50.496946 \nL 393.04821 60.522268 \n\" clip-path=\"url(#pf5807154f9)\" style=\"fill: none; stroke: #ff0000; stroke-width: 1.5; stroke-linecap: square\"/>\n   </g>\n   <g id=\"line2d_22\">\n    <path d=\"M 68.393665 73.076176 \nL 149.557301 73.076176 \nL 230.720938 73.076176 \nL 311.884574 67.703725 \nL 393.04821 67.703526 \n\" clip-path=\"url(#pf5807154f9)\" style=\"fill: none; stroke: #0000ff; stroke-width: 1.5; stroke-linecap: square\"/>\n   </g>\n   <g id=\"line2d_23\">\n    <path d=\"M 68.393665 225.035972 \nL 149.557301 225.035972 \nL 230.720938 225.035972 \nL 311.884574 261.216 \nL 393.04821 261.216 \n\" clip-path=\"url(#pf5807154f9)\" style=\"fill: none; stroke: #008000; stroke-width: 1.5; stroke-linecap: square\"/>\n   </g>\n   <g id=\"line2d_24\">\n    <path d=\"M 68.393665 87.256612 \nL 149.557301 87.256612 \nL 230.720938 87.256612 \nL 311.884574 73.569941 \nL 393.04821 19.296 \n\" clip-path=\"url(#pf5807154f9)\" style=\"fill: none; stroke: #ff0000; stroke-width: 1.5; stroke-linecap: square\"/>\n   </g>\n   <g id=\"line2d_25\">\n    <path d=\"M 68.393665 73.076203 \nL 149.557301 73.076203 \nL 230.720938 73.076202 \nL 311.884574 67.703663 \nL 393.04821 67.703507 \n\" clip-path=\"url(#pf5807154f9)\" style=\"fill: none; stroke: #0000ff; stroke-width: 1.5; stroke-linecap: square\"/>\n   </g>\n   <g id=\"line2d_26\">\n    <path d=\"M 68.393665 225.035972 \nL 149.557301 225.035972 \nL 230.720938 225.035972 \nL 311.884574 261.216 \nL 393.04821 261.216 \n\" clip-path=\"url(#pf5807154f9)\" style=\"fill: none; stroke: #008000; stroke-width: 1.5; stroke-linecap: square\"/>\n   </g>\n   <g id=\"line2d_27\">\n    <path d=\"M 68.393665 70.763622 \nL 149.557301 70.763622 \nL 230.720938 70.763622 \nL 311.884574 59.263226 \nL 393.04821 83.081684 \n\" clip-path=\"url(#pf5807154f9)\" style=\"fill: none; stroke: #ff0000; stroke-width: 1.5; stroke-linecap: square\"/>\n   </g>\n   <g id=\"line2d_28\">\n    <path d=\"M 68.393665 73.076166 \nL 149.557301 73.076166 \nL 230.720938 73.076166 \nL 311.884574 67.703725 \nL 393.04821 67.703555 \n\" clip-path=\"url(#pf5807154f9)\" style=\"fill: none; stroke: #0000ff; stroke-width: 1.5; stroke-linecap: square\"/>\n   </g>\n   <g id=\"line2d_29\">\n    <path d=\"M 68.393665 225.035972 \nL 149.557301 225.035972 \nL 230.720938 225.035972 \nL 311.884574 261.216 \nL 393.04821 261.216 \n\" clip-path=\"url(#pf5807154f9)\" style=\"fill: none; stroke: #008000; stroke-width: 1.5; stroke-linecap: square\"/>\n   </g>\n   <g id=\"line2d_30\">\n    <path d=\"M 68.393665 75.027121 \nL 149.557301 75.027121 \nL 230.720938 75.027121 \nL 311.884574 71.259973 \nL 393.04821 58.294442 \n\" clip-path=\"url(#pf5807154f9)\" style=\"fill: none; stroke: #ff0000; stroke-width: 1.5; stroke-linecap: square\"/>\n   </g>\n   <g id=\"line2d_31\">\n    <path d=\"M 68.393665 73.076206 \nL 149.557301 73.076206 \nL 230.720938 73.076206 \nL 311.884574 67.703636 \nL 393.04821 67.703523 \n\" clip-path=\"url(#pf5807154f9)\" style=\"fill: none; stroke: #0000ff; stroke-width: 1.5; stroke-linecap: square\"/>\n   </g>\n   <g id=\"line2d_32\">\n    <path d=\"M 68.393665 225.035972 \nL 149.557301 225.035972 \nL 230.720938 225.035972 \nL 311.884574 261.216 \nL 393.04821 261.216 \n\" clip-path=\"url(#pf5807154f9)\" style=\"fill: none; stroke: #008000; stroke-width: 1.5; stroke-linecap: square\"/>\n   </g>\n   <g id=\"line2d_33\">\n    <path d=\"M 68.393665 66.785521 \nL 149.557301 66.785521 \nL 230.720938 66.785521 \nL 311.884574 32.861402 \nL 393.04821 121.417812 \n\" clip-path=\"url(#pf5807154f9)\" style=\"fill: none; stroke: #ff0000; stroke-width: 1.5; stroke-linecap: square\"/>\n   </g>\n   <g id=\"line2d_34\">\n    <path d=\"M 68.393665 73.07619 \nL 149.557301 73.07619 \nL 230.720938 73.07619 \nL 311.884574 67.703683 \nL 393.04821 67.703525 \n\" clip-path=\"url(#pf5807154f9)\" style=\"fill: none; stroke: #0000ff; stroke-width: 1.5; stroke-linecap: square\"/>\n   </g>\n   <g id=\"line2d_35\">\n    <path d=\"M 68.393665 225.035972 \nL 149.557301 225.035972 \nL 230.720938 225.035972 \nL 311.884574 261.216 \nL 393.04821 261.216 \n\" clip-path=\"url(#pf5807154f9)\" style=\"fill: none; stroke: #008000; stroke-width: 1.5; stroke-linecap: square\"/>\n   </g>\n   <g id=\"line2d_36\">\n    <path d=\"M 68.393665 76.642524 \nL 149.557301 76.642524 \nL 230.720938 76.642524 \nL 311.884574 87.277714 \nL 393.04821 37.430491 \n\" clip-path=\"url(#pf5807154f9)\" style=\"fill: none; stroke: #ff0000; stroke-width: 1.5; stroke-linecap: square\"/>\n   </g>\n   <g id=\"line2d_37\">\n    <path d=\"M 68.393665 73.076207 \nL 149.557301 73.076208 \nL 230.720938 73.076208 \nL 311.884574 67.703704 \nL 393.04821 67.703451 \n\" clip-path=\"url(#pf5807154f9)\" style=\"fill: none; stroke: #0000ff; stroke-width: 1.5; stroke-linecap: square\"/>\n   </g>\n   <g id=\"line2d_38\">\n    <path d=\"M 68.393665 225.035972 \nL 149.557301 225.035972 \nL 230.720938 225.035972 \nL 311.884574 261.216 \nL 393.04821 261.216 \n\" clip-path=\"url(#pf5807154f9)\" style=\"fill: none; stroke: #008000; stroke-width: 1.5; stroke-linecap: square\"/>\n   </g>\n   <g id=\"line2d_39\">\n    <path d=\"M 68.393665 71.976826 \nL 149.557301 71.976826 \nL 230.720938 71.976826 \nL 311.884574 62.595849 \nL 393.04821 76.109451 \n\" clip-path=\"url(#pf5807154f9)\" style=\"fill: none; stroke: #ff0000; stroke-width: 1.5; stroke-linecap: square\"/>\n   </g>\n   <g id=\"line2d_40\">\n    <path d=\"M 68.393665 73.076244 \nL 149.557301 73.076244 \nL 230.720938 73.076244 \nL 311.884574 67.703467 \nL 393.04821 67.703579 \n\" clip-path=\"url(#pf5807154f9)\" style=\"fill: none; stroke: #0000ff; stroke-width: 1.5; stroke-linecap: square\"/>\n   </g>\n   <g id=\"patch_3\">\n    <path d=\"M 52.160938 273.312 \nL 52.160938 7.2 \n\" style=\"fill: none; stroke: #000000; stroke-width: 0.8; stroke-linejoin: miter; stroke-linecap: square\"/>\n   </g>\n   <g id=\"patch_4\">\n    <path d=\"M 409.280938 273.312 \nL 409.280938 7.2 \n\" style=\"fill: none; stroke: #000000; stroke-width: 0.8; stroke-linejoin: miter; stroke-linecap: square\"/>\n   </g>\n   <g id=\"patch_5\">\n    <path d=\"M 52.160938 273.312 \nL 409.280938 273.312 \n\" style=\"fill: none; stroke: #000000; stroke-width: 0.8; stroke-linejoin: miter; stroke-linecap: square\"/>\n   </g>\n   <g id=\"patch_6\">\n    <path d=\"M 52.160938 7.2 \nL 409.280938 7.2 \n\" style=\"fill: none; stroke: #000000; stroke-width: 0.8; stroke-linejoin: miter; stroke-linecap: square\"/>\n   </g>\n   <g id=\"legend_1\">\n    <g id=\"patch_7\">\n     <path d=\"M 59.160938 163.773187 \nL 111.982813 163.773187 \nQ 113.982813 163.773187 113.982813 161.773187 \nL 113.982813 118.738812 \nQ 113.982813 116.738812 111.982813 116.738812 \nL 59.160938 116.738812 \nQ 57.160938 116.738812 57.160938 118.738812 \nL 57.160938 161.773187 \nQ 57.160938 163.773187 59.160938 163.773187 \nz\n\" style=\"fill: #ffffff; opacity: 0.8; stroke: #cccccc; stroke-linejoin: miter\"/>\n    </g>\n    <g id=\"line2d_41\">\n     <path d=\"M 61.160938 124.83725 \nL 71.160938 124.83725 \nL 81.160938 124.83725 \n\" style=\"fill: none; stroke: #008000; stroke-width: 1.5; stroke-linecap: square\"/>\n    </g>\n    <g id=\"text_13\">\n     <!-- CEC -->\n     <g transform=\"translate(89.160938 128.33725) scale(0.1 -0.1)\">\n      <defs>\n       <path id=\"DejaVuSans-45\" d=\"M 628 4666 \nL 3578 4666 \nL 3578 4134 \nL 1259 4134 \nL 1259 2753 \nL 3481 2753 \nL 3481 2222 \nL 1259 2222 \nL 1259 531 \nL 3634 531 \nL 3634 0 \nL 628 0 \nL 628 4666 \nz\n\" transform=\"scale(0.015625)\"/>\n      </defs>\n      <use xlink:href=\"#DejaVuSans-43\"/>\n      <use xlink:href=\"#DejaVuSans-45\" x=\"69.824219\"/>\n      <use xlink:href=\"#DejaVuSans-43\" x=\"133.007812\"/>\n     </g>\n    </g>\n    <g id=\"line2d_42\">\n     <path d=\"M 61.160938 139.515375 \nL 71.160938 139.515375 \nL 81.160938 139.515375 \n\" style=\"fill: none; stroke: #ff0000; stroke-width: 1.5; stroke-linecap: square\"/>\n    </g>\n    <g id=\"text_14\">\n     <!-- ZEC -->\n     <g transform=\"translate(89.160938 143.015375) scale(0.1 -0.1)\">\n      <defs>\n       <path id=\"DejaVuSans-5a\" d=\"M 359 4666 \nL 4025 4666 \nL 4025 4184 \nL 1075 531 \nL 4097 531 \nL 4097 0 \nL 288 0 \nL 288 481 \nL 3238 4134 \nL 359 4134 \nL 359 4666 \nz\n\" transform=\"scale(0.015625)\"/>\n      </defs>\n      <use xlink:href=\"#DejaVuSans-5a\"/>\n      <use xlink:href=\"#DejaVuSans-45\" x=\"68.505859\"/>\n      <use xlink:href=\"#DejaVuSans-43\" x=\"131.689453\"/>\n     </g>\n    </g>\n    <g id=\"line2d_43\">\n     <path d=\"M 61.160938 154.1935 \nL 71.160938 154.1935 \nL 81.160938 154.1935 \n\" style=\"fill: none; stroke: #0000ff; stroke-width: 1.5; stroke-linecap: square\"/>\n    </g>\n    <g id=\"text_15\">\n     <!-- HEC -->\n     <g transform=\"translate(89.160938 157.6935) scale(0.1 -0.1)\">\n      <defs>\n       <path id=\"DejaVuSans-48\" d=\"M 628 4666 \nL 1259 4666 \nL 1259 2753 \nL 3553 2753 \nL 3553 4666 \nL 4184 4666 \nL 4184 0 \nL 3553 0 \nL 3553 2222 \nL 1259 2222 \nL 1259 0 \nL 628 0 \nL 628 4666 \nz\n\" transform=\"scale(0.015625)\"/>\n      </defs>\n      <use xlink:href=\"#DejaVuSans-48\"/>\n      <use xlink:href=\"#DejaVuSans-45\" x=\"75.195312\"/>\n      <use xlink:href=\"#DejaVuSans-43\" x=\"138.378906\"/>\n     </g>\n    </g>\n   </g>\n  </g>\n </g>\n <defs>\n  <clipPath id=\"pf5807154f9\">\n   <rect x=\"52.160938\" y=\"7.2\" width=\"357.12\" height=\"266.112\"/>\n  </clipPath>\n </defs>\n</svg>\n",
      "text/plain": [
       "<Figure size 640x480 with 1 Axes>"
      ]
     },
     "metadata": {},
     "output_type": "display_data"
    }
   ],
   "source": [
    "for i in range(10):\n",
    "    plt.plot(CEC_centrality(HG).values(), c= 'g', label='CEC')\n",
    "    plt.plot(ZEC_centrality(HG).values(), c= 'r', label='ZEC')\n",
    "    plt.plot(HEC_centrality(HG).values(), c= 'b', label='HEC')\n",
    "\n",
    "plt.legend(['CEC', 'ZEC', 'HEC'])\n",
    "# x ticks are nodes\n",
    "plt.xticks(range(HG.num_nodes()));\n",
    "plt.xlabel('Nodes')\n",
    "plt.ylabel('Centrality')"
   ]
  }
 ],
 "metadata": {
  "kernelspec": {
   "display_name": "base",
   "language": "python",
   "name": "python3"
  },
  "language_info": {
   "codemirror_mode": {
    "name": "ipython",
    "version": 3
   },
   "file_extension": ".py",
   "mimetype": "text/x-python",
   "name": "python",
   "nbconvert_exporter": "python",
   "pygments_lexer": "ipython3",
   "version": "3.9.9"
  },
  "orig_nbformat": 4,
  "vscode": {
   "interpreter": {
    "hash": "a063a9d6d4095dba70f7d4a438ef288e94ffec589b0525f5b20de998ec61033a"
   }
  }
 },
 "nbformat": 4,
 "nbformat_minor": 2
}
