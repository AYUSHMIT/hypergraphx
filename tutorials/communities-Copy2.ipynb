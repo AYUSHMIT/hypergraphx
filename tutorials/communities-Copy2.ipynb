{
 "cells": [
  {
   "cell_type": "markdown",
   "metadata": {},
   "source": [
    "# TODO change some things once they are ready: import of hnx in first cell, and data loading below."
   ]
  },
  {
   "cell_type": "code",
   "execution_count": 1,
   "metadata": {},
   "outputs": [],
   "source": [
    "%load_ext autoreload\n",
    "%autoreload 2"
   ]
  },
  {
   "cell_type": "code",
   "execution_count": 2,
   "metadata": {
    "pycharm": {
     "name": "#%%\n"
    }
   },
   "outputs": [],
   "source": [
    "import sys\n",
    "\n",
    "import numpy as np\n",
    "\n",
    "sys.path.append(\"..\")\n",
    "import hnx\n",
    "from hnx.readwrite import load_hypergraph\n",
    "from hnx.communities.hypergraph_mt.model import HypergraphMT\n",
    "from hnx.core.hypergraph import Hypergraph"
   ]
  },
  {
   "cell_type": "markdown",
   "metadata": {},
   "source": [
    "# Training the *Hypergragh-MT* model"
   ]
  },
  {
   "cell_type": "markdown",
   "metadata": {},
   "source": [
    "In this tutorial, we will show how to train the *Hypergraph-MT* model on a given dataset."
   ]
  },
  {
   "cell_type": "markdown",
   "metadata": {},
   "source": [
    "# TODO change data loading once hnx module is available"
   ]
  },
  {
   "cell_type": "code",
   "execution_count": 3,
   "metadata": {},
   "outputs": [],
   "source": [
    "dataset = 'workplace'\n",
    "filename = f'../../hoinetx/hoinetx/data/input/{dataset}.npz'\n",
    "data = np.load(filename, allow_pickle=True)"
   ]
  },
  {
   "cell_type": "code",
   "execution_count": 52,
   "metadata": {},
   "outputs": [
    {
     "name": "stdout",
     "output_type": "stream",
     "text": [
      "Hypergraph with 327 nodes and 7818 edges.\n",
      "Distribution of hyperedge sizes: {2: 5498, 3: 2091, 4: 222, 5: 7}\n"
     ]
    }
   ],
   "source": [
    "H = hnx.Hypergraph(data['hyperedges'], weighted=True, weights=data['A'])\n",
    "print(H)"
   ]
  },
  {
   "cell_type": "code",
   "execution_count": 5,
   "metadata": {},
   "outputs": [
    {
     "name": "stdout",
     "output_type": "stream",
     "text": [
      "Hypergraph with 92 nodes and 788 edges.\n",
      "Distribution of hyperedge sizes: {2: 742, 3: 44, 4: 2}\n"
     ]
    }
   ],
   "source": [
    "dataset = 'workplace'\n",
    "H = load_hypergraph(f\"../test_data/{dataset}/{dataset}.pickle\", \"pickle\")\n",
    "print(H)"
   ]
  },
  {
   "cell_type": "markdown",
   "metadata": {},
   "source": [
    "## Model training"
   ]
  },
  {
   "cell_type": "markdown",
   "metadata": {},
   "source": [
    "Training the model simply requires specifying the number $K$ of communities and whether the model needs to be assortative."
   ]
  },
  {
   "cell_type": "code",
   "execution_count": 5,
   "metadata": {
    "scrolled": true
   },
   "outputs": [
    {
     "ename": "NameError",
     "evalue": "name 'Hnew' is not defined",
     "output_type": "error",
     "traceback": [
      "\u001b[0;31m---------------------------------------------------------------------------\u001b[0m",
      "\u001b[0;31mNameError\u001b[0m                                 Traceback (most recent call last)",
      "File \u001b[0;32m<timed exec>:2\u001b[0m, in \u001b[0;36m<module>\u001b[0;34m\u001b[0m\n",
      "\u001b[0;31mNameError\u001b[0m: name 'Hnew' is not defined"
     ]
    }
   ],
   "source": [
    "%%time\n",
    "\n",
    "model = HypergraphMT()\n",
    "u, w, maxL = model.fit(Hnew, K=5, seed=10, normalizeU=False, out_inference=False)"
   ]
  },
  {
   "cell_type": "code",
   "execution_count": 53,
   "metadata": {
    "scrolled": false
   },
   "outputs": [
    {
     "name": "stdout",
     "output_type": "stream",
     "text": [
      "u is initialized around the solution of the Hypergraph Spectral Clustering.\n",
      "w is initialized randomly.\n",
      "Updating realization 0 ...\n",
      "N_real=0 -- num it=46 -- Loglikelihood:407055.1288588521\n",
      "u is initialized randomly.\n",
      "w is initialized randomly.\n",
      "Updating realization 1 ...\n",
      "N_real=1 -- num it=144 -- Loglikelihood:391915.778579336\n",
      "u is initialized randomly.\n",
      "w is initialized randomly.\n",
      "Updating realization 2 ...\n",
      "N_real=2 -- num it=131 -- Loglikelihood:393064.02161420905\n",
      "u is initialized randomly.\n",
      "w is initialized randomly.\n",
      "Updating realization 3 ...\n",
      "N_real=3 -- num it=263 -- Loglikelihood:371649.7474303625\n",
      "u is initialized randomly.\n",
      "w is initialized randomly.\n",
      "Updating realization 4 ...\n",
      "N_real=4 -- num it=93 -- Loglikelihood:371713.43536923523\n",
      "u is initialized randomly.\n",
      "w is initialized randomly.\n",
      "Updating realization 5 ...\n",
      "N_real=5 -- num it=146 -- Loglikelihood:386579.52933847817\n",
      "u is initialized randomly.\n",
      "w is initialized randomly.\n",
      "Updating realization 6 ...\n",
      "N_real=6 -- num it=215 -- Loglikelihood:371789.44957415224\n",
      "u is initialized randomly.\n",
      "w is initialized randomly.\n",
      "Updating realization 7 ...\n",
      "N_real=7 -- num it=96 -- Loglikelihood:378562.9078081241\n",
      "u is initialized randomly.\n",
      "w is initialized randomly.\n",
      "Updating realization 8 ...\n",
      "N_real=8 -- num it=118 -- Loglikelihood:379364.5858746946\n",
      "u is initialized randomly.\n",
      "w is initialized randomly.\n",
      "Updating realization 9 ...\n",
      "N_real=9 -- num it=179 -- Loglikelihood:372784.41021146346\n",
      "u is initialized randomly.\n",
      "w is initialized randomly.\n",
      "Updating realization 10 ...\n",
      "N_real=10 -- num it=82 -- Loglikelihood:378564.7792194745\n",
      "u is initialized randomly.\n",
      "w is initialized randomly.\n",
      "Updating realization 11 ...\n",
      "N_real=11 -- num it=137 -- Loglikelihood:375702.7651673805\n",
      "u is initialized randomly.\n",
      "w is initialized randomly.\n",
      "Updating realization 12 ...\n",
      "N_real=12 -- num it=87 -- Loglikelihood:385397.4077326823\n",
      "u is initialized randomly.\n",
      "w is initialized randomly.\n",
      "Updating realization 13 ...\n",
      "N_real=13 -- num it=118 -- Loglikelihood:360730.54032535077\n",
      "u is initialized randomly.\n",
      "w is initialized randomly.\n",
      "Updating realization 14 ...\n",
      "N_real=14 -- num it=113 -- Loglikelihood:382011.9849206805\n",
      "CPU times: user 6min 10s, sys: 2.94 s, total: 6min 13s\n",
      "Wall time: 6min 6s\n"
     ]
    }
   ],
   "source": [
    "%%time\n",
    "\n",
    "model = HypergraphMT()\n",
    "u, w, maxL = model.fit(H, K=9, seed=10, normalizeU=False, out_inference=False)"
   ]
  },
  {
   "cell_type": "code",
   "execution_count": 10,
   "metadata": {},
   "outputs": [],
   "source": [
    "import pandas as pd"
   ]
  },
  {
   "cell_type": "code",
   "execution_count": 80,
   "metadata": {
    "collapsed": true
   },
   "outputs": [
    {
     "data": {
      "text/html": [
       "<div>\n",
       "<style scoped>\n",
       "    .dataframe tbody tr th:only-of-type {\n",
       "        vertical-align: middle;\n",
       "    }\n",
       "\n",
       "    .dataframe tbody tr th {\n",
       "        vertical-align: top;\n",
       "    }\n",
       "\n",
       "    .dataframe thead th {\n",
       "        text-align: right;\n",
       "    }\n",
       "</style>\n",
       "<table border=\"1\" class=\"dataframe\">\n",
       "  <thead>\n",
       "    <tr style=\"text-align: right;\">\n",
       "      <th></th>\n",
       "      <th>nodeID</th>\n",
       "      <th>nodeName</th>\n",
       "      <th>class</th>\n",
       "      <th>classID</th>\n",
       "    </tr>\n",
       "  </thead>\n",
       "  <tbody>\n",
       "    <tr>\n",
       "      <th>0</th>\n",
       "      <td>0</td>\n",
       "      <td>35</td>\n",
       "      <td>DISQ</td>\n",
       "      <td>0</td>\n",
       "    </tr>\n",
       "    <tr>\n",
       "      <th>1</th>\n",
       "      <td>1</td>\n",
       "      <td>131</td>\n",
       "      <td>DISQ</td>\n",
       "      <td>0</td>\n",
       "    </tr>\n",
       "    <tr>\n",
       "      <th>2</th>\n",
       "      <td>2</td>\n",
       "      <td>184</td>\n",
       "      <td>DISQ</td>\n",
       "      <td>0</td>\n",
       "    </tr>\n",
       "    <tr>\n",
       "      <th>3</th>\n",
       "      <td>3</td>\n",
       "      <td>185</td>\n",
       "      <td>DISQ</td>\n",
       "      <td>0</td>\n",
       "    </tr>\n",
       "    <tr>\n",
       "      <th>4</th>\n",
       "      <td>4</td>\n",
       "      <td>210</td>\n",
       "      <td>DISQ</td>\n",
       "      <td>0</td>\n",
       "    </tr>\n",
       "    <tr>\n",
       "      <th>...</th>\n",
       "      <td>...</td>\n",
       "      <td>...</td>\n",
       "      <td>...</td>\n",
       "      <td>...</td>\n",
       "    </tr>\n",
       "    <tr>\n",
       "      <th>87</th>\n",
       "      <td>87</td>\n",
       "      <td>271</td>\n",
       "      <td>SRH</td>\n",
       "      <td>4</td>\n",
       "    </tr>\n",
       "    <tr>\n",
       "      <th>88</th>\n",
       "      <td>88</td>\n",
       "      <td>448</td>\n",
       "      <td>SRH</td>\n",
       "      <td>4</td>\n",
       "    </tr>\n",
       "    <tr>\n",
       "      <th>89</th>\n",
       "      <td>89</td>\n",
       "      <td>481</td>\n",
       "      <td>SRH</td>\n",
       "      <td>4</td>\n",
       "    </tr>\n",
       "    <tr>\n",
       "      <th>90</th>\n",
       "      <td>90</td>\n",
       "      <td>492</td>\n",
       "      <td>SRH</td>\n",
       "      <td>4</td>\n",
       "    </tr>\n",
       "    <tr>\n",
       "      <th>91</th>\n",
       "      <td>91</td>\n",
       "      <td>499</td>\n",
       "      <td>SRH</td>\n",
       "      <td>4</td>\n",
       "    </tr>\n",
       "  </tbody>\n",
       "</table>\n",
       "<p>92 rows × 4 columns</p>\n",
       "</div>"
      ],
      "text/plain": [
       "    nodeID  nodeName class  classID\n",
       "0        0        35  DISQ        0\n",
       "1        1       131  DISQ        0\n",
       "2        2       184  DISQ        0\n",
       "3        3       185  DISQ        0\n",
       "4        4       210  DISQ        0\n",
       "..     ...       ...   ...      ...\n",
       "87      87       271   SRH        4\n",
       "88      88       448   SRH        4\n",
       "89      89       481   SRH        4\n",
       "90      90       492   SRH        4\n",
       "91      91       499   SRH        4\n",
       "\n",
       "[92 rows x 4 columns]"
      ]
     },
     "execution_count": 80,
     "metadata": {},
     "output_type": "execute_result"
    }
   ],
   "source": [
    "meta = pd.read_csv('../test_data/workplace/workplace_meta.csv')\n",
    "meta"
   ]
  },
  {
   "cell_type": "code",
   "execution_count": 84,
   "metadata": {
    "collapsed": true
   },
   "outputs": [
    {
     "data": {
      "text/plain": [
       "{15: 0,\n",
       " 17: 1,\n",
       " 21: 2,\n",
       " 29: 3,\n",
       " 35: 4,\n",
       " 39: 5,\n",
       " 48: 6,\n",
       " 50: 7,\n",
       " 56: 8,\n",
       " 63: 9,\n",
       " 66: 10,\n",
       " 79: 11,\n",
       " 80: 12,\n",
       " 87: 13,\n",
       " 95: 14,\n",
       " 101: 15,\n",
       " 102: 16,\n",
       " 105: 17,\n",
       " 113: 18,\n",
       " 116: 19,\n",
       " 118: 20,\n",
       " 119: 21,\n",
       " 120: 22,\n",
       " 122: 23,\n",
       " 123: 24,\n",
       " 131: 25,\n",
       " 132: 26,\n",
       " 134: 27,\n",
       " 150: 28,\n",
       " 153: 29,\n",
       " 154: 30,\n",
       " 164: 31,\n",
       " 172: 32,\n",
       " 179: 33,\n",
       " 181: 34,\n",
       " 184: 35,\n",
       " 185: 36,\n",
       " 194: 37,\n",
       " 196: 38,\n",
       " 205: 39,\n",
       " 209: 40,\n",
       " 210: 41,\n",
       " 211: 42,\n",
       " 213: 43,\n",
       " 222: 44,\n",
       " 223: 45,\n",
       " 240: 46,\n",
       " 242: 47,\n",
       " 253: 48,\n",
       " 255: 49,\n",
       " 265: 50,\n",
       " 267: 51,\n",
       " 268: 52,\n",
       " 271: 53,\n",
       " 272: 54,\n",
       " 273: 55,\n",
       " 275: 56,\n",
       " 285: 57,\n",
       " 311: 58,\n",
       " 335: 59,\n",
       " 431: 60,\n",
       " 448: 61,\n",
       " 481: 62,\n",
       " 492: 63,\n",
       " 494: 64,\n",
       " 496: 65,\n",
       " 499: 66,\n",
       " 511: 67,\n",
       " 513: 68,\n",
       " 533: 69,\n",
       " 601: 70,\n",
       " 603: 71,\n",
       " 662: 72,\n",
       " 709: 73,\n",
       " 743: 74,\n",
       " 751: 75,\n",
       " 762: 76,\n",
       " 765: 77,\n",
       " 771: 78,\n",
       " 778: 79,\n",
       " 779: 80,\n",
       " 784: 81,\n",
       " 786: 82,\n",
       " 791: 83,\n",
       " 804: 84,\n",
       " 819: 85,\n",
       " 826: 86,\n",
       " 845: 87,\n",
       " 875: 88,\n",
       " 938: 89,\n",
       " 939: 90,\n",
       " 987: 91}"
      ]
     },
     "execution_count": 84,
     "metadata": {},
     "output_type": "execute_result"
    }
   ],
   "source": [
    "mapping_new = {n:i for i,n in enumerate(sorted(Hnew.get_nodes()))}\n",
    "mapping_new"
   ]
  },
  {
   "cell_type": "code",
   "execution_count": 85,
   "metadata": {
    "scrolled": true
   },
   "outputs": [
    {
     "data": {
      "text/plain": [
       "{35: 4,\n",
       " 131: 25,\n",
       " 184: 35,\n",
       " 185: 36,\n",
       " 210: 41,\n",
       " 743: 74,\n",
       " 751: 75,\n",
       " 253: 48,\n",
       " 255: 49,\n",
       " 265: 50,\n",
       " 778: 79,\n",
       " 268: 52,\n",
       " 273: 55,\n",
       " 826: 86,\n",
       " 845: 87,\n",
       " 17: 1,\n",
       " 21: 2,\n",
       " 48: 6,\n",
       " 50: 7,\n",
       " 66: 10,\n",
       " 80: 12,\n",
       " 101: 15,\n",
       " 102: 16,\n",
       " 105: 17,\n",
       " 118: 20,\n",
       " 119: 21,\n",
       " 134: 27,\n",
       " 179: 33,\n",
       " 209: 40,\n",
       " 240: 46,\n",
       " 762: 76,\n",
       " 771: 78,\n",
       " 784: 81,\n",
       " 275: 56,\n",
       " 285: 57,\n",
       " 804: 84,\n",
       " 335: 59,\n",
       " 875: 88,\n",
       " 938: 89,\n",
       " 431: 60,\n",
       " 511: 67,\n",
       " 513: 68,\n",
       " 15: 0,\n",
       " 29: 3,\n",
       " 39: 5,\n",
       " 56: 8,\n",
       " 79: 11,\n",
       " 603: 71,\n",
       " 95: 14,\n",
       " 113: 18,\n",
       " 120: 22,\n",
       " 123: 24,\n",
       " 132: 26,\n",
       " 662: 72,\n",
       " 164: 31,\n",
       " 172: 32,\n",
       " 181: 34,\n",
       " 194: 37,\n",
       " 196: 38,\n",
       " 205: 39,\n",
       " 222: 44,\n",
       " 223: 45,\n",
       " 242: 47,\n",
       " 765: 77,\n",
       " 267: 51,\n",
       " 779: 80,\n",
       " 272: 54,\n",
       " 786: 82,\n",
       " 791: 83,\n",
       " 819: 85,\n",
       " 311: 58,\n",
       " 939: 90,\n",
       " 987: 91,\n",
       " 494: 64,\n",
       " 496: 65,\n",
       " 87: 13,\n",
       " 116: 19,\n",
       " 211: 42,\n",
       " 213: 43,\n",
       " 533: 69,\n",
       " 63: 9,\n",
       " 601: 70,\n",
       " 122: 23,\n",
       " 150: 28,\n",
       " 153: 29,\n",
       " 154: 30,\n",
       " 709: 73,\n",
       " 271: 53,\n",
       " 448: 61,\n",
       " 481: 62,\n",
       " 492: 63,\n",
       " 499: 66}"
      ]
     },
     "execution_count": 85,
     "metadata": {},
     "output_type": "execute_result"
    }
   ],
   "source": [
    "mapping = {n:mapping_new[n] for n in meta.nodeName}\n",
    "mapping"
   ]
  },
  {
   "cell_type": "code",
   "execution_count": null,
   "metadata": {},
   "outputs": [],
   "source": [
    "H."
   ]
  },
  {
   "cell_type": "code",
   "execution_count": 113,
   "metadata": {},
   "outputs": [
    {
     "data": {
      "text/plain": [
       "(<92x788 sparse array of type '<class 'numpy.uint8'>'\n",
       " \twith 1624 stored elements in Compressed Sparse Row format>,\n",
       " {0: 15,\n",
       "  1: 17,\n",
       "  2: 21,\n",
       "  3: 29,\n",
       "  4: 35,\n",
       "  5: 39,\n",
       "  6: 48,\n",
       "  7: 50,\n",
       "  8: 56,\n",
       "  9: 63,\n",
       "  10: 66,\n",
       "  11: 79,\n",
       "  12: 80,\n",
       "  13: 87,\n",
       "  14: 95,\n",
       "  15: 101,\n",
       "  16: 102,\n",
       "  17: 105,\n",
       "  18: 113,\n",
       "  19: 116,\n",
       "  20: 118,\n",
       "  21: 119,\n",
       "  22: 120,\n",
       "  23: 122,\n",
       "  24: 123,\n",
       "  25: 131,\n",
       "  26: 132,\n",
       "  27: 134,\n",
       "  28: 150,\n",
       "  29: 153,\n",
       "  30: 154,\n",
       "  31: 164,\n",
       "  32: 172,\n",
       "  33: 179,\n",
       "  34: 181,\n",
       "  35: 184,\n",
       "  36: 185,\n",
       "  37: 194,\n",
       "  38: 196,\n",
       "  39: 205,\n",
       "  40: 209,\n",
       "  41: 210,\n",
       "  42: 211,\n",
       "  43: 213,\n",
       "  44: 222,\n",
       "  45: 223,\n",
       "  46: 240,\n",
       "  47: 242,\n",
       "  48: 253,\n",
       "  49: 255,\n",
       "  50: 265,\n",
       "  51: 267,\n",
       "  52: 268,\n",
       "  53: 271,\n",
       "  54: 272,\n",
       "  55: 273,\n",
       "  56: 275,\n",
       "  57: 285,\n",
       "  58: 311,\n",
       "  59: 335,\n",
       "  60: 431,\n",
       "  61: 448,\n",
       "  62: 481,\n",
       "  63: 492,\n",
       "  64: 494,\n",
       "  65: 496,\n",
       "  66: 499,\n",
       "  67: 511,\n",
       "  68: 513,\n",
       "  69: 533,\n",
       "  70: 601,\n",
       "  71: 603,\n",
       "  72: 662,\n",
       "  73: 709,\n",
       "  74: 743,\n",
       "  75: 751,\n",
       "  76: 762,\n",
       "  77: 765,\n",
       "  78: 771,\n",
       "  79: 778,\n",
       "  80: 779,\n",
       "  81: 784,\n",
       "  82: 786,\n",
       "  83: 791,\n",
       "  84: 804,\n",
       "  85: 819,\n",
       "  86: 826,\n",
       "  87: 845,\n",
       "  88: 875,\n",
       "  89: 938,\n",
       "  90: 939,\n",
       "  91: 987})"
      ]
     },
     "execution_count": 113,
     "metadata": {},
     "output_type": "execute_result"
    }
   ],
   "source": [
    "Hnew.binary_incidence_matrix(return_mapping=True)"
   ]
  },
  {
   "cell_type": "code",
   "execution_count": 114,
   "metadata": {},
   "outputs": [
    {
     "data": {
      "text/plain": [
       "dict_values([4, 25, 35, 36, 41, 74, 75, 48, 49, 50, 79, 52, 55, 86, 87, 1, 2, 6, 7, 10, 12, 15, 16, 17, 20, 21, 27, 33, 40, 46, 76, 78, 81, 56, 57, 84, 59, 88, 89, 60, 67, 68, 0, 3, 5, 8, 11, 71, 14, 18, 22, 24, 26, 72, 31, 32, 34, 37, 38, 39, 44, 45, 47, 77, 51, 80, 54, 82, 83, 85, 58, 90, 91, 64, 65, 13, 19, 42, 43, 69, 9, 70, 23, 28, 29, 30, 73, 53, 61, 62, 63, 66])"
      ]
     },
     "execution_count": 114,
     "metadata": {},
     "output_type": "execute_result"
    }
   ],
   "source": [
    "mapping.values()"
   ]
  },
  {
   "cell_type": "code",
   "execution_count": 99,
   "metadata": {
    "scrolled": false
   },
   "outputs": [
    {
     "data": {
      "text/plain": [
       "array([12, 18, 26,  9,  4, 10, 22, 18, 21, 27, 21, 19, 17, 27,  9, 19, 17,\n",
       "       16, 25,  9, 31, 13, 21, 10,  9, 21, 34, 14, 20, 16, 18, 16,  8, 20,\n",
       "       16, 48, 17, 28,  5, 17,  6,  6,  8, 24, 29, 22, 21, 11, 38, 16, 26,\n",
       "       30, 16, 30, 13, 15, 16, 28, 17, 17, 27, 31,  6, 15, 28, 15,  4,  7,\n",
       "        4, 15, 42, 15, 10,  9, 22,  4, 20, 18,  7, 16, 29, 11, 11, 24, 19,\n",
       "       18, 13, 18, 15, 13, 10, 11], dtype=uint64)"
      ]
     },
     "execution_count": 99,
     "metadata": {},
     "output_type": "execute_result"
    }
   ],
   "source": [
    "Hnew.binary_incidence_matrix().toarray()[list(mapping.values())].sum(axis=1)"
   ]
  },
  {
   "cell_type": "code",
   "execution_count": 101,
   "metadata": {},
   "outputs": [
    {
     "data": {
      "text/plain": [
       "array([12, 18, 26,  9,  4, 10, 22, 18, 21, 27, 21, 19, 17, 27,  9, 19, 17,\n",
       "       16, 25,  9, 31, 13, 21, 10,  9, 21, 34, 14, 20, 16, 18, 16,  8, 20,\n",
       "       16, 48, 17, 28,  5, 17,  6,  6,  8, 24, 29, 22, 21, 11, 38, 16, 26,\n",
       "       30, 16, 30, 13, 15, 16, 28, 17, 17, 27, 31,  6, 15, 28, 15,  4,  7,\n",
       "        4, 15, 42, 15, 10,  9, 22,  4, 20, 18,  7, 16, 29, 11, 11, 24, 19,\n",
       "       18, 13, 18, 15, 13, 10, 11], dtype=uint64)"
      ]
     },
     "execution_count": 101,
     "metadata": {},
     "output_type": "execute_result"
    }
   ],
   "source": [
    "H.binary_incidence_matrix().toarray().sum(axis=1)"
   ]
  },
  {
   "cell_type": "code",
   "execution_count": 102,
   "metadata": {
    "pycharm": {
     "name": "#%%\n"
    },
    "scrolled": true
   },
   "outputs": [],
   "source": [
    "import matplotlib.pyplot as plt"
   ]
  },
  {
   "cell_type": "code",
   "execution_count": 112,
   "metadata": {},
   "outputs": [
    {
     "data": {
      "text/plain": [
       "16.438114099378975"
      ]
     },
     "execution_count": 112,
     "metadata": {},
     "output_type": "execute_result"
    }
   ],
   "source": [
    "np.max(u_new)"
   ]
  },
  {
   "cell_type": "code",
   "execution_count": 118,
   "metadata": {},
   "outputs": [
    {
     "data": {
      "image/png": "[encoded data removed]",
      "text/plain": [
       "<Figure size 720x360 with 2 Axes>"
      ]
     },
     "metadata": {
      "needs_background": "light"
     },
     "output_type": "display_data"
    }
   ],
   "source": [
    "fig, ax = plt.subplots(1,2,figsize=(10,5))\n",
    "ax[0].matshow(u_new, cmap='Blues', aspect='auto')\n",
    "ax[1].matshow(u, cmap='Blues', aspect='auto')\n",
    "plt.show()"
   ]
  },
  {
   "cell_type": "code",
   "execution_count": 9,
   "metadata": {
    "pycharm": {
     "name": "#%%\n"
    }
   },
   "outputs": [
    {
     "data": {
      "text/plain": [
       "array([[3.66497360e+000, 1.25090800e+001, 1.25793927e+001,\n",
       "        1.76251687e+001, 1.04493702e+001],\n",
       "       [1.61763767e-002, 2.21449135e-002, 1.83299323e-002,\n",
       "        4.43662401e-002, 2.63779711e-003],\n",
       "       [4.75317009e-210, 0.00000000e+000, 0.00000000e+000,\n",
       "        6.17174684e-004, 0.00000000e+000]])"
      ]
     },
     "execution_count": 9,
     "metadata": {},
     "output_type": "execute_result"
    }
   ],
   "source": [
    "w"
   ]
  },
  {
   "cell_type": "code",
   "execution_count": 119,
   "metadata": {
    "pycharm": {
     "name": "#%%\n"
    },
    "scrolled": true
   },
   "outputs": [
    {
     "data": {
      "text/plain": [
       "array([[1.01864837e-02, 2.00624690e-01, 0.00000000e+00, 0.00000000e+00,\n",
       "        0.00000000e+00],\n",
       "       [0.00000000e+00, 6.31497433e-02, 5.30040492e-01, 0.00000000e+00,\n",
       "        8.69110208e-03],\n",
       "       [1.43115431e-01, 1.75858927e+00, 0.00000000e+00, 6.95917292e-03,\n",
       "        0.00000000e+00],\n",
       "       [0.00000000e+00, 2.05014059e-01, 0.00000000e+00, 0.00000000e+00,\n",
       "        0.00000000e+00],\n",
       "       [0.00000000e+00, 3.01169421e-02, 4.03716330e-03, 0.00000000e+00,\n",
       "        0.00000000e+00],\n",
       "       [2.08209008e-02, 7.43551009e-01, 0.00000000e+00, 0.00000000e+00,\n",
       "        0.00000000e+00],\n",
       "       [0.00000000e+00, 1.85023068e+00, 0.00000000e+00, 0.00000000e+00,\n",
       "        0.00000000e+00],\n",
       "       [4.99336275e+00, 0.00000000e+00, 6.67886417e-03, 0.00000000e+00,\n",
       "        0.00000000e+00],\n",
       "       [3.21545551e-02, 4.13846751e-01, 5.57569869e-02, 1.18661487e-02,\n",
       "        1.29175954e-02],\n",
       "       [0.00000000e+00, 1.37429070e+00, 2.37121164e-02, 1.79284099e-02,\n",
       "        0.00000000e+00],\n",
       "       [0.00000000e+00, 1.71922884e+00, 0.00000000e+00, 0.00000000e+00,\n",
       "        0.00000000e+00],\n",
       "       [0.00000000e+00, 1.18598817e+00, 0.00000000e+00, 9.93827042e-04,\n",
       "        0.00000000e+00],\n",
       "       [1.01301507e-02, 1.26057021e+00, 0.00000000e+00, 0.00000000e+00,\n",
       "        0.00000000e+00],\n",
       "       [0.00000000e+00, 8.53176915e-01, 2.02506421e-02, 1.85068509e-02,\n",
       "        0.00000000e+00],\n",
       "       [1.33374196e-01, 1.36378188e-01, 1.32599283e-01, 0.00000000e+00,\n",
       "        0.00000000e+00],\n",
       "       [0.00000000e+00, 0.00000000e+00, 4.76233640e-01, 1.74908518e-05,\n",
       "        0.00000000e+00],\n",
       "       [0.00000000e+00, 0.00000000e+00, 2.88085457e-01, 9.94861991e-03,\n",
       "        0.00000000e+00],\n",
       "       [0.00000000e+00, 0.00000000e+00, 4.22908364e-01, 3.17559985e-03,\n",
       "        0.00000000e+00],\n",
       "       [0.00000000e+00, 0.00000000e+00, 1.61585455e+00, 0.00000000e+00,\n",
       "        0.00000000e+00],\n",
       "       [0.00000000e+00, 0.00000000e+00, 3.50927368e-01, 3.13991173e-03,\n",
       "        0.00000000e+00],\n",
       "       [9.27419828e-03, 0.00000000e+00, 3.39303369e-01, 2.24519535e-01,\n",
       "        4.26882058e-03],\n",
       "       [0.00000000e+00, 0.00000000e+00, 1.92265499e+00, 0.00000000e+00,\n",
       "        0.00000000e+00],\n",
       "       [0.00000000e+00, 0.00000000e+00, 6.53766599e-01, 4.55267766e-03,\n",
       "        1.00457848e-02],\n",
       "       [0.00000000e+00, 6.13785046e-05, 0.00000000e+00, 7.10739065e-01,\n",
       "        0.00000000e+00],\n",
       "       [4.98809049e-03, 6.13004530e-02, 3.00673312e-02, 2.63438584e-02,\n",
       "        0.00000000e+00],\n",
       "       [0.00000000e+00, 6.74448683e-03, 3.72995095e-01, 1.97815556e-02,\n",
       "        3.09545020e-01],\n",
       "       [1.75030369e-02, 2.52756405e-01, 6.60413131e-01, 2.71457381e-02,\n",
       "        0.00000000e+00],\n",
       "       [0.00000000e+00, 0.00000000e+00, 1.43153949e+00, 0.00000000e+00,\n",
       "        0.00000000e+00],\n",
       "       [0.00000000e+00, 5.23907660e-03, 2.78451331e-01, 0.00000000e+00,\n",
       "        0.00000000e+00],\n",
       "       [0.00000000e+00, 8.05871512e-03, 3.65473539e-01, 3.30537816e-03,\n",
       "        0.00000000e+00],\n",
       "       [0.00000000e+00, 0.00000000e+00, 5.64153027e-01, 0.00000000e+00,\n",
       "        0.00000000e+00],\n",
       "       [0.00000000e+00, 0.00000000e+00, 3.75109279e-01, 1.22904194e-02,\n",
       "        0.00000000e+00],\n",
       "       [0.00000000e+00, 2.73974231e-02, 2.20665077e-01, 0.00000000e+00,\n",
       "        0.00000000e+00],\n",
       "       [0.00000000e+00, 0.00000000e+00, 3.96932224e-01, 1.37032678e-02,\n",
       "        0.00000000e+00],\n",
       "       [0.00000000e+00, 2.42647888e-02, 5.55623310e-01, 0.00000000e+00,\n",
       "        0.00000000e+00],\n",
       "       [1.26845911e-02, 4.16163940e-01, 1.40714103e+00, 1.37035504e-01,\n",
       "        0.00000000e+00],\n",
       "       [1.01574106e-02, 2.51912310e-04, 4.41989917e-01, 0.00000000e+00,\n",
       "        0.00000000e+00],\n",
       "       [0.00000000e+00, 2.49002760e-01, 8.48331749e-01, 0.00000000e+00,\n",
       "        0.00000000e+00],\n",
       "       [0.00000000e+00, 0.00000000e+00, 9.21591899e-02, 0.00000000e+00,\n",
       "        4.21579696e-03],\n",
       "       [0.00000000e+00, 3.09919670e-02, 5.46689910e-01, 7.26443775e-04,\n",
       "        0.00000000e+00],\n",
       "       [0.00000000e+00, 0.00000000e+00, 5.29856346e-01, 0.00000000e+00,\n",
       "        0.00000000e+00],\n",
       "       [0.00000000e+00, 0.00000000e+00, 0.00000000e+00, 1.56370560e-01,\n",
       "        0.00000000e+00],\n",
       "       [1.78037518e+00, 0.00000000e+00, 0.00000000e+00, 1.59378382e-02,\n",
       "        0.00000000e+00],\n",
       "       [6.41697373e-02, 0.00000000e+00, 0.00000000e+00, 4.01621810e-01,\n",
       "        8.48133310e-03],\n",
       "       [7.23809876e-02, 1.68833384e-02, 0.00000000e+00, 6.76456127e-01,\n",
       "        0.00000000e+00],\n",
       "       [0.00000000e+00, 6.08495154e-03, 2.66470062e-02, 5.66190218e-01,\n",
       "        0.00000000e+00],\n",
       "       [5.31730964e-01, 0.00000000e+00, 2.45000396e-02, 2.26965426e-01,\n",
       "        1.84681166e-01],\n",
       "       [1.11192161e-01, 0.00000000e+00, 0.00000000e+00, 6.26353300e-02,\n",
       "        7.64844781e-03],\n",
       "       [2.22998433e+00, 2.46857819e-03, 0.00000000e+00, 9.19113207e-01,\n",
       "        0.00000000e+00],\n",
       "       [0.00000000e+00, 0.00000000e+00, 0.00000000e+00, 8.16058953e-01,\n",
       "        0.00000000e+00],\n",
       "       [6.91413870e-02, 0.00000000e+00, 0.00000000e+00, 1.33590705e+00,\n",
       "        0.00000000e+00],\n",
       "       [1.37204585e+01, 0.00000000e+00, 0.00000000e+00, 0.00000000e+00,\n",
       "        1.38141608e-02],\n",
       "       [0.00000000e+00, 5.61397853e-03, 1.65994538e-04, 5.55858477e-01,\n",
       "        0.00000000e+00],\n",
       "       [0.00000000e+00, 8.82647971e-03, 7.44419912e-03, 5.05211324e-01,\n",
       "        0.00000000e+00],\n",
       "       [7.51455119e-01, 0.00000000e+00, 0.00000000e+00, 5.11030575e-02,\n",
       "        1.20025007e-02],\n",
       "       [7.75855699e-02, 0.00000000e+00, 5.04356558e-03, 2.42580560e-01,\n",
       "        0.00000000e+00],\n",
       "       [0.00000000e+00, 5.19220287e-05, 9.06592461e-02, 1.66827560e-01,\n",
       "        0.00000000e+00],\n",
       "       [1.37733453e-02, 1.81765422e-04, 2.92299953e-04, 1.23566054e+00,\n",
       "        0.00000000e+00],\n",
       "       [0.00000000e+00, 1.49184599e-02, 0.00000000e+00, 2.97885661e-01,\n",
       "        0.00000000e+00],\n",
       "       [0.00000000e+00, 0.00000000e+00, 1.90231621e-02, 5.46642089e-01,\n",
       "        4.23425660e-03],\n",
       "       [7.07815303e-02, 5.87708279e-02, 1.78260253e-02, 8.51054762e-01,\n",
       "        2.10240874e-02],\n",
       "       [7.81932334e-01, 0.00000000e+00, 0.00000000e+00, 7.44260537e-01,\n",
       "        6.45921511e-03],\n",
       "       [0.00000000e+00, 0.00000000e+00, 9.92876443e-03, 4.29849864e-02,\n",
       "        0.00000000e+00],\n",
       "       [1.04528303e-02, 0.00000000e+00, 1.26296609e-05, 5.92693271e-01,\n",
       "        5.12541409e-03],\n",
       "       [0.00000000e+00, 1.29798203e-03, 0.00000000e+00, 9.45966499e-01,\n",
       "        0.00000000e+00],\n",
       "       [0.00000000e+00, 5.43247163e-03, 0.00000000e+00, 1.93418957e-01,\n",
       "        0.00000000e+00],\n",
       "       [0.00000000e+00, 0.00000000e+00, 0.00000000e+00, 1.55106205e-02,\n",
       "        0.00000000e+00],\n",
       "       [0.00000000e+00, 0.00000000e+00, 0.00000000e+00, 3.31742175e-01,\n",
       "        0.00000000e+00],\n",
       "       [0.00000000e+00, 0.00000000e+00, 0.00000000e+00, 5.28494365e-02,\n",
       "        0.00000000e+00],\n",
       "       [0.00000000e+00, 0.00000000e+00, 0.00000000e+00, 4.94406637e-01,\n",
       "        0.00000000e+00],\n",
       "       [2.08410816e-01, 6.20585404e-03, 5.68214086e-01, 1.60762216e+00,\n",
       "        0.00000000e+00],\n",
       "       [0.00000000e+00, 0.00000000e+00, 0.00000000e+00, 2.96077256e-01,\n",
       "        8.82379489e-03],\n",
       "       [3.31100112e-02, 2.42728358e-03, 0.00000000e+00, 5.93613210e-02,\n",
       "        8.58906693e-03],\n",
       "       [1.05337796e-02, 0.00000000e+00, 0.00000000e+00, 7.51200930e-01,\n",
       "        0.00000000e+00],\n",
       "       [2.23172533e-02, 0.00000000e+00, 8.15682986e-03, 7.51356350e-01,\n",
       "        0.00000000e+00],\n",
       "       [0.00000000e+00, 3.89356189e-02, 0.00000000e+00, 5.58187599e-03,\n",
       "        0.00000000e+00],\n",
       "       [1.48650983e-02, 3.16047600e-01, 6.00041772e-02, 1.21800948e-02,\n",
       "        0.00000000e+00],\n",
       "       [0.00000000e+00, 3.35584100e-01, 2.03657462e-02, 5.77057803e-02,\n",
       "        0.00000000e+00],\n",
       "       [0.00000000e+00, 1.27995987e-01, 0.00000000e+00, 1.83210794e-02,\n",
       "        0.00000000e+00],\n",
       "       [7.52791167e-03, 6.41912682e-03, 0.00000000e+00, 0.00000000e+00,\n",
       "        1.61484432e+00],\n",
       "       [0.00000000e+00, 2.28420678e+00, 0.00000000e+00, 2.18695429e-02,\n",
       "        1.11868330e+00],\n",
       "       [0.00000000e+00, 0.00000000e+00, 0.00000000e+00, 2.62680147e-04,\n",
       "        1.29163108e+00],\n",
       "       [0.00000000e+00, 0.00000000e+00, 0.00000000e+00, 0.00000000e+00,\n",
       "        9.13672924e-01],\n",
       "       [2.28278413e-01, 4.61424252e-02, 3.16537589e-01, 0.00000000e+00,\n",
       "        1.55120408e+00],\n",
       "       [0.00000000e+00, 0.00000000e+00, 0.00000000e+00, 0.00000000e+00,\n",
       "        5.54613673e+00],\n",
       "       [0.00000000e+00, 8.73920482e-03, 0.00000000e+00, 8.80088252e-03,\n",
       "        7.81952682e-01],\n",
       "       [0.00000000e+00, 5.57642621e-01, 0.00000000e+00, 0.00000000e+00,\n",
       "        6.01819066e-01],\n",
       "       [0.00000000e+00, 0.00000000e+00, 0.00000000e+00, 0.00000000e+00,\n",
       "        6.40355896e+00],\n",
       "       [0.00000000e+00, 9.79536929e-02, 8.15674524e-03, 4.87670597e-03,\n",
       "        2.53977823e-01],\n",
       "       [0.00000000e+00, 1.81767466e+00, 0.00000000e+00, 0.00000000e+00,\n",
       "        1.44989116e-01],\n",
       "       [5.77986692e-03, 0.00000000e+00, 0.00000000e+00, 0.00000000e+00,\n",
       "        1.47663108e+00],\n",
       "       [0.00000000e+00, 0.00000000e+00, 0.00000000e+00, 0.00000000e+00,\n",
       "        3.20680588e-01]])"
      ]
     },
     "execution_count": 119,
     "metadata": {},
     "output_type": "execute_result"
    }
   ],
   "source": [
    "u"
   ]
  },
  {
   "cell_type": "code",
   "execution_count": 70,
   "metadata": {
    "pycharm": {
     "name": "#%%\n"
    }
   },
   "outputs": [
    {
     "data": {
      "text/plain": [
       "array([[1.48375513e+01, 1.15830047e+01, 3.64034413e+00, 5.92132224e+00,\n",
       "        2.16510703e+01],\n",
       "       [2.64279812e-02, 2.78153240e-02, 1.17812972e-03, 1.59680638e-03,\n",
       "        5.78192930e-02],\n",
       "       [0.00000000e+00, 0.00000000e+00, 0.00000000e+00, 0.00000000e+00,\n",
       "        5.41547200e-04]])"
      ]
     },
     "execution_count": 70,
     "metadata": {},
     "output_type": "execute_result"
    }
   ],
   "source": [
    "w"
   ]
  },
  {
   "cell_type": "code",
   "execution_count": 10,
   "metadata": {},
   "outputs": [
    {
     "data": {
      "text/html": [
       "<div>\n",
       "<style scoped>\n",
       "    .dataframe tbody tr th:only-of-type {\n",
       "        vertical-align: middle;\n",
       "    }\n",
       "\n",
       "    .dataframe tbody tr th {\n",
       "        vertical-align: top;\n",
       "    }\n",
       "\n",
       "    .dataframe thead th {\n",
       "        text-align: right;\n",
       "    }\n",
       "</style>\n",
       "<table border=\"1\" class=\"dataframe\">\n",
       "  <thead>\n",
       "    <tr style=\"text-align: right;\">\n",
       "      <th></th>\n",
       "      <th>realization</th>\n",
       "      <th>seed</th>\n",
       "      <th>iter</th>\n",
       "      <th>loglik</th>\n",
       "      <th>runtime</th>\n",
       "      <th>reached_convergence</th>\n",
       "    </tr>\n",
       "  </thead>\n",
       "  <tbody>\n",
       "    <tr>\n",
       "      <th>0</th>\n",
       "      <td>0</td>\n",
       "      <td>10</td>\n",
       "      <td>0</td>\n",
       "      <td>15260.805774</td>\n",
       "      <td>0.029972</td>\n",
       "      <td>False</td>\n",
       "    </tr>\n",
       "    <tr>\n",
       "      <th>1</th>\n",
       "      <td>0</td>\n",
       "      <td>10</td>\n",
       "      <td>1</td>\n",
       "      <td>15511.876956</td>\n",
       "      <td>0.030401</td>\n",
       "      <td>False</td>\n",
       "    </tr>\n",
       "    <tr>\n",
       "      <th>2</th>\n",
       "      <td>0</td>\n",
       "      <td>10</td>\n",
       "      <td>2</td>\n",
       "      <td>15628.890301</td>\n",
       "      <td>0.031680</td>\n",
       "      <td>False</td>\n",
       "    </tr>\n",
       "    <tr>\n",
       "      <th>3</th>\n",
       "      <td>0</td>\n",
       "      <td>10</td>\n",
       "      <td>3</td>\n",
       "      <td>15698.222098</td>\n",
       "      <td>0.033345</td>\n",
       "      <td>False</td>\n",
       "    </tr>\n",
       "    <tr>\n",
       "      <th>4</th>\n",
       "      <td>0</td>\n",
       "      <td>10</td>\n",
       "      <td>4</td>\n",
       "      <td>15728.848500</td>\n",
       "      <td>0.027752</td>\n",
       "      <td>False</td>\n",
       "    </tr>\n",
       "    <tr>\n",
       "      <th>...</th>\n",
       "      <td>...</td>\n",
       "      <td>...</td>\n",
       "      <td>...</td>\n",
       "      <td>...</td>\n",
       "      <td>...</td>\n",
       "      <td>...</td>\n",
       "    </tr>\n",
       "    <tr>\n",
       "      <th>1032</th>\n",
       "      <td>14</td>\n",
       "      <td>5909906</td>\n",
       "      <td>86</td>\n",
       "      <td>15830.759796</td>\n",
       "      <td>0.018154</td>\n",
       "      <td>False</td>\n",
       "    </tr>\n",
       "    <tr>\n",
       "      <th>1033</th>\n",
       "      <td>14</td>\n",
       "      <td>5909906</td>\n",
       "      <td>87</td>\n",
       "      <td>15830.834891</td>\n",
       "      <td>0.018506</td>\n",
       "      <td>False</td>\n",
       "    </tr>\n",
       "    <tr>\n",
       "      <th>1034</th>\n",
       "      <td>14</td>\n",
       "      <td>5909906</td>\n",
       "      <td>88</td>\n",
       "      <td>15830.910087</td>\n",
       "      <td>0.018711</td>\n",
       "      <td>False</td>\n",
       "    </tr>\n",
       "    <tr>\n",
       "      <th>1035</th>\n",
       "      <td>14</td>\n",
       "      <td>5909906</td>\n",
       "      <td>89</td>\n",
       "      <td>15830.984085</td>\n",
       "      <td>0.018209</td>\n",
       "      <td>False</td>\n",
       "    </tr>\n",
       "    <tr>\n",
       "      <th>1036</th>\n",
       "      <td>14</td>\n",
       "      <td>5909906</td>\n",
       "      <td>90</td>\n",
       "      <td>15831.057981</td>\n",
       "      <td>0.018704</td>\n",
       "      <td>True</td>\n",
       "    </tr>\n",
       "  </tbody>\n",
       "</table>\n",
       "<p>1037 rows × 6 columns</p>\n",
       "</div>"
      ],
      "text/plain": [
       "      realization     seed  iter        loglik   runtime  reached_convergence\n",
       "0               0       10     0  15260.805774  0.029972                False\n",
       "1               0       10     1  15511.876956  0.030401                False\n",
       "2               0       10     2  15628.890301  0.031680                False\n",
       "3               0       10     3  15698.222098  0.033345                False\n",
       "4               0       10     4  15728.848500  0.027752                False\n",
       "...           ...      ...   ...           ...       ...                  ...\n",
       "1032           14  5909906    86  15830.759796  0.018154                False\n",
       "1033           14  5909906    87  15830.834891  0.018506                False\n",
       "1034           14  5909906    88  15830.910087  0.018711                False\n",
       "1035           14  5909906    89  15830.984085  0.018209                False\n",
       "1036           14  5909906    90  15831.057981  0.018704                 True\n",
       "\n",
       "[1037 rows x 6 columns]"
      ]
     },
     "execution_count": 10,
     "metadata": {},
     "output_type": "execute_result"
    }
   ],
   "source": [
    "model.train_info"
   ]
  }
 ],
 "metadata": {
  "kernelspec": {
   "display_name": "Python 3 (ipykernel)",
   "language": "python",
   "name": "python3"
  },
  "language_info": {
   "codemirror_mode": {
    "name": "ipython",
    "version": 3
   },
   "file_extension": ".py",
   "mimetype": "text/x-python",
   "name": "python",
   "nbconvert_exporter": "python",
   "pygments_lexer": "ipython3",
   "version": "3.9.5"
  }
 },
 "nbformat": 4,
 "nbformat_minor": 1
}
