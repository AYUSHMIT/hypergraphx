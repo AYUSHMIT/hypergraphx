{
 "cells": [
  {
   "cell_type": "markdown",
   "metadata": {},
   "source": [
    "# TODO change some things once they are ready: import of hnx in first cell, and data loading below."
   ]
  },
  {
   "cell_type": "code",
   "execution_count": 1,
   "metadata": {
    "pycharm": {
     "name": "#%%\n"
    }
   },
   "outputs": [],
   "source": [
    "import sys\n",
    "\n",
    "import numpy as np\n",
    "\n",
    "sys.path.append(\"..\")\n",
    "from hnx.communities.hy_mmsbm.model import HyMMSBM\n",
    "from hnx.core.hypergraph import Hypergraph\n",
    "\n",
    "np.random.seed(123)"
   ]
  },
  {
   "cell_type": "markdown",
   "metadata": {},
   "source": [
    "# Training the *Hy-MMSBM* model"
   ]
  },
  {
   "cell_type": "markdown",
   "metadata": {},
   "source": [
    "In this tutorial, we will show how to train the *Hy-MMSBM* model on a given dataset."
   ]
  },
  {
   "cell_type": "markdown",
   "metadata": {},
   "source": [
    "# TODO change data loading once hnx module is available"
   ]
  },
  {
   "cell_type": "code",
   "execution_count": 2,
   "metadata": {},
   "outputs": [],
   "source": [
    "def line_to_hyperedge(line):\n",
    "    hye = line\n",
    "    hye = line.strip(\"\\n\")\n",
    "    hye = [int(node) for node in line.split(\" \")]\n",
    "    return hye\n",
    "\n",
    "# Load Justice dataset.\n",
    "with open(\"./_example_data/justice_data/hyperedges.txt\", \"r\") as hye_file:\n",
    "    with open(\"./_example_data/justice_data/weights.txt\", \"r\") as weight_file:\n",
    "        justice = Hypergraph([\n",
    "            line_to_hyperedge(hye)\n",
    "            for hye, weight in zip(hye_file.readlines(), weight_file.readlines())\n",
    "        ])"
   ]
  },
  {
   "cell_type": "markdown",
   "metadata": {},
   "source": [
    "## Model training"
   ]
  },
  {
   "cell_type": "markdown",
   "metadata": {},
   "source": [
    "Training the model simply requires specifying the number $K$ of communities and whether the model needs to be assortative."
   ]
  },
  {
   "cell_type": "code",
   "execution_count": 3,
   "metadata": {
    "pycharm": {
     "name": "#%%\n"
    }
   },
   "outputs": [
    {
     "name": "stdout",
     "output_type": "stream",
     "text": [
      "CPU times: user 265 ms, sys: 6.11 ms, total: 271 ms\n",
      "Wall time: 284 ms\n"
     ]
    }
   ],
   "source": [
    "%%time\n",
    "\n",
    "model = HyMMSBM(\n",
    "    K=2,\n",
    "    assortative=False,\n",
    ")\n",
    "model.fit(justice)"
   ]
  },
  {
   "cell_type": "markdown",
   "metadata": {},
   "source": [
    "After inference, the parameters can be retrieved as attributes of the model."
   ]
  },
  {
   "cell_type": "code",
   "execution_count": 4,
   "metadata": {
    "pycharm": {
     "name": "#%%\n"
    }
   },
   "outputs": [
    {
     "data": {
      "text/plain": [
       "array([[0.10145418, 1.79514088],\n",
       "       [0.3400343 , 0.24403764],\n",
       "       [0.04678807, 2.14195251],\n",
       "       [0.06057807, 0.01772415],\n",
       "       [0.27738008, 0.12582942]])"
      ]
     },
     "execution_count": 4,
     "metadata": {},
     "output_type": "execute_result"
    }
   ],
   "source": [
    "model.u[:5]"
   ]
  },
  {
   "cell_type": "code",
   "execution_count": 5,
   "metadata": {
    "pycharm": {
     "name": "#%%\n"
    }
   },
   "outputs": [
    {
     "data": {
      "text/plain": [
       "array([[ 5.72135364,  0.05072454],\n",
       "       [ 0.05072454, 12.33828876]])"
      ]
     },
     "execution_count": 5,
     "metadata": {},
     "output_type": "execute_result"
    }
   ],
   "source": [
    "model.w"
   ]
  },
  {
   "cell_type": "markdown",
   "metadata": {},
   "source": [
    "#### Additional training options\n",
    "\n",
    "Other options can be specified:\n",
    "- in the model initialization, one can specify:\n",
    "    - the maximum hyperedge size (which is otherwise inferred once a hypergraph is observed).\n",
    "    - the priors for $w$ and $u$, as rates of exponential distributions. These can be specified as non-negative numbers (priors equal to 0 correspond to no prior), or as numpy arrays if a non-uniform prior is expected.\n",
    "- at inference time, one can specify the number of EM steps.\n",
    "\n",
    "For example:"
   ]
  },
  {
   "cell_type": "code",
   "execution_count": 6,
   "metadata": {
    "pycharm": {
     "name": "#%%\n"
    }
   },
   "outputs": [],
   "source": [
    "model = HyMMSBM(\n",
    "    K=2,\n",
    "    assortative=True,\n",
    "    max_hye_size=15,\n",
    "    u_prior=1.,\n",
    "    w_prior=10.,\n",
    ")\n",
    "model.fit(\n",
    "    justice,\n",
    "    n_iter=500,\n",
    ")"
   ]
  },
  {
   "cell_type": "markdown",
   "metadata": {},
   "source": [
    "As a final option, if either $w$ or $u$ are provided at initialization, these are considered fixed parameters and will not be inferred. For example, one can fix the affinity matrix and only infer the community assigments $u$:"
   ]
  },
  {
   "cell_type": "code",
   "execution_count": 7,
   "metadata": {
    "pycharm": {
     "name": "#%%\n"
    }
   },
   "outputs": [],
   "source": [
    "fixed_w = np.eye(2)\n",
    "\n",
    "model = HyMMSBM(\n",
    "    K=2,\n",
    "    w=fixed_w,\n",
    "    u_prior=0.,\n",
    ")\n",
    "model.fit(\n",
    "    justice,\n",
    "    n_iter=500,\n",
    ")"
   ]
  },
  {
   "cell_type": "markdown",
   "metadata": {},
   "source": [
    "The matrix stays the same, but the communities assignments have been inferred normally:"
   ]
  },
  {
   "cell_type": "code",
   "execution_count": 8,
   "metadata": {
    "pycharm": {
     "name": "#%%\n"
    }
   },
   "outputs": [
    {
     "data": {
      "text/plain": [
       "True"
      ]
     },
     "execution_count": 8,
     "metadata": {},
     "output_type": "execute_result"
    }
   ],
   "source": [
    "model.w is fixed_w"
   ]
  },
  {
   "cell_type": "code",
   "execution_count": 9,
   "metadata": {
    "pycharm": {
     "name": "#%%\n"
    }
   },
   "outputs": [
    {
     "data": {
      "text/plain": [
       "array([[3.28212021e+000, 0.00000000e+000],\n",
       "       [6.96656148e-001, 0.00000000e+000],\n",
       "       [3.84578964e+000, 9.59825619e-182],\n",
       "       [7.26881107e-002, 0.00000000e+000],\n",
       "       [4.04444449e-001, 0.00000000e+000]])"
      ]
     },
     "execution_count": 9,
     "metadata": {},
     "output_type": "execute_result"
    }
   ],
   "source": [
    "model.u[:5]"
   ]
  }
 ],
 "metadata": {
  "kernelspec": {
   "display_name": "base",
   "language": "python",
   "name": "python3"
  },
  "language_info": {
   "codemirror_mode": {
    "name": "ipython",
    "version": 3
   },
   "file_extension": ".py",
   "mimetype": "text/x-python",
   "name": "python",
   "nbconvert_exporter": "python",
   "pygments_lexer": "ipython3",
   "version": "3.9.9"
  },
  "vscode": {
   "interpreter": {
    "hash": "a063a9d6d4095dba70f7d4a438ef288e94ffec589b0525f5b20de998ec61033a"
   }
  }
 },
 "nbformat": 4,
 "nbformat_minor": 1
}
