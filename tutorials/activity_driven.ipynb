{
 "cells": [
  {
   "cell_type": "code",
   "execution_count": 1,
   "metadata": {},
   "outputs": [],
   "source": [
    "import sys\n",
    "from collections import Counter\n",
    "\n",
    "import numpy as np\n",
    "import matplotlib.pyplot as plt\n",
    "\n",
    "sys.path.append(\"..\")\n",
    "from hypergraphx.communities.hy_mmsbm.model import HyMMSBM\n",
    "from hypergraphx.core.temporal_hypergraph import TemporalHypergraph\n",
    "from hypergraphx.generation.hy_mmsbm_sampling import HyMMSBMSampler\n",
    "from hypergraphx.linalg.linalg import *\n",
    "from hypergraphx.dynamics.randwalk import *\n",
    "import random"
   ]
  },
  {
   "cell_type": "code",
   "execution_count": 2,
   "metadata": {},
   "outputs": [],
   "source": [
    "def rnd_pwl(xmin, xmax, g, size=1):\n",
    "    r = np.random.random(size=size)\n",
    "    return (r*( xmax**(1.-g) - xmin**(1.-g) ) + xmin**(1.-g) )**(1./(1.-g))\n",
    "\n",
    "orders = [1,2,5]\n",
    "beta_act = 2.25\n",
    "eps = 0.001\n",
    "N = 100\n",
    "activities = rnd_pwl(eps, 1.0, beta_act, N) \n",
    "activities_per_order = {order: activities for order in orders}\n",
    "\n",
    "def HOADmodel(N: int,activities_per_order:dict, time=100) :\n",
    "    '''\n",
    "    Generate a temporal hypergraph according to the HOAD model.\n",
    "    \n",
    "    Parameters\n",
    "    ----------\n",
    "    N : int\n",
    "        The number of nodes in the hypergraph.\n",
    "        activities_per_order : dict\n",
    "        The dictionary of activities per order.\n",
    "        time : int\n",
    "        The number of time steps.\n",
    "        \n",
    "        Returns\n",
    "        -------\n",
    "        HG : TemporalHypergraph\n",
    "        The temporal hypergraph generated according to the HOAD model.\n",
    "        \n",
    "        '''\n",
    "    \n",
    "    hyperlinks = []\n",
    "    for order in activities_per_order.keys():\n",
    "        act_vect = activities_per_order[order]\n",
    "        for t in range(time):\n",
    "            for node_i in range(N):\n",
    "                if act_vect[node_i] > random.random():\n",
    "                    neigh_list = random.sample(range(N), order)\n",
    "                    neigh_list.append(node_i)\n",
    "                    if len(neigh_list) == len(set(neigh_list)):\n",
    "                        hyperlinks.append((t, tuple(neigh_list)))\n",
    "    HG = TemporalHypergraph(hyperlinks)\n",
    "    return HG"
   ]
  },
  {
   "cell_type": "code",
   "execution_count": 3,
   "metadata": {},
   "outputs": [],
   "source": [
    "HG = HOADmodel(N, activities_per_order, time=100)"
   ]
  },
  {
   "cell_type": "code",
   "execution_count": null,
   "metadata": {},
   "outputs": [
    {
     "data": {
      "text/plain": [
       "array([0.00185119, 0.00142425, 0.00163401, 0.00182444, 0.0010703 ,\n",
       "       0.00202868, 0.00254331, 0.00104176, 0.00112015, 0.00123271,\n",
       "       0.0012036 , 0.00110176, 0.00120063, 0.00117668, 0.00173533,\n",
       "       0.00161498, 0.00112464, 0.00111089, 0.00164975, 0.00211791,\n",
       "       0.00392803, 0.00635623, 0.00693532, 0.00161893, 0.00131981,\n",
       "       0.00171026, 0.02437883, 0.0019219 , 0.00655518, 0.00167991,\n",
       "       0.00987005, 0.002828  , 0.00350902, 0.00113489, 0.00113002,\n",
       "       0.00638143, 0.0018072 , 0.00111963, 0.00347395, 0.00149801,\n",
       "       0.00195374, 0.13549411, 0.00193572, 0.00132177, 0.00237239,\n",
       "       0.00103205, 0.00580191, 0.00302345, 0.00205508, 0.00102822,\n",
       "       0.00274129, 0.00275314, 0.0115894 , 0.00113087, 0.00216889,\n",
       "       0.00123166, 0.00174679, 0.00153705, 0.00316312, 0.00114176,\n",
       "       0.01493307, 0.00119095, 0.00131383, 0.00173803, 0.00168071,\n",
       "       0.00100423, 0.00136273, 0.00253116, 0.00138009, 0.0013192 ,\n",
       "       0.00316439, 0.00370183, 0.00345484, 0.00139328, 0.00169676,\n",
       "       0.005999  , 0.00422856, 0.00262952, 0.0020496 , 0.00329798,\n",
       "       0.00100264, 0.0015206 , 0.00235443, 0.00217885, 0.00843529,\n",
       "       0.0010806 , 0.00100514, 0.02320886, 0.00158242, 0.00241949,\n",
       "       0.00158298, 0.00253062, 0.00371547, 0.01245993, 0.001604  ,\n",
       "       0.00277166, 0.00107288, 0.00158522, 0.00285822, 0.00179968])"
      ]
     },
     "execution_count": 3,
     "metadata": {},
     "output_type": "execute_result"
    }
   ],
   "source": [
    "activities_per_order[1]"
   ]
  },
  {
   "cell_type": "code",
   "execution_count": null,
   "metadata": {},
   "outputs": [],
   "source": []
  }
 ],
 "metadata": {
  "kernelspec": {
   "display_name": "base",
   "language": "python",
   "name": "python3"
  },
  "language_info": {
   "codemirror_mode": {
    "name": "ipython",
    "version": 3
   },
   "file_extension": ".py",
   "mimetype": "text/x-python",
   "name": "python",
   "nbconvert_exporter": "python",
   "pygments_lexer": "ipython3",
   "version": "3.9.9"
  },
  "orig_nbformat": 4,
  "vscode": {
   "interpreter": {
    "hash": "a063a9d6d4095dba70f7d4a438ef288e94ffec589b0525f5b20de998ec61033a"
   }
  }
 },
 "nbformat": 4,
 "nbformat_minor": 2
}
