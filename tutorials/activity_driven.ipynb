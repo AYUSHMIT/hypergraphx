{
 "cells": [
  {
   "cell_type": "code",
   "execution_count": 1,
   "metadata": {},
   "outputs": [],
   "source": [
    "import sys\n",
    "from collections import Counter\n",
    "\n",
    "import numpy as np\n",
    "import matplotlib.pyplot as plt\n",
    "\n",
    "sys.path.append(\"..\")\n",
    "from hoinetx.communities.hy_mmsbm.model import HyMMSBM\n",
    "from hoinetx.core.hypergraph import Hypergraph\n",
    "from hoinetx.generation.hy_mmsbm_sampling import HyMMSBMSampler\n",
    "from hoinetx.linalg.linalg import *\n",
    "from hoinetx.dynamics.randwalk import *\n",
    "import random"
   ]
  },
  {
   "cell_type": "code",
   "execution_count": 2,
   "metadata": {},
   "outputs": [],
   "source": [
    "def rnd_pwl(xmin, xmax, g, size=1):\n",
    "    r = np.random.random(size=size)\n",
    "    return (r*( xmax**(1.-g) - xmin**(1.-g) ) + xmin**(1.-g) )**(1./(1.-g))\n",
    "\n",
    "orders = [1,2,5]\n",
    "beta_act = 2.25\n",
    "eps = 0.001\n",
    "N = 100\n",
    "activities = rnd_pwl(eps, 1.0, beta_act, N) \n",
    "activities_per_order = {order: activities for order in orders}\n",
    "\n",
    "def HOADmodel(N: int, orders:list,activities_per_order:dict, time=100) :\n",
    "    hyperlinks = []\n",
    "    for order in orders:\n",
    "        act_vect = activities_per_order[order]\n",
    "        for t in range(time):\n",
    "            for node_i in range(N):\n",
    "                if act_vect[node_i] > random.random():\n",
    "                    neigh_list = random.sample(range(N), order)\n",
    "                    neigh_list.append(node_i)\n",
    "                    if len(neigh_list) == len(set(neigh_list)):\n",
    "                        hyperlinks.append(neigh_list)\n",
    "\n",
    "    HG = Hypergraph(hyperlinks)\n",
    "    return HG"
   ]
  },
  {
   "cell_type": "code",
   "execution_count": 3,
   "metadata": {},
   "outputs": [],
   "source": [
    "HG = HOADmodel(N, orders, activities_per_order, time=100)"
   ]
  },
  {
   "cell_type": "code",
   "execution_count": 4,
   "metadata": {},
   "outputs": [
    {
     "data": {
      "text/plain": [
       "<hoinetx.core.hypergraph.Hypergraph at 0x120ce3940>"
      ]
     },
     "execution_count": 4,
     "metadata": {},
     "output_type": "execute_result"
    }
   ],
   "source": [
    "HG"
   ]
  },
  {
   "cell_type": "code",
   "execution_count": null,
   "metadata": {},
   "outputs": [],
   "source": []
  }
 ],
 "metadata": {
  "kernelspec": {
   "display_name": "Python 3",
   "language": "python",
   "name": "python3"
  },
  "language_info": {
   "codemirror_mode": {
    "name": "ipython",
    "version": 3
   },
   "file_extension": ".py",
   "mimetype": "text/x-python",
   "name": "python",
   "nbconvert_exporter": "python",
   "pygments_lexer": "ipython3",
   "version": "3.9.9"
  },
  "orig_nbformat": 4,
  "vscode": {
   "interpreter": {
    "hash": "aee8b7b246df8f9039afb4144a1f6fd8d2ca17a180786b69acc140d282b71a49"
   }
  }
 },
 "nbformat": 4,
 "nbformat_minor": 2
}
