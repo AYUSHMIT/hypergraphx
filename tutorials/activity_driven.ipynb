{
 "cells": [
  {
   "cell_type": "code",
   "execution_count": 1,
   "metadata": {},
   "outputs": [],
   "source": [
    "import sys\n",
    "from collections import Counter\n",
    "\n",
    "import numpy as np\n",
    "import matplotlib.pyplot as plt\n",
    "\n",
    "sys.path.append(\"..\")\n",
    "from hypergraphx.communities.hy_mmsbm.model import HyMMSBM\n",
    "from hypergraphx.core.temporal_hypergraph import TemporalHypergraph\n",
    "from hypergraphx.generation.hy_mmsbm_sampling import HyMMSBMSampler\n",
    "from hypergraphx.linalg.linalg import *\n",
    "from hypergraphx.dynamics.randwalk import *\n",
    "from hypergraphx.generation.activity_driven import *\n",
    "import random"
   ]
  },
  {
   "cell_type": "code",
   "execution_count": 2,
   "metadata": {},
   "outputs": [],
   "source": [
    "def rnd_pwl(xmin, xmax, g, size=1):\n",
    "    r = np.random.random(size=size)\n",
    "    return (r*( xmax**(1.-g) - xmin**(1.-g) ) + xmin**(1.-g) )**(1./(1.-g))\n",
    "\n",
    "orders = [1,2,5]\n",
    "beta_act = 2.25\n",
    "eps = 0.001\n",
    "N = 100\n",
    "activities = rnd_pwl(eps, 1.0, beta_act, N) \n",
    "activities_per_order = {order: activities for order in orders}"
   ]
  },
  {
   "cell_type": "code",
   "execution_count": 3,
   "metadata": {},
   "outputs": [],
   "source": [
    "HG = HOADmodel(N, activities_per_order, time=100)"
   ]
  },
  {
   "cell_type": "code",
   "execution_count": 4,
   "metadata": {},
   "outputs": [
    {
     "data": {
      "text/plain": [
       "array([0.0025113 , 0.0047446 , 0.00177743, 0.00119681, 0.00109146,\n",
       "       0.00161959, 0.00147317, 0.01183537, 0.05933501, 0.00231764,\n",
       "       0.00155352, 0.00329961, 0.00470391, 0.00343155, 0.00229731,\n",
       "       0.00112783, 0.00254595, 0.0036421 , 0.00150977, 0.00186096,\n",
       "       0.00108646, 0.00197504, 0.00122152, 0.00115736, 0.00305679,\n",
       "       0.00351317, 0.00209871, 0.0014504 , 0.00114374, 0.00190277,\n",
       "       0.00287675, 0.00172308, 0.00128231, 0.00317541, 0.00174743,\n",
       "       0.00612619, 0.00105626, 0.0018613 , 0.001064  , 0.00131685,\n",
       "       0.03349085, 0.05054232, 0.00124519, 0.0011737 , 0.00460696,\n",
       "       0.00173639, 0.00402066, 0.00295226, 0.0018886 , 0.00322632,\n",
       "       0.00125181, 0.04406655, 0.00687455, 0.0055252 , 0.00369557,\n",
       "       0.00129144, 0.00106653, 0.00135317, 0.0024914 , 0.00831848,\n",
       "       0.00277875, 0.0030049 , 0.00221745, 0.00418552, 0.00116219,\n",
       "       0.00326124, 0.00869321, 0.00183422, 0.01048923, 0.02417641,\n",
       "       0.00135633, 0.01831417, 0.05847626, 0.0010711 , 0.00193655,\n",
       "       0.00200531, 0.00415892, 0.00154756, 0.00116763, 0.00128957,\n",
       "       0.0017246 , 0.0013887 , 0.00128491, 0.00122262, 0.00229453,\n",
       "       0.00108087, 0.00122659, 0.02595546, 0.00125195, 0.00192507,\n",
       "       0.00356402, 0.00116872, 0.00258177, 0.00260937, 0.00135198,\n",
       "       0.00117002, 0.00266678, 0.00128874, 0.00138447, 0.00391301])"
      ]
     },
     "execution_count": 4,
     "metadata": {},
     "output_type": "execute_result"
    }
   ],
   "source": [
    "activities_per_order[1]"
   ]
  }
 ],
 "metadata": {
  "kernelspec": {
   "display_name": "base",
   "language": "python",
   "name": "python3"
  },
  "language_info": {
   "codemirror_mode": {
    "name": "ipython",
    "version": 3
   },
   "file_extension": ".py",
   "mimetype": "text/x-python",
   "name": "python",
   "nbconvert_exporter": "python",
   "pygments_lexer": "ipython3",
   "version": "3.9.9"
  },
  "orig_nbformat": 4,
  "vscode": {
   "interpreter": {
    "hash": "a063a9d6d4095dba70f7d4a438ef288e94ffec589b0525f5b20de998ec61033a"
   }
  }
 },
 "nbformat": 4,
 "nbformat_minor": 2
}
