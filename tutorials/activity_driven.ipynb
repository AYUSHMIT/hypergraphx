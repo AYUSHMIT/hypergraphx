{
 "cells": [
  {
   "cell_type": "code",
   "execution_count": 1,
   "metadata": {},
   "outputs": [],
   "source": [
    "import sys\n",
    "from collections import Counter\n",
    "\n",
    "import numpy as np\n",
    "import matplotlib.pyplot as plt\n",
    "\n",
    "sys.path.append(\"..\")\n",
    "from hypergraphx.communities.hy_mmsbm.model import HyMMSBM\n",
    "from hypergraphx.core.temporal_hypergraph import TemporalHypergraph\n",
    "from hypergraphx.generation.hy_mmsbm_sampling import HyMMSBMSampler\n",
    "from hypergraphx.linalg.linalg import *\n",
    "from hypergraphx.dynamics.randwalk import *\n",
    "import random"
   ]
  },
  {
   "cell_type": "code",
   "execution_count": 5,
   "metadata": {},
   "outputs": [],
   "source": [
    "def rnd_pwl(xmin, xmax, g, size=1):\n",
    "    r = np.random.random(size=size)\n",
    "    return (r*( xmax**(1.-g) - xmin**(1.-g) ) + xmin**(1.-g) )**(1./(1.-g))\n",
    "\n",
    "orders = [1,2,5]\n",
    "beta_act = 2.25\n",
    "eps = 0.001\n",
    "N = 100\n",
    "activities = rnd_pwl(eps, 1.0, beta_act, N) \n",
    "activities_per_order = {order: activities for order in orders}\n",
    "\n",
    "def HOADmodel(N: int,activities_per_order:dict, time=100) :\n",
    "    '''\n",
    "    Generate a temporal hypergraph according to the HOAD model.\n",
    "    \n",
    "    Parameters\n",
    "    ----------\n",
    "    N : int\n",
    "        The number of nodes in the hypergraph.\n",
    "        activities_per_order : dict\n",
    "        The dictionary of activities per order.\n",
    "        time : int\n",
    "        The number of time steps.\n",
    "        \n",
    "        Returns\n",
    "        -------\n",
    "        HG : TemporalHypergraph\n",
    "        The temporal hypergraph generated according to the HOAD model.\n",
    "        \n",
    "        '''\n",
    "    \n",
    "    hyperlinks = []\n",
    "    for order in activities_per_order.keys():\n",
    "        act_vect = activities_per_order[order]\n",
    "        for t in range(time):\n",
    "            for node_i in range(N):\n",
    "                if act_vect[node_i] > random.random():\n",
    "                    neigh_list = random.sample(range(N), order)\n",
    "                    neigh_list.append(node_i)\n",
    "                    if len(neigh_list) == len(set(neigh_list)):\n",
    "                        hyperlinks.append((t, tuple(neigh_list)))\n",
    "    HG = TemporalHypergraph(hyperlinks)\n",
    "    return HG"
   ]
  },
  {
   "cell_type": "code",
   "execution_count": 6,
   "metadata": {},
   "outputs": [],
   "source": [
    "HG = HOADmodel(N, activities_per_order, time=100)"
   ]
  },
  {
   "cell_type": "code",
   "execution_count": 7,
   "metadata": {},
   "outputs": [
    {
     "data": {
      "text/plain": [
       "array([0.00173221, 0.00574165, 0.00139927, 0.00139076, 0.00125426,\n",
       "       0.00475301, 0.00135398, 0.00126145, 0.00127034, 0.00141471,\n",
       "       0.00723426, 0.00105191, 0.00221226, 0.00134545, 0.0010968 ,\n",
       "       0.00433547, 0.00104616, 0.00469644, 0.01123317, 0.0748351 ,\n",
       "       0.00106762, 0.00154839, 0.0010317 , 0.00453868, 0.00353569,\n",
       "       0.00189328, 0.00436363, 0.00248081, 0.00208304, 0.00141012,\n",
       "       0.00898225, 0.00494739, 0.00698882, 0.00115846, 0.00706996,\n",
       "       0.00171587, 0.01774431, 0.00168291, 0.00161641, 0.00195394,\n",
       "       0.00133403, 0.00111191, 0.00130344, 0.00140042, 0.00404494,\n",
       "       0.00119534, 0.00280197, 0.00102909, 0.0042118 , 0.01932171,\n",
       "       0.00156919, 0.00137397, 0.00612438, 0.00491347, 0.00418529,\n",
       "       0.00259522, 0.00169784, 0.00109808, 0.00111927, 0.00166106,\n",
       "       0.00641477, 0.0073396 , 0.00271511, 0.00141535, 0.00541789,\n",
       "       0.00226418, 0.00120728, 0.02198374, 0.00331642, 0.00182512,\n",
       "       0.00280222, 0.00162347, 0.00598698, 0.00322815, 0.00291232,\n",
       "       0.00116686, 0.00132844, 0.00117708, 0.0037867 , 0.00102843,\n",
       "       0.00116089, 0.00222384, 0.02760948, 0.00487624, 0.005098  ,\n",
       "       0.00151534, 0.00127035, 0.00164932, 0.00205207, 0.00167256,\n",
       "       0.00261823, 0.00180495, 0.00104852, 0.00183381, 0.00247285,\n",
       "       0.00249758, 0.00138232, 0.00211936, 0.00105217, 0.00125211])"
      ]
     },
     "execution_count": 7,
     "metadata": {},
     "output_type": "execute_result"
    }
   ],
   "source": [
    "activities_per_order[1]"
   ]
  }
 ],
 "metadata": {
  "kernelspec": {
   "display_name": "base",
   "language": "python",
   "name": "python3"
  },
  "language_info": {
   "codemirror_mode": {
    "name": "ipython",
    "version": 3
   },
   "file_extension": ".py",
   "mimetype": "text/x-python",
   "name": "python",
   "nbconvert_exporter": "python",
   "pygments_lexer": "ipython3",
   "version": "3.9.9"
  },
  "orig_nbformat": 4,
  "vscode": {
   "interpreter": {
    "hash": "a063a9d6d4095dba70f7d4a438ef288e94ffec589b0525f5b20de998ec61033a"
   }
  }
 },
 "nbformat": 4,
 "nbformat_minor": 2
}
