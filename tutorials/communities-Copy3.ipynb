{
 "cells": [
  {
   "cell_type": "markdown",
   "metadata": {},
   "source": [
    "# Methods for defining the mesoscale structure of higher-order networks\n",
    "\n",
    "Here we show a variety of approaches for defining the mesoscale structure of higher-order networks. \n",
    "1) We provide an implementation of a spectral method, that we call **Hypergraph Spectral Clustering**, which recovers hard communities via hypergraph cut optimization: [\"_Learning with hypergraphs: Clustering, classification, and embedding\", Zhou D., Huang J., Schölkopf B._](https://proceedings.neurips.cc/paper/2006/file/dff8e9c2ac33381546d96deea9922999-Paper.pdf)\n",
    "\n",
    "2) We also implement different generative models able to extract overlapping communities and jointly infer hyperedges (**Hypergraph-MT**), allowing to capture a variety of mesoscale organizations, including both disassortative and assortative community structure (**Hy-MMSBM**): [_\"Inference of hyperedges and overlapping communities in hypergraphs\", Contisciani M., Battiston F., De Bacco_](https://www.nature.com/articles/s41467-022-34714-7) and [_\"Generalized inference of mesoscale structures in higher-order networks\", Ruggeri N., Contisciani M., Battiston F., De Bacco C._](https://arxiv.org/abs/2301.11226)\n",
    "\n",
    "3) Finally, we provide a method able to extract hyperlink communities, where interactions, and not system units, are clustered across different hypergraph modules. [TO UPDATE]"
   ]
  },
  {
   "cell_type": "code",
   "execution_count": 1,
   "metadata": {},
   "outputs": [],
   "source": [
    "%load_ext autoreload\n",
    "%autoreload 2"
   ]
  },
  {
   "cell_type": "code",
   "execution_count": 2,
   "metadata": {
    "pycharm": {
     "name": "#%%\n"
    }
   },
   "outputs": [],
   "source": [
    "# external\n",
    "import sys\n",
    "import random\n",
    "import time\n",
    "\n",
    "import numpy as np\n",
    "import pandas as pd\n",
    "import matplotlib.pyplot as plt\n",
    "\n",
    "# core python modules\n",
    "sys.path.append(\"..\")\n",
    "import hnx\n",
    "from hnx.core.hypergraph import Hypergraph\n",
    "from hnx.readwrite import load_hypergraph\n",
    "from hnx.utils import normalize_array, calculate_permutation_matrix\n",
    "from hnx.communities.hy_sc.model import HySC\n",
    "from hnx.communities.hypergraph_mt.model import HypergraphMT\n",
    "from hnx.communities.hy_mmsbm.model import HyMMSBM"
   ]
  },
  {
   "cell_type": "markdown",
   "metadata": {},
   "source": [
    "### Import the data"
   ]
  },
  {
   "cell_type": "code",
   "execution_count": 3,
   "metadata": {},
   "outputs": [
    {
     "name": "stdout",
     "output_type": "stream",
     "text": [
      "Hypergraph with 92 nodes and 788 edges.\n",
      "Distribution of hyperedge sizes: {2: 742, 3: 44, 4: 2}\n"
     ]
    }
   ],
   "source": [
    "dataset = 'workplace'\n",
    "H = load_hypergraph(f\"../test_data/{dataset}/{dataset}.pickle\", \"pickle\")\n",
    "print(H)"
   ]
  },
  {
   "cell_type": "code",
   "execution_count": 4,
   "metadata": {},
   "outputs": [],
   "source": [
    "K = 5  # number of communities\n",
    "seed = 20  # random seed\n",
    "n_realizations = 10  # number of realizations with different random initialization"
   ]
  },
  {
   "cell_type": "markdown",
   "metadata": {},
   "source": [
    "### 1) Train Hypergraph Spectral Clustering"
   ]
  },
  {
   "cell_type": "code",
   "execution_count": 5,
   "metadata": {},
   "outputs": [
    {
     "name": "stdout",
     "output_type": "stream",
     "text": [
      "CPU times: user 481 ms, sys: 175 ms, total: 656 ms\n",
      "Wall time: 204 ms\n"
     ]
    }
   ],
   "source": [
    "%%time\n",
    "\n",
    "model = HySC(\n",
    "    seed=seed, \n",
    "    n_realizations=n_realizations\n",
    ")\n",
    "u_HySC = model.fit(\n",
    "    H, \n",
    "    K=K, \n",
    "    weighted_L=False\n",
    ")"
   ]
  },
  {
   "cell_type": "markdown",
   "metadata": {},
   "source": [
    "### 2) Train Hypergraph-MT"
   ]
  },
  {
   "cell_type": "markdown",
   "metadata": {},
   "source": [
    "###### Note\n",
    "\n",
    "In this model you have the possibility to give extra parameters:\n",
    "```\n",
    "available_extra_params = [\n",
    "            \"fix_communities\",  # flag to keep the communities fixed\n",
    "            \"fix_w\",  # flag to keep the affinity matrix fixed\n",
    "            \"gammaU\",  # constant to regularize the communities\n",
    "            \"gammaW\",  # constant to regularize the affinity matrix\n",
    "            # initialize u with input array, stored file, or the solution of the Hypergraph Spectral Clustering\n",
    "            \"initialize_u0\",\n",
    "            \"initialize_w0\",  # initialize w with input array or from a stored file\n",
    "            \"out_inference\",  # flag to store the inferred parameters\n",
    "            \"out_folder\",  # path to store the output\n",
    "            \"end_file\",  # output file suffix\n",
    "        ]\n",
    "```"
   ]
  },
  {
   "cell_type": "code",
   "execution_count": 6,
   "metadata": {},
   "outputs": [],
   "source": [
    "max_iter = 500  # maximum number of EM iteration steps before aborting\n",
    "check_convergence_every = 1 # number of steps in between every convergence check\n",
    "normalizeU = False  # if True, then the membership matrix u is normalized such that every row sums to 1\n",
    "baseline_r0 = False  # if True, then for the first iteration u is initialized around the solution of the Hypergraph Spectral Clustering\n",
    "verbose = False  # flag to print details"
   ]
  },
  {
   "cell_type": "code",
   "execution_count": 7,
   "metadata": {
    "scrolled": true
   },
   "outputs": [
    {
     "name": "stdout",
     "output_type": "stream",
     "text": [
      "CPU times: user 17 s, sys: 77.4 ms, total: 17.1 s\n",
      "Wall time: 17.1 s\n"
     ]
    }
   ],
   "source": [
    "%%time\n",
    "\n",
    "model = HypergraphMT(\n",
    "    n_realizations=n_realizations, \n",
    "    max_iter=max_iter, \n",
    "    check_convergence_every=check_convergence_every, \n",
    "    verbose=verbose\n",
    ")\n",
    "u_HypergraphMT, w_HypergraphMT, _ = model.fit(H, \n",
    "                                               K=K, \n",
    "                                               seed=seed, \n",
    "                                               normalizeU=normalizeU, \n",
    "                                               baseline_r0=baseline_r0\n",
    "                                              )"
   ]
  },
  {
   "cell_type": "markdown",
   "metadata": {},
   "source": [
    "###### Remark\n",
    "\n",
    "Hypergraph-MT reduces the dimension of the affinity matrix $w$ and allows the feasibility of the model through the assortative assumption, such that a hyperedge is more likely to exist when all nodes in it belong to the same group. For this reason, the affinity matrix $w$ has dimension $D \\times K$, where $D$ is the maximum hyperedge size in the dataset and $K$ is the number of communities. In our experiment, we do not consider self-loops so tenchically it has dimension $(D-1) \\times K$.  Every entry $w_{dk}$ represents the propensity of interactions of size $d$ within entities of the same community $k$."
   ]
  },
  {
   "cell_type": "code",
   "execution_count": 8,
   "metadata": {
    "scrolled": true
   },
   "outputs": [
    {
     "data": {
      "text/plain": [
       "(3, 5)"
      ]
     },
     "execution_count": 8,
     "metadata": {},
     "output_type": "execute_result"
    }
   ],
   "source": [
    "w_HypergraphMT.shape"
   ]
  },
  {
   "cell_type": "code",
   "execution_count": 9,
   "metadata": {
    "scrolled": true
   },
   "outputs": [
    {
     "data": {
      "text/plain": [
       "array([[1.2130e+01, 1.6346e+01, 8.1090e+00, 6.1320e+00, 1.2244e+01],\n",
       "       [3.0000e-03, 3.4000e-02, 9.0000e-03, 3.0000e-03, 3.5000e-02],\n",
       "       [0.0000e+00, 0.0000e+00, 0.0000e+00, 0.0000e+00, 0.0000e+00]])"
      ]
     },
     "execution_count": 9,
     "metadata": {},
     "output_type": "execute_result"
    }
   ],
   "source": [
    "np.round(w_HypergraphMT, 3)"
   ]
  },
  {
   "cell_type": "markdown",
   "metadata": {},
   "source": [
    "### 3) Train Hy-MMSBM"
   ]
  },
  {
   "cell_type": "markdown",
   "metadata": {},
   "source": [
    "###### Note\n",
    "\n",
    "In this model you have the option to provide the membership matrix ```u``` and/or the affinity matrix ```w``` at initialization. If either of them are given, these are considered fixed parameters and will not be inferred. In addition, you can specify the maximum hyperedge size (```max_hye_size```), which is otherwise inferred once a hypergraph is observed. Furthermore, you can decide the priors for $u$ (```u_prior```) and $w$ (```w_prior```), as rates of exponential distributions. These can be specified as non-negative numbers (priors equal to 0 correspond to no prior), or as numpy arrays if a non-uniform prior is expected."
   ]
  },
  {
   "cell_type": "code",
   "execution_count": 10,
   "metadata": {},
   "outputs": [],
   "source": [
    "assortative = True  # whether the affinity matrix w is expected to be diagonal"
   ]
  },
  {
   "cell_type": "code",
   "execution_count": 12,
   "metadata": {
    "pycharm": {
     "name": "#%%\n"
    },
    "scrolled": true
   },
   "outputs": [
    {
     "name": "stdout",
     "output_type": "stream",
     "text": [
      "CPU times: user 4.7 s, sys: 27.3 ms, total: 4.73 s\n",
      "Wall time: 4.74 s\n"
     ]
    }
   ],
   "source": [
    "%%time\n",
    "np.random.seed(seed)\n",
    "random.seed(seed)\n",
    "    \n",
    "# Train some models with different random initializations, choose the best one in terms of likelihood\n",
    "best_model = None\n",
    "best_loglik = float(\"-inf\")\n",
    "for j in range(n_realizations):\n",
    "    model = HyMMSBM(\n",
    "        K=K, \n",
    "        assortative=assortative\n",
    "    )\n",
    "    model.fit(\n",
    "        H, \n",
    "        n_iter=max_iter\n",
    "    )\n",
    "\n",
    "    log_lik = model.log_likelihood(H)\n",
    "    if log_lik > best_loglik:\n",
    "        best_model = model\n",
    "        best_loglik = log_lik\n",
    "\n",
    "u_HyMMSBM = best_model.u\n",
    "w_HyMMSBM = best_model.w"
   ]
  },
  {
   "cell_type": "markdown",
   "metadata": {},
   "source": [
    "###### Remark\n",
    "\n",
    "Hy-MMSBM allows for a tractable and scalable inference by making use of a bilinear form. This allows to keep the dimension of the affinity matrix $w$ equal to $K \\times K$ and to let $w$ be free to capture different community structures, e.g., disassortative and assortative."
   ]
  },
  {
   "cell_type": "code",
   "execution_count": 13,
   "metadata": {
    "scrolled": true
   },
   "outputs": [
    {
     "data": {
      "text/plain": [
       "(5, 5)"
      ]
     },
     "execution_count": 13,
     "metadata": {},
     "output_type": "execute_result"
    }
   ],
   "source": [
    "w_HyMMSBM.shape"
   ]
  },
  {
   "cell_type": "code",
   "execution_count": 14,
   "metadata": {
    "scrolled": true
   },
   "outputs": [
    {
     "data": {
      "text/plain": [
       "array([[0.777, 0.   , 0.   , 0.   , 0.   ],\n",
       "       [0.   , 0.533, 0.   , 0.   , 0.   ],\n",
       "       [0.   , 0.   , 0.883, 0.   , 0.   ],\n",
       "       [0.   , 0.   , 0.   , 1.151, 0.   ],\n",
       "       [0.   , 0.   , 0.   , 0.   , 0.457]])"
      ]
     },
     "execution_count": 14,
     "metadata": {},
     "output_type": "execute_result"
    }
   ],
   "source": [
    "np.round(w_HyMMSBM, 3)\n",
    "# Note: the off-diagonal entries are zeros because we impose assortative=True"
   ]
  },
  {
   "cell_type": "markdown",
   "metadata": {},
   "source": [
    "### 4) "
   ]
  },
  {
   "cell_type": "code",
   "execution_count": 10,
   "metadata": {},
   "outputs": [],
   "source": [
    "# TODO"
   ]
  },
  {
   "cell_type": "markdown",
   "metadata": {},
   "source": [
    "### Analyse communities"
   ]
  },
  {
   "cell_type": "markdown",
   "metadata": {},
   "source": [
    "Workplace does not have ground truth communities, but it provides node metadata that describe the departments the nodes belong to. We use this information just as a reference for comparison."
   ]
  },
  {
   "cell_type": "code",
   "execution_count": 15,
   "metadata": {},
   "outputs": [],
   "source": [
    "departments = [H.get_meta(n)['classID'] for n in sorted(H.get_nodes())]\n",
    "u_ref = np.zeros(shape=(H.num_nodes(), K))\n",
    "for i in range(H.num_nodes()):\n",
    "    u_ref[i][departments[i]] = 1"
   ]
  },
  {
   "cell_type": "markdown",
   "metadata": {},
   "source": [
    "Let's now normalize by row the mixed-memberships inferred by Hypergraph-MT and Hy-MMSBM. "
   ]
  },
  {
   "cell_type": "code",
   "execution_count": 16,
   "metadata": {},
   "outputs": [],
   "source": [
    "u_HypergraphMT = normalize_array(u_HypergraphMT, axis=1)\n",
    "u_HyMMSBM = normalize_array(u_HyMMSBM, axis=1)"
   ]
  },
  {
   "cell_type": "markdown",
   "metadata": {},
   "source": [
    "Let's also permute the columns of the inferred membership matrices such that we have a higher correspondence with the reference."
   ]
  },
  {
   "cell_type": "code",
   "execution_count": 17,
   "metadata": {},
   "outputs": [],
   "source": [
    "P = calculate_permutation_matrix(u_ref=u_ref, u_pred=u_HySC)\n",
    "u_HySC = np.dot(u_HySC, P)\n",
    "\n",
    "P = calculate_permutation_matrix(u_ref=u_ref, u_pred=u_HypergraphMT)\n",
    "u_HypergraphMT = np.dot(u_HypergraphMT, P)\n",
    "\n",
    "P = calculate_permutation_matrix(u_ref=u_ref, u_pred=u_HyMMSBM)\n",
    "u_HyMMSBM = np.dot(u_HyMMSBM, P)"
   ]
  },
  {
   "cell_type": "markdown",
   "metadata": {},
   "source": [
    "Let's now visualize them."
   ]
  },
  {
   "cell_type": "code",
   "execution_count": 18,
   "metadata": {},
   "outputs": [],
   "source": [
    "params = {'legend.fontsize': '14',\n",
    "         'axes.labelsize': '14',\n",
    "         'axes.titlesize':'15',\n",
    "         'xtick.labelsize':'12',\n",
    "         'ytick.labelsize':'12'}\n",
    "plt.rcParams.update(params)"
   ]
  },
  {
   "cell_type": "code",
   "execution_count": 19,
   "metadata": {},
   "outputs": [
    {
     "data": {
      "image/png": "[encoded data removed]",
      "text/plain": [
       "<Figure size 1080x504 with 4 Axes>"
      ]
     },
     "metadata": {
      "needs_background": "light"
     },
     "output_type": "display_data"
    }
   ],
   "source": [
    "titles = ['Metadata', 'Hypergraph Spectral Clustering', 'Hypergraph-MT', 'Hy-MMSBM']\n",
    "\n",
    "fig, ax = plt.subplots(1, 4, figsize=(15, 7), sharey=True)\n",
    "\n",
    "ax[0].matshow(u_ref, aspect='auto', cmap='Blues')\n",
    "ax[0].set(\n",
    "    title='Metadata',\n",
    "    xticks=[0,1,2,3,4],\n",
    "    xticklabels = ['DISQ', 'DMCT', 'DSE', 'SFLE', 'SRH'],\n",
    "    yticks = [],\n",
    "    xlabel='Departments',\n",
    "    ylabel='Nodes',\n",
    ")\n",
    "\n",
    "ax[1].matshow(u_HySC, aspect='auto', cmap='Blues')\n",
    "ax[2].matshow(u_HypergraphMT, aspect='auto', cmap='Blues')\n",
    "ax[3].matshow(u_HyMMSBM, aspect='auto', cmap='Blues')\n",
    "\n",
    "for i in [1, 2, 3]:\n",
    "    ax[i].set(\n",
    "        title=titles[i],\n",
    "        yticks = [],\n",
    "        xlabel='Communities',\n",
    "    )\n",
    "\n",
    "for i in np.arange(4):\n",
    "    ax[i].tick_params(top=False, labeltop=False, bottom=True, labelbottom=True)\n",
    "\n",
    "\n",
    "plt.tight_layout()\n",
    "plt.show()"
   ]
  },
  {
   "cell_type": "code",
   "execution_count": null,
   "metadata": {},
   "outputs": [],
   "source": []
  },
  {
   "cell_type": "code",
   "execution_count": null,
   "metadata": {},
   "outputs": [],
   "source": []
  },
  {
   "cell_type": "code",
   "execution_count": null,
   "metadata": {},
   "outputs": [],
   "source": []
  },
  {
   "cell_type": "code",
   "execution_count": null,
   "metadata": {},
   "outputs": [],
   "source": []
  },
  {
   "cell_type": "code",
   "execution_count": null,
   "metadata": {},
   "outputs": [],
   "source": []
  },
  {
   "cell_type": "code",
   "execution_count": null,
   "metadata": {},
   "outputs": [],
   "source": []
  },
  {
   "cell_type": "markdown",
   "metadata": {},
   "source": [
    "# Q\n",
    "Vogliamo uniformare HySC, Hypergraph_MT con HyMMSBM? Per esempio, vogliamo mettere sempre n_realization fuori? vogliamo togliere l'opzione per salvare?"
   ]
  }
 ],
 "metadata": {
  "kernelspec": {
   "display_name": "Python 3",
   "language": "python",
   "name": "python3"
  },
  "language_info": {
   "codemirror_mode": {
    "name": "ipython",
    "version": 3
   },
   "file_extension": ".py",
   "mimetype": "text/x-python",
   "name": "python",
   "nbconvert_exporter": "python",
   "pygments_lexer": "ipython3",
   "version": "3.8.3"
  }
 },
 "nbformat": 4,
 "nbformat_minor": 1
}
