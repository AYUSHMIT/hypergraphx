{
 "cells": [
  {
   "cell_type": "code",
   "execution_count": 1,
   "metadata": {},
   "outputs": [],
   "source": [
    "import sys\n",
    "from collections import Counter\n",
    "\n",
    "import numpy as np\n",
    "import matplotlib.pyplot as plt\n",
    "\n",
    "sys.path.append(\"..\")\n",
    "from hoinetx.communities.hy_mmsbm.model import HyMMSBM\n",
    "from hoinetx.core.hypergraph import Hypergraph\n",
    "from hoinetx.generation.hy_mmsbm_sampling import HyMMSBMSampler\n",
    "from hoinetx.linalg.linalg import *\n",
    "\n",
    "np.random.seed(123)"
   ]
  },
  {
   "cell_type": "code",
   "execution_count": 2,
   "metadata": {},
   "outputs": [],
   "source": [
    "# generate list of list of nodes from 0 to 10 with random length from 2 to 5, all nodes in a list must be different and all lists inside the list must be unique\n",
    "def generate_random_hyperedges_list(num_hyperedges, num_nodes, min_hyperedge_size, max_hyperedge_size):\n",
    "    hyperedges_list = []\n",
    "    for i in range(num_hyperedges):\n",
    "        hyperedge = np.random.choice(num_nodes, np.random.randint(min_hyperedge_size, max_hyperedge_size + 1), replace=False)\n",
    "        hyperedges_list.append(hyperedge)\n",
    "    hyperedges_list = list(set(map(tuple, hyperedges_list)))\n",
    "    return hyperedges_list\n",
    "\n",
    "edges_list = generate_random_hyperedges_list(100, 10, 2, 5)\n",
    "\n",
    "#edges_list = list(set(edges_list))"
   ]
  },
  {
   "cell_type": "code",
   "execution_count": 3,
   "metadata": {},
   "outputs": [
    {
     "name": "stdout",
     "output_type": "stream",
     "text": [
      "Number of hlinks: 94\n",
      "True\n",
      "True\n"
     ]
    }
   ],
   "source": [
    "print(f'Number of hlinks: {len(edges_list) }')\n",
    "#check if all tuples are unique\n",
    "print(len(edges_list) == len(set(map(tuple, edges_list))))\n",
    "# check if all tuples in edge_list have unique elements\n",
    "print(all(len(set(edge)) == len(edge) for edge in edges_list))\n"
   ]
  },
  {
   "cell_type": "code",
   "execution_count": 4,
   "metadata": {},
   "outputs": [],
   "source": [
    "HG = Hypergraph(edges_list)"
   ]
  },
  {
   "cell_type": "code",
   "execution_count": 8,
   "metadata": {},
   "outputs": [],
   "source": [
    "# define a function called transition_matrix that given an object HG of this type hoinetx.core.hypergraph.Hypergraph returns K\n",
    "def transition_matrix(HG):\n",
    "    IM = incidence_matrix(HG).todense()\n",
    "    C = IM.T @ IM\n",
    "    #C_hat is just the diagonal of C\n",
    "    C_hat = np.diag(np.diag(C))\n",
    "\n",
    "    K = IM @ C_hat @ IM.T - A\n",
    "    # normalize K\n",
    "    \n",
    "    \n",
    "    \n",
    "    return K"
   ]
  },
  {
   "cell_type": "code",
   "execution_count": null,
   "metadata": {},
   "outputs": [],
   "source": [
    "# define a function called transition_matrix that given an object HG of this type hoinetx.core.hypergraph.Hypergraph returns K\n",
    "def transition_matrix(HG):\n",
    "    IM = incidence_matrix(HG).todense()\n",
    "    C = IM.T @ IM\n",
    "    #C_hat is just the diagonal of C\n",
    "    C_hat = np.diag(np.diag(C))\n",
    "\n",
    "    K = IM @ C_hat @ IM.T - A\n",
    "    # normalize K\n",
    "    \n",
    "    return K\n",
    "\n"
   ]
  },
  {
   "cell_type": "code",
   "execution_count": null,
   "metadata": {},
   "outputs": [],
   "source": [
    "plt.imshow(K, cmap='hot', interpolation='nearest')"
   ]
  },
  {
   "cell_type": "code",
   "execution_count": null,
   "metadata": {},
   "outputs": [],
   "source": [
    "len(HG.get_edges(order=3, subhypergraph=True) )"
   ]
  },
  {
   "cell_type": "code",
   "execution_count": null,
   "metadata": {},
   "outputs": [],
   "source": []
  }
 ],
 "metadata": {
  "kernelspec": {
   "display_name": "base",
   "language": "python",
   "name": "python3"
  },
  "language_info": {
   "codemirror_mode": {
    "name": "ipython",
    "version": 3
   },
   "file_extension": ".py",
   "mimetype": "text/x-python",
   "name": "python",
   "nbconvert_exporter": "python",
   "pygments_lexer": "ipython3",
   "version": "3.9.13"
  },
  "orig_nbformat": 4,
  "vscode": {
   "interpreter": {
    "hash": "a063a9d6d4095dba70f7d4a438ef288e94ffec589b0525f5b20de998ec61033a"
   }
  }
 },
 "nbformat": 4,
 "nbformat_minor": 2
}
