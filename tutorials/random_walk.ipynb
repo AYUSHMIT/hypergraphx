{
 "cells": [
  {
   "cell_type": "code",
   "execution_count": 1,
   "metadata": {},
   "outputs": [],
   "source": [
    "import sys\n",
    "from collections import Counter\n",
    "\n",
    "import numpy as np\n",
    "import matplotlib.pyplot as plt\n",
    "\n",
    "sys.path.append(\"..\")\n",
    "from hoinetx.communities.hy_mmsbm.model import HyMMSBM\n",
    "from hoinetx.core.hypergraph import Hypergraph\n",
    "from hoinetx.generation.hy_mmsbm_sampling import HyMMSBMSampler\n",
    "from hoinetx.linalg.linalg import *\n",
    "from hoinetx.dynamics.randwalk import *\n",
    "\n",
    "np.random.seed(123)"
   ]
  },
  {
   "cell_type": "code",
   "execution_count": 2,
   "metadata": {},
   "outputs": [],
   "source": [
    "# generate list of list of nodes from 0 to 10 with random length from 2 to 5, all nodes in a list must be different and all lists inside the list must be unique\n",
    "def generate_random_hyperedges_list(num_hyperedges, num_nodes, min_hyperedge_size, max_hyperedge_size):\n",
    "    hyperedges_list = []\n",
    "    for i in range(num_hyperedges):\n",
    "        hyperedge = np.random.choice(num_nodes, np.random.randint(min_hyperedge_size, max_hyperedge_size + 1), replace=False)\n",
    "        hyperedges_list.append(hyperedge)\n",
    "    hyperedges_list = list(set(map(tuple, hyperedges_list)))\n",
    "    return hyperedges_list\n",
    "\n",
    "edges_list = generate_random_hyperedges_list(200, 40, 2, 5)\n",
    "\n",
    "#edges_list = list(set(edges_list))"
   ]
  },
  {
   "cell_type": "code",
   "execution_count": 120,
   "metadata": {},
   "outputs": [
    {
     "name": "stdout",
     "output_type": "stream",
     "text": [
      "Number of hlinks: 200\n",
      "True\n",
      "True\n"
     ]
    }
   ],
   "source": [
    "print(f'Number of hlinks: {len(edges_list) }')\n",
    "#check if all tuples are unique\n",
    "print(len(edges_list) == len(set(map(tuple, edges_list))))\n",
    "# check if all tuples in edge_list have unique elements\n",
    "print(all(len(set(edge)) == len(edge) for edge in edges_list))\n"
   ]
  },
  {
   "cell_type": "code",
   "execution_count": 121,
   "metadata": {},
   "outputs": [],
   "source": [
    "HG = Hypergraph(edges_list)"
   ]
  },
  {
   "cell_type": "code",
   "execution_count": 5,
   "metadata": {},
   "outputs": [],
   "source": [
    "K = transition_matrix(HG).todense()"
   ]
  },
  {
   "cell_type": "code",
   "execution_count": 6,
   "metadata": {},
   "outputs": [
    {
     "name": "stdout",
     "output_type": "stream",
     "text": [
      "True\n"
     ]
    }
   ],
   "source": [
    "# check if K is stochastic\n",
    "print(np.allclose(np.sum(K, axis=0), np.ones(K.shape[0])))\n"
   ]
  },
  {
   "cell_type": "code",
   "execution_count": 108,
   "metadata": {},
   "outputs": [],
   "source": [
    "# define a function called random_walk that given an object HG of this type hoinetx.core.hypergraph.Hypergraph and a starting node s returns a list of nodes visited by the random walk\n",
    "def random_walk(HG : Hypergraph, s : int, time : int)->list:\n",
    "    '''Compute the random walk on the hypergraph.\n",
    "    \n",
    "    Parameters\n",
    "    ----------\n",
    "    HG : Hypergraph\n",
    "        The hypergraph on which the random walk is defined.\n",
    "    s : int\n",
    "        The starting node of the random walk.\n",
    "        \n",
    "    Returns\n",
    "    -------\n",
    "    nodes : list\n",
    "        The list of nodes visited by the random walk.\n",
    "    '''\n",
    "    K = np.array(transition_matrix(HG).todense() )\n",
    "    nodes = [s]\n",
    "    for t in range(time):\n",
    "        next_node = np.random.choice(K.shape[0], p=K[:, nodes[-1]])\n",
    "        nodes.append(next_node)\n",
    "    return nodes\n",
    "\n"
   ]
  },
  {
   "cell_type": "code",
   "execution_count": 122,
   "metadata": {},
   "outputs": [],
   "source": [
    "# find the stationary state of the random walk\n",
    "def RW_stationary_state(HG : Hypergraph)->np.ndarray:\n",
    "    '''Compute the stationary state of the random walk on the hypergraph.\n",
    "    \n",
    "    Parameters\n",
    "    ----------\n",
    "    HG : Hypergraph\n",
    "        The hypergraph on which the random walk is defined.\n",
    "        \n",
    "    Returns\n",
    "    -------\n",
    "    stationary_state : np.ndarray\n",
    "        The stationary state of the random walk on the hypergraph.\n",
    "    '''\n",
    "    K = np.array(transition_matrix(HG).todense() )\n",
    "    stationary_state = np.linalg.solve(np.eye(K.shape[0]) - K.T, np.ones(K.shape[0]))\n",
    "    stationary_state = stationary_state / np.sum(stationary_state)\n",
    "    return stationary_state\n"
   ]
  },
  {
   "cell_type": "code",
   "execution_count": 123,
   "metadata": {},
   "outputs": [
    {
     "data": {
      "text/plain": [
       "array([0.025, 0.025, 0.025, 0.025, 0.025, 0.025, 0.025, 0.025, 0.025,\n",
       "       0.025, 0.025, 0.025, 0.025, 0.025, 0.025, 0.025, 0.025, 0.025,\n",
       "       0.025, 0.025, 0.025, 0.025, 0.025, 0.025, 0.025, 0.025, 0.025,\n",
       "       0.025, 0.025, 0.025, 0.025, 0.025, 0.025, 0.025, 0.025, 0.025,\n",
       "       0.025, 0.025, 0.025, 0.025])"
      ]
     },
     "execution_count": 123,
     "metadata": {},
     "output_type": "execute_result"
    }
   ],
   "source": [
    "RW_stationary_state(HG)\n"
   ]
  },
  {
   "cell_type": "code",
   "execution_count": 118,
   "metadata": {},
   "outputs": [
    {
     "data": {
      "text/plain": [
       "10"
      ]
     },
     "execution_count": 118,
     "metadata": {},
     "output_type": "execute_result"
    }
   ],
   "source": [
    "HG.num_nodes()"
   ]
  },
  {
   "cell_type": "code",
   "execution_count": 26,
   "metadata": {},
   "outputs": [
    {
     "data": {
      "text/plain": [
       "matrix([[0.2459893 ],\n",
       "        [0.05614973],\n",
       "        [0.06951872],\n",
       "        [0.0855615 ],\n",
       "        [0.10160428],\n",
       "        [0.05882353],\n",
       "        [0.0828877 ],\n",
       "        [0.09625668],\n",
       "        [0.12032086],\n",
       "        [0.0828877 ]])"
      ]
     },
     "execution_count": 26,
     "metadata": {},
     "output_type": "execute_result"
    }
   ],
   "source": [
    "K[:, nodes[-1]]"
   ]
  },
  {
   "cell_type": "code",
   "execution_count": 28,
   "metadata": {},
   "outputs": [
    {
     "data": {
      "text/plain": [
       "[0, 8, 1]"
      ]
     },
     "execution_count": 28,
     "metadata": {},
     "output_type": "execute_result"
    }
   ],
   "source": [
    "nodes"
   ]
  },
  {
   "attachments": {},
   "cell_type": "markdown",
   "metadata": {},
   "source": [
    "# Model 3 large deviations"
   ]
  },
  {
   "cell_type": "code",
   "execution_count": 32,
   "metadata": {},
   "outputs": [],
   "source": [
    "from sklearn.preprocessing import normalize\n",
    "import networkx as nx\n",
    "import tqdm.notebook as tqdm\n",
    "def generate_P_fast_way(N,ntriangles ):\n",
    "    K = np.ones((N,N)) - np.identity(N)\n",
    "    if ntriangles >= round( (N-1)/2):\n",
    "        print(ntriangles, 'triangles...')\n",
    "        print('too many triangles!')\n",
    "        return 0\n",
    "    for i in range(ntriangles):\n",
    "        K[0][2*i+1] = 3\n",
    "        K[0][2*i+2] = 3\n",
    "        K[2*i+1][0] = 3\n",
    "        K[2*i+2][0] = 3\n",
    "        K[2*i+1][2*i+2] = 3\n",
    "        K[2*i+2][2*i+1] = 3\n",
    "\n",
    "    P = normalize(K, axis=1, norm='l1')\n",
    "    return P\n",
    "\n",
    "def generate_graph_fixed_triangles(N,ntriangles):\n",
    "    if ntriangles >= round( (N-1)/2):\n",
    "        print('too many triangles!')\n",
    "        return 0\n",
    "    #print(ntriangles, 'triangles...')\n",
    "    hedge_list = []\n",
    "    # possible nodes is a list of all adjacent pair not overlapping, e.g. [[1,2],[3,4]...]\n",
    "    possible_triangles = [[0,i,i+1] for i in range(1,N,2) ]\n",
    "   \n",
    "    for i in range(ntriangles):\n",
    "        hedge_list.append(possible_triangles[i])\n",
    "\n",
    "    G = nx.complete_graph(N, create_using=None)\n",
    "    link_list =list(G.edges() )\n",
    "    for link in link_list:\n",
    "        hedge_list.append([ link[0], link[1] ])\n",
    "    #print('generating incidence matrix...')\n",
    "    #print(hedge_list)\n",
    "\n",
    "    # Incidence matrix\n",
    "    e = np.zeros((N, len(hedge_list) ))\n",
    "    for c in range(len(hedge_list)):\n",
    "        for r in range(N):\n",
    "            if r in hedge_list[c]:\n",
    "                e[r][c] = 1\n",
    "\n",
    "\n",
    "\n",
    "    C = np.zeros(  (len(hedge_list), len(hedge_list) ) )\n",
    "    for alpha in tqdm.tqdm(range(len(hedge_list))):\n",
    "        for beta in range( alpha,len(hedge_list)):\n",
    "            C[alpha][beta] = sum( [e[i][alpha]*e[i][beta] for i in range(N) ] )\n",
    "            C[beta][alpha] =C[alpha][beta]\n",
    "\n",
    "    # Degree matrix\n",
    "    #print('generating degree matrix...')\n",
    "    K = np.zeros((N, N ))\n",
    "    for i in range(N):\n",
    "        for j in range(N):\n",
    "            if i != j:\n",
    "                K[i][j] = sum([(C[alpha][alpha] -1)*e[i][alpha]*e[j][alpha] for alpha in range(len(hedge_list)) ])\n",
    "\n",
    "\n",
    "    P = normalize(K, axis=1, norm='l1')\n",
    "    return P\n",
    "\n"
   ]
  },
  {
   "cell_type": "code",
   "execution_count": 39,
   "metadata": {},
   "outputs": [
    {
     "data": {
      "text/plain": [
       "499"
      ]
     },
     "execution_count": 39,
     "metadata": {},
     "output_type": "execute_result"
    }
   ],
   "source": [
    "P1 =generate_P_fast_way(1000, 499)\n",
    "# P2 = generate_graph_fixed_triangles(10, 4)\n",
    "# np.allclose(P1, P2)\n",
    "N = 1000\n",
    "possible_triangles = [[0,i,i+1] for i in range(1,N-1,2) ]\n",
    "len(possible_triangles)"
   ]
  },
  {
   "cell_type": "code",
   "execution_count": 31,
   "metadata": {},
   "outputs": [],
   "source": [
    "# model 3 incidence matrix\n",
    "N = 10\n",
    "ntriangles = 5\n",
    "hedge_list = []\n",
    "# possible nodes is a list of all adjacent pair not overlapping, e.g. [[1,2],[3,4]...]\n",
    "possible_triangles = [[0,i,i+1] for i in range(1,N,2) ]\n",
    "\n",
    "for i in range(ntriangles):\n",
    "    hedge_list.append(possible_triangles[i])\n",
    "\n",
    "G = nx.complete_graph(N, create_using=None)\n",
    "link_list =list(G.edges() )\n",
    "for link in link_list:\n",
    "    hedge_list.append([ link[0], link[1] ])"
   ]
  },
  {
   "cell_type": "code",
   "execution_count": 28,
   "metadata": {},
   "outputs": [
    {
     "data": {
      "text/plain": [
       "[[0, 1, 2], [0, 3, 4], [0, 5, 6], [0, 7, 8], [0, 9, 10]]"
      ]
     },
     "execution_count": 28,
     "metadata": {},
     "output_type": "execute_result"
    }
   ],
   "source": [
    "possible_triangles"
   ]
  },
  {
   "cell_type": "code",
   "execution_count": 20,
   "metadata": {},
   "outputs": [
    {
     "data": {
      "text/plain": [
       "[[0, 1, 2],\n",
       " [0, 3, 4],\n",
       " [0, 5, 6],\n",
       " [0, 7, 8],\n",
       " [0, 1],\n",
       " [0, 2],\n",
       " [0, 3],\n",
       " [0, 4],\n",
       " [0, 5],\n",
       " [0, 6],\n",
       " [0, 7],\n",
       " [0, 8],\n",
       " [0, 9],\n",
       " [1, 2],\n",
       " [1, 3],\n",
       " [1, 4],\n",
       " [1, 5],\n",
       " [1, 6],\n",
       " [1, 7],\n",
       " [1, 8],\n",
       " [1, 9],\n",
       " [2, 3],\n",
       " [2, 4],\n",
       " [2, 5],\n",
       " [2, 6],\n",
       " [2, 7],\n",
       " [2, 8],\n",
       " [2, 9],\n",
       " [3, 4],\n",
       " [3, 5],\n",
       " [3, 6],\n",
       " [3, 7],\n",
       " [3, 8],\n",
       " [3, 9],\n",
       " [4, 5],\n",
       " [4, 6],\n",
       " [4, 7],\n",
       " [4, 8],\n",
       " [4, 9],\n",
       " [5, 6],\n",
       " [5, 7],\n",
       " [5, 8],\n",
       " [5, 9],\n",
       " [6, 7],\n",
       " [6, 8],\n",
       " [6, 9],\n",
       " [7, 8],\n",
       " [7, 9],\n",
       " [8, 9]]"
      ]
     },
     "execution_count": 20,
     "metadata": {},
     "output_type": "execute_result"
    }
   ],
   "source": [
    "hedge_list"
   ]
  },
  {
   "cell_type": "code",
   "execution_count": 24,
   "metadata": {},
   "outputs": [
    {
     "data": {
      "text/plain": [
       "<matplotlib.image.AxesImage at 0x1c8893efbe0>"
      ]
     },
     "execution_count": 24,
     "metadata": {},
     "output_type": "execute_result"
    },
    {
     "data": {
      "image/png": "[encoded data removed]",
      "text/plain": [
       "<Figure size 1000x500 with 2 Axes>"
      ]
     },
     "metadata": {},
     "output_type": "display_data"
    }
   ],
   "source": [
    "HG = Hypergraph(hedge_list)\n",
    "K = transition_matrix(HG).todense()\n",
    "# plot a subfigures with imshow K and P1\n",
    "fig, ax = plt.subplots(1, 2, figsize=(10, 5))\n",
    "ax[0].imshow(K)\n",
    "ax[1].imshow(P1)\n",
    "\n"
   ]
  },
  {
   "cell_type": "code",
   "execution_count": null,
   "metadata": {},
   "outputs": [],
   "source": []
  }
 ],
 "metadata": {
  "kernelspec": {
   "display_name": "base",
   "language": "python",
   "name": "python3"
  },
  "language_info": {
   "codemirror_mode": {
    "name": "ipython",
    "version": 3
   },
   "file_extension": ".py",
   "mimetype": "text/x-python",
   "name": "python",
   "nbconvert_exporter": "python",
   "pygments_lexer": "ipython3",
   "version": "3.9.13"
  },
  "orig_nbformat": 4,
  "vscode": {
   "interpreter": {
    "hash": "a063a9d6d4095dba70f7d4a438ef288e94ffec589b0525f5b20de998ec61033a"
   }
  }
 },
 "nbformat": 4,
 "nbformat_minor": 2
}
